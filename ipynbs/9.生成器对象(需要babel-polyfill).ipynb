{
 "cells": [
  {
   "cell_type": "markdown",
   "metadata": {},
   "source": [
    "生成器generator是从其他语言中弄出来的新语法,和python一样,生成器的作用也是构造无限流和实现异步协程,异步部分会在后面细讲\n",
    "\n",
    "生成器的定义方式和function差不多,只是关键字function后面添个`*`号,return 改成 yield"
   ]
  },
  {
   "cell_type": "code",
   "execution_count": 1,
   "metadata": {
    "collapsed": false
   },
   "outputs": [
    {
     "data": {
      "text/plain": [
       "{}"
      ]
     },
     "execution_count": 1,
     "metadata": {},
     "output_type": "execute_result"
    }
   ],
   "source": [
    "import 'babel-polyfill'"
   ]
  },
  {
   "cell_type": "markdown",
   "metadata": {},
   "source": [
    "> 斐波那契数的生成器"
   ]
  },
  {
   "cell_type": "code",
   "execution_count": 26,
   "metadata": {
    "collapsed": false
   },
   "outputs": [
    {
     "data": {
      "text/plain": [
       "'use strict'"
      ]
     },
     "execution_count": 26,
     "metadata": {},
     "output_type": "execute_result"
    }
   ],
   "source": [
    "function* fib(N){\n",
    "    let n = 0\n",
    "    let first =0\n",
    "    let second = 1\n",
    "    let temp\n",
    "    while (n < N){\n",
    "        yield second\n",
    "        temp= first+second\n",
    "        first=second\n",
    "        second = temp\n",
    "        n +=1     \n",
    "    } \n",
    "    return second\n",
    "}"
   ]
  },
  {
   "cell_type": "code",
   "execution_count": 27,
   "metadata": {
    "collapsed": false
   },
   "outputs": [
    {
     "name": "stdout",
     "output_type": "stream",
     "text": [
      "1\n",
      "1\n",
      "2\n",
      "3\n",
      "5\n"
     ]
    },
    {
     "data": {
      "text/plain": [
       "undefined"
      ]
     },
     "execution_count": 27,
     "metadata": {},
     "output_type": "execute_result"
    }
   ],
   "source": [
    "for (var i of fib(5)) {\n",
    "    console.log(i)\n",
    "}"
   ]
  },
  {
   "cell_type": "markdown",
   "metadata": {},
   "source": [
    "## yield语句\n",
    "\n",
    "\n",
    "与python中一样,生成器中的yield其实起到一个暂停断点的作用,它的逻辑如下:\n",
    "\n",
    "\n",
    "+ 遇到yield语句，就暂停执行后面的操作，并将紧跟在yield后面的那个表达式的值，作为返回的对象的value属性值。\n",
    "+ 下一次调用next方法时，再继续往下执行，直到遇到下一个yield语句。\n",
    "+ 如果没有再遇到新的yield语句，就一直运行到函数结束，直到return语句为止，并将return语句后面的表达式的值，作为返回的对象的value属性值。\n",
    "+ 如果该函数没有return语句，则返回的对象的value属性值为undefined。\n",
    "\n",
    "需要注意的是，yield语句后面的表达式，只有当调用next方法、内部指针指向该语句时才会执行，和python一样,这是js的惰性求值（Lazy Evaluation）的主要实现。\n",
    "\n",
    "```javascript\n",
    "function* gen() {\n",
    "  yield  123 + 456\n",
    "}\n",
    "```\n",
    "上面代码中，yield后面的表达式123 + 456，不会立即求值，只会在next方法将指针移到这一句时，才会求值。\n",
    "\n",
    "可以从上面的规则看出,js的生成器可以不带yield,这也是和python中不同的地方,\n",
    "Generator不带yield语句，这时就变成了一个单纯的暂缓执行函数。"
   ]
  },
  {
   "cell_type": "code",
   "execution_count": 30,
   "metadata": {
    "collapsed": false
   },
   "outputs": [
    {
     "data": {
      "text/plain": [
       "{ _called: false,\n",
       "  _idleTimeout: 2000,\n",
       "  _idlePrev: \n",
       "   Timer {\n",
       "     '0': [Function: listOnTimeout],\n",
       "     _idleNext: [Circular],\n",
       "     _idlePrev: [Circular],\n",
       "     msecs: 2000 },\n",
       "  _idleNext: \n",
       "   Timer {\n",
       "     '0': [Function: listOnTimeout],\n",
       "     _idleNext: [Circular],\n",
       "     _idlePrev: [Circular],\n",
       "     msecs: 2000 },\n",
       "  _idleStart: 3303829,\n",
       "  _onTimeout: [Function],\n",
       "  _repeat: null }"
      ]
     },
     "execution_count": 30,
     "metadata": {},
     "output_type": "execute_result"
    },
    {
     "name": "stdout",
     "output_type": "stream",
     "text": [
      "执行了！\n"
     ]
    }
   ],
   "source": [
    "function* f() {\n",
    "  console.log('执行了！')\n",
    "}\n",
    "\n",
    "let generator = f()\n",
    "\n",
    "setTimeout(function () {\n",
    "  generator.next()\n",
    "},\n",
    "2000)"
   ]
  },
  {
   "cell_type": "markdown",
   "metadata": {},
   "source": [
    "上面代码中，函数f如果是普通函数，在为变量generator赋值时就会执行。但是，函数f是一个Generator函数，就变成只有调用next方法时，函数f才会执行。\n",
    "\n",
    "另外需要注意，yield语句不能用在普通函数中，否则会报错。\n",
    "\n",
    "\n",
    "下面是另外一个例子。"
   ]
  },
  {
   "cell_type": "code",
   "execution_count": 32,
   "metadata": {
    "collapsed": false
   },
   "outputs": [
    {
     "name": "stdout",
     "output_type": "stream",
     "text": [
      "1\n",
      "2\n",
      "3\n",
      "4\n",
      "5\n",
      "6\n"
     ]
    },
    {
     "data": {
      "text/plain": [
       "undefined"
      ]
     },
     "execution_count": 32,
     "metadata": {},
     "output_type": "execute_result"
    }
   ],
   "source": [
    "let arr = [1, [[2, 3], 4], [5, 6]];\n",
    "\n",
    "let flat = function* (a) {\n",
    "  let length = a.length;\n",
    "  for (let i = 0; i < length; i++) {\n",
    "    let item = a[i]\n",
    "    if (typeof item !== 'number') {\n",
    "      yield* flat(item)\n",
    "    } else {\n",
    "      yield item\n",
    "    }\n",
    "  }\n",
    "}\n",
    "\n",
    "for (let f of flat(arr)) {\n",
    "  console.log(f)\n",
    "}"
   ]
  },
  {
   "cell_type": "markdown",
   "metadata": {},
   "source": [
    "另外，yield语句如果用在一个表达式之中，必须放在圆括号里面。\n",
    "yield语句用作函数参数或赋值表达式的右边，可以不加括号。"
   ]
  },
  {
   "cell_type": "markdown",
   "metadata": {},
   "source": [
    "### yield*\n",
    "\n",
    "如果在Generater函数内部，调用另一个Generator函数，默认情况下是没有效果的。"
   ]
  },
  {
   "cell_type": "code",
   "execution_count": 19,
   "metadata": {
    "collapsed": false
   },
   "outputs": [
    {
     "name": "stdout",
     "output_type": "stream",
     "text": [
      "x\n",
      "y\n"
     ]
    },
    {
     "data": {
      "text/plain": [
       "undefined"
      ]
     },
     "execution_count": 19,
     "metadata": {},
     "output_type": "execute_result"
    }
   ],
   "source": [
    "function* foo() {\n",
    "  yield 'a'\n",
    "  yield 'b'\n",
    "}\n",
    "\n",
    "function* bar() {\n",
    "  yield 'x'\n",
    "  foo()\n",
    "  yield 'y'\n",
    "}\n",
    "\n",
    "for (let v of bar()){\n",
    "  console.log(v)\n",
    "}\n",
    "// \"x\"\n",
    "// \"y\"\n"
   ]
  },
  {
   "cell_type": "markdown",
   "metadata": {},
   "source": [
    "上面代码中，foo和bar都是Generator函数，在bar里面调用foo，是不会有效果的。\n",
    "\n",
    "这个就需要用到`yield*`语句，用来在一个Generator函数里面执行另一个Generator函数。\n"
   ]
  },
  {
   "cell_type": "code",
   "execution_count": 33,
   "metadata": {
    "collapsed": false
   },
   "outputs": [
    {
     "name": "stdout",
     "output_type": "stream",
     "text": [
      "x\n",
      "a\n",
      "b\n",
      "y\n"
     ]
    },
    {
     "data": {
      "text/plain": [
       "undefined"
      ]
     },
     "execution_count": 33,
     "metadata": {},
     "output_type": "execute_result"
    }
   ],
   "source": [
    "function* bar() {\n",
    "  yield 'x'\n",
    "  yield* foo()\n",
    "  yield 'y'\n",
    "}\n",
    "for (let v of bar()){\n",
    "  console.log(v)\n",
    "}\n"
   ]
  },
  {
   "cell_type": "markdown",
   "metadata": {},
   "source": [
    "`yield*`语句等同于在Generator函数内部，部署一个for...of循环,如果`yield*`后面跟着一个数组，由于数组原生支持遍历器，因此就会遍历数组成员,否则必须使用一个带Iterator接口的对象才行"
   ]
  },
  {
   "cell_type": "markdown",
   "metadata": {},
   "source": [
    "> 使用`yield*`语句遍历完全二叉树。"
   ]
  },
  {
   "cell_type": "code",
   "execution_count": 34,
   "metadata": {
    "collapsed": false
   },
   "outputs": [
    {
     "data": {
      "text/plain": [
       "[ 'a', 'b', 'c', 'd', 'e', 'f', 'g' ]"
      ]
     },
     "execution_count": 34,
     "metadata": {},
     "output_type": "execute_result"
    }
   ],
   "source": [
    "// 下面是二叉树的构造函数，\n",
    "// 三个参数分别是左树、当前节点和右树\n",
    "function Tree(left, label, right) {\n",
    "  this.left = left\n",
    "  this.label = label\n",
    "  this.right = right\n",
    "}\n",
    "\n",
    "// 下面是中序（inorder）遍历函数。\n",
    "// 由于返回的是一个遍历器，所以要用generator函数。\n",
    "// 函数体内采用递归算法，所以左树和右树要用yield*遍历\n",
    "function* inorder(t) {\n",
    "  if (t) {\n",
    "    yield* inorder(t.left)\n",
    "    yield t.label\n",
    "    yield* inorder(t.right)\n",
    "  }\n",
    "}\n",
    "\n",
    "// 下面生成二叉树\n",
    "function make(array) {\n",
    "  // 判断是否为叶节点\n",
    "  if (array.length == 1) return new Tree(null, array[0], null);\n",
    "  return new Tree(make(array[0]), array[1], make(array[2]));\n",
    "}\n",
    "let tree = make([[['a'], 'b', ['c']], 'd', [['e'], 'f', ['g']]]);\n",
    "\n",
    "// 遍历二叉树\n",
    "let result = []\n",
    "for (let node of inorder(tree)) {\n",
    "  result.push(node)\n",
    "}\n",
    "\n",
    "result"
   ]
  },
  {
   "cell_type": "markdown",
   "metadata": {},
   "source": [
    "### Generator函数的this\n",
    "\n",
    "Generator函数总是返回一个遍历器，ES6规定这个遍历器是Generator函数的实例，也继承了Generator函数的prototype对象上的方法。"
   ]
  },
  {
   "cell_type": "code",
   "execution_count": 35,
   "metadata": {
    "collapsed": false
   },
   "outputs": [
    {
     "name": "stdout",
     "output_type": "stream",
     "text": [
      "true\n",
      "hi!\n"
     ]
    },
    {
     "data": {
      "text/plain": [
       "undefined"
      ]
     },
     "execution_count": 35,
     "metadata": {},
     "output_type": "execute_result"
    }
   ],
   "source": [
    "function* g() {}\n",
    "\n",
    "g.prototype.hello = function () {\n",
    "  return 'hi!';\n",
    "};\n",
    "\n",
    "let obj = g();\n",
    "\n",
    "console.log(obj instanceof g) // true\n",
    "console.log(obj.hello()) // 'hi!'\n"
   ]
  },
  {
   "cell_type": "markdown",
   "metadata": {},
   "source": [
    "上面代码表明，Generator函数g返回的遍历器obj，是g的实例，而且继承了g.prototype。但是，如果把g当作普通的构造函数，并不会生效，因为g返回的总是遍历器对象，而不是this对象。"
   ]
  },
  {
   "cell_type": "code",
   "execution_count": 37,
   "metadata": {
    "collapsed": false
   },
   "outputs": [
    {
     "data": {
      "text/plain": [
       "undefined"
      ]
     },
     "execution_count": 37,
     "metadata": {},
     "output_type": "execute_result"
    }
   ],
   "source": [
    "function* g() {\n",
    "  this.a = 11\n",
    "}\n",
    "\n",
    "let obj = g()\n",
    "obj.a // undefined"
   ]
  },
  {
   "cell_type": "markdown",
   "metadata": {},
   "source": [
    "上面代码中，Generator函数g在this对象上面添加了一个属性a，但是obj对象拿不到这个属性。\n",
    "\n"
   ]
  },
  {
   "cell_type": "code",
   "execution_count": 41,
   "metadata": {
    "collapsed": false
   },
   "outputs": [
    {
     "data": {
      "text/plain": [
       "'use strict'"
      ]
     },
     "execution_count": 41,
     "metadata": {},
     "output_type": "execute_result"
    }
   ],
   "source": [
    "function* F(){\n",
    "  yield this.x = 2\n",
    "  yield this.y = 3\n",
    "}"
   ]
  },
  {
   "cell_type": "markdown",
   "metadata": {},
   "source": [
    "\n",
    "上面代码中，函数F是一个构造函数，又是一个Generator函数。这时，使用new命令就无法生成F的实例了，因为F返回的是一个内部指针。"
   ]
  },
  {
   "cell_type": "code",
   "execution_count": 42,
   "metadata": {
    "collapsed": false
   },
   "outputs": [
    {
     "data": {
      "text/plain": [
       "true"
      ]
     },
     "execution_count": 42,
     "metadata": {},
     "output_type": "execute_result"
    }
   ],
   "source": [
    "'next' in (new F())"
   ]
  },
  {
   "cell_type": "markdown",
   "metadata": {},
   "source": [
    "上面代码中，由于new F()返回的是一个Iterator对象，具有next方法，所以上面的表达式为true。\n",
    "\n",
    "\n",
    "如果要把Generator函数当作正常的构造函数使用，可以采用下面的变通方法。首先，生成一个空对象，使用bind方法绑定Generator函数内部的this。这样，构造函数调用以后，这个空对象就是Generator函数的实例对象了。"
   ]
  },
  {
   "cell_type": "code",
   "execution_count": 43,
   "metadata": {
    "collapsed": false
   },
   "outputs": [
    {
     "name": "stdout",
     "output_type": "stream",
     "text": [
      "{ value: 2, done: false }\n",
      "{ value: 3, done: false }\n",
      "{ value: undefined, done: true }\n"
     ]
    },
    {
     "data": {
      "text/plain": [
       "{ x: 2, y: 3 }"
      ]
     },
     "execution_count": 43,
     "metadata": {},
     "output_type": "execute_result"
    }
   ],
   "source": [
    "function* F(){\n",
    "  yield this.x = 2\n",
    "  yield this.y = 3\n",
    "}\n",
    "var obj = {}\n",
    "var f = F.bind(obj)()\n",
    "\n",
    "console.log(f.next())  // Object {value: 2, done: false}\n",
    "console.log(f.next()) // Object {value: 3, done: false}\n",
    "console.log(f.next())  // Object {value: undefined, done: true}\n",
    "\n",
    "obj // { x: 2, y: 3 }"
   ]
  },
  {
   "cell_type": "markdown",
   "metadata": {},
   "source": [
    "上面代码中，首先是F内部的this对象绑定obj对象，然后调用它，返回一个Iterator对象。这个对象执行三次next方法（因为F内部有两个yield语句），完成F内部所有代码的运行。这时，所有内部属性都绑定在obj对象上了，因此obj对象也就成了F的实例。"
   ]
  },
  {
   "cell_type": "markdown",
   "metadata": {},
   "source": [
    "### Generator对象的throw()\n",
    "\n",
    "Generator函数返回的遍历器对象，都有一个throw方法，可以在函数体外抛出错误，然后在Generator函数体内捕获。"
   ]
  },
  {
   "cell_type": "code",
   "execution_count": 44,
   "metadata": {
    "collapsed": false
   },
   "outputs": [
    {
     "name": "stdout",
     "output_type": "stream",
     "text": [
      "内部捕获 a\n",
      "外部捕获 b\n"
     ]
    },
    {
     "data": {
      "text/plain": [
       "undefined"
      ]
     },
     "execution_count": 44,
     "metadata": {},
     "output_type": "execute_result"
    }
   ],
   "source": [
    "let g = function* () {\n",
    "  try {\n",
    "    yield\n",
    "  } catch (e) {\n",
    "    console.log('内部捕获', e);\n",
    "  }\n",
    "}\n",
    "\n",
    "let i = g()\n",
    "i.next()\n",
    "\n",
    "try {\n",
    "  i.throw('a')\n",
    "  i.throw('b')\n",
    "} catch (e) {\n",
    "  console.log('外部捕获', e)\n",
    "}"
   ]
  },
  {
   "cell_type": "markdown",
   "metadata": {},
   "source": [
    "上面代码中，遍历器对象i连续抛出两个错误。第一个错误被Generator函数体内的catch语句捕获。i第二次抛出错误，由于Generator函数内部的catch语句已经执行过了，不会再捕捉到这个错误了，所以这个错误就被抛出了Generator函数体，被函数体外的catch语句捕获。\n",
    "\n",
    "注意，不要混淆遍历器对象的throw方法和全局的throw命令。上面代码的错误，是用遍历器对象的throw方法抛出的，而不是用throw命令抛出的。后者只能被函数体外的catch语句捕获。"
   ]
  },
  {
   "cell_type": "markdown",
   "metadata": {},
   "source": [
    "### Generator对象的return()\n",
    "\n",
    "Generator函数返回的遍历器对象，还有一个return方法，可以返回给定的值，并且终结遍历Generator函数。\n"
   ]
  },
  {
   "cell_type": "code",
   "execution_count": 46,
   "metadata": {
    "collapsed": false
   },
   "outputs": [
    {
     "name": "stdout",
     "output_type": "stream",
     "text": [
      "{ value: 1, done: false }\n",
      "{ value: 'foo', done: true }\n",
      "{ value: undefined, done: true }\n"
     ]
    },
    {
     "data": {
      "text/plain": [
       "undefined"
      ]
     },
     "execution_count": 46,
     "metadata": {},
     "output_type": "execute_result"
    }
   ],
   "source": [
    "function* gen() {\n",
    "  yield 1;\n",
    "  yield 2;\n",
    "  yield 3;\n",
    "}\n",
    "\n",
    "var g = gen();\n",
    "\n",
    "console.log(g.next())        // { value: 1, done: false }\n",
    "console.log(g.return(\"foo\")) // { value: \"foo\", done: true }\n",
    "console.log(g.next())      // { value: undefined, done: true }"
   ]
  },
  {
   "cell_type": "markdown",
   "metadata": {},
   "source": [
    "## 作为对象属性的Generator函数\n",
    "\n",
    "如果一个对象的属性是Generator函数，可以简写成下面的形式\n",
    "\n",
    "```javascript\n",
    "let obj = {\n",
    "  * myGeneratorMethod() {\n",
    "    ···\n",
    "  }\n",
    "}\n",
    "```\n",
    "\n",
    "上面代码中，myGeneratorMethod属性前面有一个星号，表示这个属性是一个Generator函数。\n",
    "\n",
    "完整的写法是:\n",
    "\n",
    "```javascript\n",
    "let obj = {\n",
    "  myGeneratorMethod: function* () {\n",
    "    // ···\n",
    "  }\n",
    "}\n",
    "```"
   ]
  },
  {
   "cell_type": "markdown",
   "metadata": {},
   "source": [
    "# 与Iterator接口的关系\n",
    "任意一个对象的Symbol.iterator方法，等于该对象的遍历器对象生成函数，调用该函数会返回该对象的一个遍历器对象。\n",
    "\n",
    "遍历器对象本身也有Symbol.iterator方法，执行后返回自身。"
   ]
  },
  {
   "cell_type": "code",
   "execution_count": 5,
   "metadata": {
    "collapsed": false
   },
   "outputs": [
    {
     "data": {
      "text/plain": [
       "true"
      ]
     },
     "execution_count": 5,
     "metadata": {},
     "output_type": "execute_result"
    }
   ],
   "source": [
    "function* gen(){\n",
    "  // some code\n",
    "}\n",
    "var g = gen();\n",
    "g[Symbol.iterator]() === g\n",
    "// true"
   ]
  },
  {
   "cell_type": "markdown",
   "metadata": {},
   "source": [
    "上面代码中，gen是一个Generator函数，调用它会生成一个遍历器对象g。它的Symbol.iterator属性，也是一个遍历器对象生成函数，执行后返回它自己。"
   ]
  },
  {
   "cell_type": "markdown",
   "metadata": {},
   "source": [
    "## next方法的参数\n",
    "\n",
    "yield句本身没有返回值，或者说总是返回undefined。next方法可以带一个参数，该参数就会被当作上一个yield语句的返回值。"
   ]
  },
  {
   "cell_type": "code",
   "execution_count": 6,
   "metadata": {
    "collapsed": false
   },
   "outputs": [
    {
     "name": "stdout",
     "output_type": "stream",
     "text": [
      "{ value: 0, done: false }\n",
      "{ value: 1, done: false }\n",
      "{ value: 0, done: false }\n"
     ]
    },
    {
     "data": {
      "text/plain": [
       "undefined"
      ]
     },
     "execution_count": 6,
     "metadata": {},
     "output_type": "execute_result"
    }
   ],
   "source": [
    "function* f() {\n",
    "  for(var i=0; true; i++) {\n",
    "    var reset = yield i;\n",
    "    if(reset) { i = -1; }\n",
    "  }\n",
    "}\n",
    "\n",
    "var g = f();\n",
    "\n",
    "console.log(g.next()) // { value: 0, done: false }\n",
    "console.log(g.next()) // { value: 1, done: false }\n",
    "console.log(g.next(true)) // { value: 0, done: false }"
   ]
  },
  {
   "cell_type": "markdown",
   "metadata": {},
   "source": [
    "上面代码先定义了一个可以无限运行的Generator函数f，如果next方法没有参数，每次运行到yield语句，变量reset的值总是undefined。当next方法带一个参数true时，当前的变量reset就被重置为这个参数（即true），因此i会等于-1，下一轮循环就会从-1开始递增。\n",
    "\n",
    "这个功能有很重要的语法意义。Generator函数从暂停状态到恢复运行，它的上下文状态（context）是不变的。通过next方法的参数，就有办法在Generator函数开始运行之后，继续向函数体内部注入值。也就是说，可以在Generator函数运行的不同阶段，从外部向内部注入不同的值，从而调整函数行为。"
   ]
  },
  {
   "cell_type": "code",
   "execution_count": 8,
   "metadata": {
    "collapsed": false
   },
   "outputs": [
    {
     "name": "stdout",
     "output_type": "stream",
     "text": [
      "{ value: 6, done: false }\n",
      "{ value: NaN, done: false }\n",
      "{ value: NaN, done: true }\n",
      "{ value: 6, done: false }\n",
      "{ value: 8, done: false }\n",
      "{ value: 42, done: true }\n"
     ]
    },
    {
     "data": {
      "text/plain": [
       "undefined"
      ]
     },
     "execution_count": 8,
     "metadata": {},
     "output_type": "execute_result"
    }
   ],
   "source": [
    "function* foo(x) {\n",
    "  var y = 2 * (yield (x + 1));\n",
    "  var z = yield (y / 3);\n",
    "  return (x + y + z);\n",
    "}\n",
    "\n",
    "var a = foo(5);\n",
    "console.log(a.next()) // Object{value:6, done:false}\n",
    "console.log(a.next()) // Object{value:NaN, done:false}\n",
    "console.log(a.next()) // Object{value:NaN, done:true}\n",
    "\n",
    "var b = foo(5);\n",
    "console.log(b.next()) // { value:6, done:false }\n",
    "console.log(b.next(12)) // { value:8, done:false }\n",
    "console.log(b.next(13)) // { value:42, done:true }"
   ]
  },
  {
   "cell_type": "markdown",
   "metadata": {},
   "source": [
    "上面代码中，第二次运行next方法的时候不带参数，导致y的值等于2 * undefined（即NaN），除以3以后还是NaN，因此返回对象的value属性也等于NaN。第三次运行Next方法的时候不带参数，所以z等于undefined，返回对象的value属性等于5 + NaN + undefined，即NaN。\n",
    "\n",
    "如果向next方法提供参数，返回结果就完全不一样了。上面代码第一次调用b的next方法时，返回x+1的值6；第二次调用next方法，将上一次yield语句的值设为12，因此y等于24，返回y / 3的值8；第三次调用next方法，将上一次yield语句的值设为13，因此z等于13，这时x等于5，y等于24，所以return语句的值等于42。\n",
    "\n",
    "**注意，由于next方法的参数表示上一个yield语句的返回值，所以第一次使用next方法时，不能带有参数。V8引擎直接忽略第一次使用next方法时的参数，只有从第二次使用next方法开始，参数才是有效的。从语义上讲，第一个next方法用来启动遍历器对象，所以不用带有参数。**\n",
    "\n",
    "如果想要第一次调用next方法时，就能够输入值，可以在Generator函数外面再包一层。"
   ]
  },
  {
   "cell_type": "code",
   "execution_count": 9,
   "metadata": {
    "collapsed": false
   },
   "outputs": [
    {
     "name": "stdout",
     "output_type": "stream",
     "text": [
      "First input: hello!\n"
     ]
    },
    {
     "data": {
      "text/plain": [
       "{ value: 'DONE', done: true }"
      ]
     },
     "execution_count": 9,
     "metadata": {},
     "output_type": "execute_result"
    }
   ],
   "source": [
    "function wrapper(generatorFunction) {\n",
    "  return function (...args) {\n",
    "    let generatorObject = generatorFunction(...args);\n",
    "    generatorObject.next();\n",
    "    return generatorObject;\n",
    "  };\n",
    "}\n",
    "\n",
    "const wrapped = wrapper(function* () {\n",
    "  console.log(`First input: ${yield}`);\n",
    "  return 'DONE';\n",
    "});\n",
    "\n",
    "wrapped().next('hello!')"
   ]
  },
  {
   "cell_type": "markdown",
   "metadata": {},
   "source": [
    "上面代码中，Generator函数如果不用wrapper先包一层，是无法第一次调用next方法，就输入参数的。"
   ]
  },
  {
   "cell_type": "code",
   "execution_count": 10,
   "metadata": {
    "collapsed": false
   },
   "outputs": [
    {
     "name": "stdout",
     "output_type": "stream",
     "text": [
      "Started\n",
      "1. a\n",
      "2. b\n"
     ]
    },
    {
     "data": {
      "text/plain": [
       "{ value: 'result', done: true }"
      ]
     },
     "execution_count": 10,
     "metadata": {},
     "output_type": "execute_result"
    }
   ],
   "source": [
    "function* dataConsumer() {\n",
    "  console.log('Started');\n",
    "  console.log(`1. ${yield}`);\n",
    "  console.log(`2. ${yield}`);\n",
    "  return 'result';\n",
    "}\n",
    "\n",
    "let genObj = dataConsumer();\n",
    "genObj.next();\n",
    "// Started\n",
    "genObj.next('a')\n",
    "// 1. a\n",
    "genObj.next('b')\n",
    "// 2. b"
   ]
  },
  {
   "cell_type": "markdown",
   "metadata": {},
   "source": [
    "上面代码是一个很直观的例子，每次通过next方法向Generator函数输入值，然后打印出来。"
   ]
  }
 ],
 "metadata": {
  "kernelspec": {
   "display_name": "Babel (Node.js)",
   "language": "babel",
   "name": "babel"
  },
  "language_info": {
   "file_extension": "js",
   "mimetype": "application/javascript",
   "name": "javascript",
   "version": "4.4.3"
  }
 },
 "nbformat": 4,
 "nbformat_minor": 0
}
