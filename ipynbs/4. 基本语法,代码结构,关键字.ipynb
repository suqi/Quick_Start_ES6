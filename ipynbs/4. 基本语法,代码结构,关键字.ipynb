{
 "cells": [
  {
   "cell_type": "markdown",
   "metadata": {},
   "source": [
    "# 注释\n",
    "\n",
    "\n",
    "Js沿用C和Java的注释风格,\n",
    "\n",
    "+ 单行注释\n",
    "\n",
    "    ```javascript\n",
    "    //这是单行注释\n",
    "    ```\n",
    "    \n",
    "+ 块注释\n",
    "\n",
    "    ```js\n",
    "    /*\n",
    "    这是块注释\n",
    "    */\n",
    "    ```\n",
    "    \n",
    "为了更好的输出文档,建议块注释使用EsDoc的规范写\n",
    "\n",
    "```js\n",
    "/**\n",
    "*这是块注释\n",
    "*/\n",
    "```\n"
   ]
  },
  {
   "cell_type": "markdown",
   "metadata": {},
   "source": [
    "# 代码结构\n",
    "\n",
    "Js的代码结构类似C和java\n",
    "\n",
    "+ 使用`;`或者换行表示语句结束\n",
    "+ 使用`{}`包裹代码块\n",
    "\n",
    "\n"
   ]
  },
  {
   "cell_type": "markdown",
   "metadata": {},
   "source": [
    "# 关键字\n",
    "\n",
    "关键字|说明|关键字|说明|关键字|说明\n",
    "---|---|---|---|---|---\n",
    "break|循环跳出\t|do|do..while|instanceof|识别类型\n",
    "typeof|识别类型(历史遗留)|case|switch...case...default|else|if...else\t\n",
    "new\t|创建新对象|var|创建变量(历史遗留)|catch|try...catch...finally\n",
    "finally\t|try...catch...finally|return\t|function的返回值|void|无论void后的表达式是什么，void操作符都会返回undefined. \n",
    "continue|进入下次循环\t|for\t|for循环|switch|switch...case...default\n",
    "while|while和do...while循环|debugger|保留字|function|定义函数和方法\t\n",
    "this|对象自身|with|with语句(历史遗留)|default|switch...case...default\n",
    "if|if...else语句|throw|抛出一个异常|delete|消除对象\n",
    "in\t|for ...in|try\t |try...catch...finally|abstract|保留\n",
    "arguments|\t函数中存放传入参数的对象|boolean|布尔值|byte|字节\n",
    "char|字符(保留字)|class|\t类|const|常数\n",
    "double|双精度浮点数\t(保留字)\t|enum|保留|eval|字符串做代码运行\n",
    "export|模块对外暴露|extends|继承|false|布尔值中的假\n",
    "final\t|保留字|float|浮点数(保留字)|goto\t|跳转\t\n",
    "implements |保留字|import\t|模块导入|int\t|整型数(保留字)\n",
    "interface|保留字|let\t|定义变量|long\t|长整型(保留字)\n",
    "native\t|保留字|null|空对象|package\t|保留字\n",
    "private\t|保留字|protected|保留字\t|public\t|保留字\n",
    "short\t|短整型(保留字)|static\t|静态声明|super |父类实例化\n",
    "synchronized|保留字|throws\t|保留字|transient\t|保留字\n",
    "true|真值|volatile|保留字|yield|生成器用关键字\n",
    "function\\*|生成器用关键字|async function|async关键字|await |async关键字"
   ]
  },
  {
   "cell_type": "markdown",
   "metadata": {},
   "source": [
    "## 控制台输出\n",
    "\n",
    "在Chrome或者node.js中还有一个常用的对象就是控制台对象\n",
    "\n",
    "+ 显示log信息console.log(x)\n",
    "+ 一般信息console.info(x)\n",
    "+ 除错信息console.debug(x)\n",
    "+ 警告提示console.warn(x) \n",
    "+ 错误提示console.error(x)\n",
    "\n",
    "\n",
    "这个就像python中的print差不多,多用于调试"
   ]
  },
  {
   "cell_type": "markdown",
   "metadata": {},
   "source": [
    "> 一个典型的ES6代码例子:"
   ]
  },
  {
   "cell_type": "code",
   "execution_count": 4,
   "metadata": {
    "collapsed": false
   },
   "outputs": [
    {
     "name": "stdout",
     "output_type": "stream",
     "text": [
      "hello world\n"
     ]
    },
    {
     "data": {
      "text/plain": [
       "undefined"
      ]
     },
     "execution_count": 4,
     "metadata": {},
     "output_type": "execute_result"
    }
   ],
   "source": [
    "\n",
    "function main(){\n",
    "    let x = \"hello world\"\n",
    "    console.log(x)\n",
    "}\n",
    "main()"
   ]
  }
 ],
 "metadata": {
  "kernelspec": {
   "display_name": "Babel (Node.js)",
   "language": "babel",
   "name": "babel"
  },
  "language_info": {
   "file_extension": "js",
   "mimetype": "application/javascript",
   "name": "javascript",
   "version": "4.2.4"
  }
 },
 "nbformat": 4,
 "nbformat_minor": 0
}
