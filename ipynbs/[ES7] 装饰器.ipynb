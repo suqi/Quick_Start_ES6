{
 "cells": [
  {
   "cell_type": "markdown",
   "metadata": {},
   "source": [
    "在python中一种元编程的方式是装饰器(一种闭包的语法糖),通过它可以实现用清晰的类似注释一样的文字实现功能,ES7中将会实现这一特性,现在babel可以通过第三放插件实现:\n",
    "\n",
    "    npm install babel-plugin-transform-decorators-legacy\n",
    "    \n",
    "    \n",
    "babel设置\n",
    "\n",
    "    {\n",
    "      \"plugins\": [\"transform-decorators\"]\n",
    "    }\n",
    "\n",
    "\n",
    "\n",
    "```js\n",
    "function testable(target) {\n",
    "  target.isTestable = true;\n",
    "}\n",
    "\n",
    "@testable\n",
    "class MyTestableClass {}\n",
    "\n",
    "console.log(MyTestableClass.isTestable)\n",
    "\n",
    "```"
   ]
  }
 ],
 "metadata": {
  "kernelspec": {
   "display_name": "Babel (Node.js)",
   "language": "babel",
   "name": "babel"
  },
  "language_info": {
   "file_extension": "js",
   "mimetype": "application/javascript",
   "name": "javascript",
   "version": "4.2.4"
  }
 },
 "nbformat": 4,
 "nbformat_minor": 0
}
