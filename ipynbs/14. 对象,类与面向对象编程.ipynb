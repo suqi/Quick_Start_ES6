{
 "cells": [
  {
   "cell_type": "markdown",
   "metadata": {},
   "source": [
    "Js与java不同,它是真正的面向对象编程(java是面向类型编程).\n",
    "\n",
    "其实正经说js的叫做原型编程模型\n",
    "\n",
    "JS的设计者认为对象之间的相似性可以让面向对象的继承得到简化,通过直接复制一个与自己类似的对象,稍作修改就可以实现自己的对象了,真是朴素哇\n",
    "\n",
    "我们要创建一个新的商品叫莎士比亚全集,那我们直接拿书做原型就行了\n",
    "\n",
    "如我们前面说了那么多的特殊对象,他们就是原型,使用他们的时候本质上就是用new关键字做一份原型的拷贝对象"
   ]
  },
  {
   "cell_type": "markdown",
   "metadata": {},
   "source": [
    "# 对象\n",
    "\n",
    "在python中我们想要一个对象必须先定义类,然后再对它实例化,而js中不需要"
   ]
  },
  {
   "cell_type": "code",
   "execution_count": 2,
   "metadata": {
    "collapsed": false
   },
   "outputs": [
    {
     "data": {
      "text/plain": [
       "{}"
      ]
     },
     "execution_count": 2,
     "metadata": {},
     "output_type": "execute_result"
    }
   ],
   "source": [
    "import 'babel-polyfill'"
   ]
  },
  {
   "cell_type": "code",
   "execution_count": 6,
   "metadata": {
    "collapsed": false
   },
   "outputs": [
    {
     "data": {
      "text/plain": [
       "'use strict'"
      ]
     },
     "execution_count": 6,
     "metadata": {},
     "output_type": "execute_result"
    }
   ],
   "source": [
    "let hao = {\n",
    "    name:\"郝老师\",\n",
    "    age:18,\n",
    "    eat(){\n",
    "        console.log(this.name+\"在吃cuscus\")\n",
    "    }    \n",
    "}"
   ]
  },
  {
   "cell_type": "code",
   "execution_count": 7,
   "metadata": {
    "collapsed": false
   },
   "outputs": [
    {
     "name": "stdout",
     "output_type": "stream",
     "text": [
      "郝老师在吃cuscus\n"
     ]
    },
    {
     "data": {
      "text/plain": [
       "undefined"
      ]
     },
     "execution_count": 7,
     "metadata": {},
     "output_type": "execute_result"
    }
   ],
   "source": [
    "hao.eat()"
   ]
  },
  {
   "cell_type": "markdown",
   "metadata": {},
   "source": [
    "是不是和方便~"
   ]
  },
  {
   "cell_type": "markdown",
   "metadata": {},
   "source": [
    "在java或者python中我们为了使用一个公用对象不得不用什么单例模式这样的蛋疼写法,在js中就只要直接描述这个对象就行了"
   ]
  },
  {
   "cell_type": "markdown",
   "metadata": {},
   "source": [
    "本质上来说js的对象就是字段与值的键值对,ES6与其他语言相比不同之处在于对象的字段可以是表达式"
   ]
  },
  {
   "cell_type": "code",
   "execution_count": 6,
   "metadata": {
    "collapsed": false
   },
   "outputs": [
    {
     "data": {
      "text/plain": [
       "'use strict'"
      ]
     },
     "execution_count": 6,
     "metadata": {},
     "output_type": "execute_result"
    }
   ],
   "source": [
    "let name = \"郝老师\"\n",
    "let type = \"human\"\n",
    "let 郝老师 = {\n",
    "    name,\n",
    "    type,\n",
    "    [type === \"human\"?\"age\":\"year\"]:18,\n",
    "    eat(){\n",
    "        console.log(this.name+\"在吃cuscus\")\n",
    "    }    \n",
    "}"
   ]
  },
  {
   "cell_type": "code",
   "execution_count": 7,
   "metadata": {
    "collapsed": false
   },
   "outputs": [
    {
     "data": {
      "text/plain": [
       "{ name: '郝老师', type: 'human', age: 18, eat: [Function: eat] }"
      ]
     },
     "execution_count": 7,
     "metadata": {},
     "output_type": "execute_result"
    }
   ],
   "source": [
    "郝老师"
   ]
  },
  {
   "cell_type": "markdown",
   "metadata": {},
   "source": [
    "上面的例子中有几个知识点:\n",
    "\n",
    "+ 字段上文引用赋值\n",
    "    像name这种字段它如果不赋值,那就会在上文中找有没有这个变量,有的话就给这个字段附上相同的值,这个特性之所以不再上面讲是因为最好别用,容易出歧义\n",
    "    \n",
    "+ `[]`包裹的表达式字段,这个倒是个一个很酷的特性"
   ]
  },
  {
   "cell_type": "markdown",
   "metadata": {},
   "source": [
    "## 对象属性的可枚举性\n",
    "\n",
    "对象的每个属性都有一个描述对象（Descriptor），用来控制该属性的行为。Object.getOwnPropertyDescriptor方法可以获取该属性的描述对象。"
   ]
  },
  {
   "cell_type": "code",
   "execution_count": 8,
   "metadata": {
    "collapsed": false
   },
   "outputs": [
    {
     "data": {
      "text/plain": [
       "{ value: 123,\n",
       "  writable: true,\n",
       "  enumerable: true,\n",
       "  configurable: true }"
      ]
     },
     "execution_count": 8,
     "metadata": {},
     "output_type": "execute_result"
    }
   ],
   "source": [
    "let obj = { foo: 123 };\n",
    "Object.getOwnPropertyDescriptor(obj, 'foo')"
   ]
  },
  {
   "cell_type": "markdown",
   "metadata": {},
   "source": [
    "enumerable就是他的可枚举性,如果该属性为false，就表示某些操作会忽略当前属性。其中有:\n",
    "\n",
    "+ for...in 循环：只遍历对象自身的和继承的可枚举的属性\n",
    "+ Object.keys()：返回对象自身的所有可枚举的属性的键名\n",
    "+ JSON.stringify()：只串行化对象自身的可枚举的属性\n",
    "+ Object.assign()：只拷贝对象自身的可枚举的属性\n",
    "+ Reflect.enumerate()：返回所有for...in循环会遍历的属性"
   ]
  },
  {
   "cell_type": "markdown",
   "metadata": {},
   "source": [
    "## Object对象的方法:\n",
    "\n",
    "### Object.is(x,y)\n",
    "\n",
    "该方法用来代替`==`和`===`,来判断两个对象严格相等,其中主要与`===`不同之处在于:\n",
    "\n",
    "+ +0不等于-o\n",
    "+ NaN等于NaN\n",
    "\n",
    "### Object.assign(target,...source)\n",
    "\n",
    "Object.assign方法用于对象的合并，将源对象（source）的所有可枚举属性，复制到目标对象（target）。如果目标对象与源对象有同名属性，或多个源对象有同名属性，则后面的属性会覆盖前面的属性。Object.assign只拷贝自身属性，不可枚举的属性（enumerable为false）和继承的属性不会被拷贝。Object.assign方法实行的是浅拷贝，而不是深拷贝。也就是说，如果源对象某个属性的值是对象，那么目标对象拷贝得到的是这个对象的引用。\n",
    "\n",
    "#### 用处:\n",
    "\n",
    "+ 为对象添加属性和方法\n",
    "+ 克隆对象\n",
    "+ 合并多个对象\n",
    "+ 为属性指定默认值\n",
    "\n",
    "\n",
    "### 对象属性遍历\n",
    "\n",
    "有6种方式可以用来遍历对象的属性:\n",
    "\n",
    "方法|是否遍历父原型|是否遍历symbol|是否遍历不可枚举\n",
    "---|---|---|---\n",
    "for...in|是|否|否\n",
    "Object.keys(obj)|否|否|否\n",
    "Object.getOwnPropertyNames(obj)|否|否|是\n",
    "Object.getOwnPropertySymbols(obj)|否|是|否\n",
    "Reflect.ownKeys(obj)|否|是|是\n",
    "Reflect.enumerate(obj)|是|否|否\n"
   ]
  },
  {
   "cell_type": "markdown",
   "metadata": {},
   "source": [
    "# 类\n",
    "\n",
    "准确的讲js是没有类的,或者说类和对象是同一级别的\n",
    "\n",
    "在ES6之前的标准中定义类一般是用所谓的构造函数实现的,这边稍微写下ES6之前推荐的类写法:"
   ]
  },
  {
   "cell_type": "code",
   "execution_count": 65,
   "metadata": {
    "collapsed": false,
    "scrolled": true
   },
   "outputs": [
    {
     "data": {
      "text/plain": [
       "function () {\n",
       "       return \"<\" + this.name + this.color + \">\";\n",
       "}"
      ]
     },
     "execution_count": 65,
     "metadata": {},
     "output_type": "execute_result"
    }
   ],
   "source": [
    "function Cat(name,color){\n",
    "　　　　this.name = name\n",
    "　　　　this.color = color\n",
    "　　　　this.type = \"猫科动物\"\n",
    "　　　　this.eat = function(){alert(\"吃老鼠\")}\n",
    "       this.prototype.toString=function(){\n",
    "            return \"<\"+this.name+this.color+\">\"\n",
    "        }\n",
    "       \n",
    "　　}\n",
    "Cat.prototype.toString=function(){\n",
    "            return \"<\"+this.name+this.color+\">\"\n",
    "        }"
   ]
  },
  {
   "cell_type": "code",
   "execution_count": 66,
   "metadata": {
    "collapsed": false
   },
   "outputs": [
    {
     "ename": "TypeError",
     "evalue": "Cannot set property 'toString' of undefined",
     "output_type": "error",
     "traceback": [
      "TypeError: Cannot set property 'toString' of undefined",
      "    at new Cat (evalmachine.<anonymous>:10:32)",
      "    at evalmachine.<anonymous>:3:12",
      "    at Object.exports.runInThisContext (vm.js:54:17)",
      "    at run ([eval]:192:19)",
      "    at onMessage ([eval]:63:41)",
      "    at emitTwo (events.js:87:13)",
      "    at process.emit (events.js:172:7)",
      "    at handleMessage (internal/child_process.js:695:10)",
      "    at Pipe.channel.onread (internal/child_process.js:440:11)"
     ]
    }
   ],
   "source": [
    "var cat1 = new Cat(\"大毛\",\"黄色\");"
   ]
  },
  {
   "cell_type": "code",
   "execution_count": 31,
   "metadata": {
    "collapsed": false
   },
   "outputs": [
    {
     "data": {
      "text/plain": [
       "Cat { name: '大毛', color: '黄色', type: '猫科动物', eat: [Function] }"
      ]
     },
     "execution_count": 31,
     "metadata": {},
     "output_type": "execute_result"
    }
   ],
   "source": [
    "cat1"
   ]
  },
  {
   "cell_type": "code",
   "execution_count": 62,
   "metadata": {
    "collapsed": false
   },
   "outputs": [
    {
     "data": {
      "text/plain": [
       "'use strict'"
      ]
     },
     "execution_count": 62,
     "metadata": {},
     "output_type": "execute_result"
    }
   ],
   "source": [
    "let createpoint =  function(x,y){\n",
    "    let point = function(x,y){\n",
    "        this.x = x\n",
    "        this.y = y\n",
    "        this.add = function(that){\n",
    "            let x = this.x+that.x\n",
    "            let y = this.y+that.y\n",
    "            return new point(x,y)\n",
    "        }\n",
    "    }\n",
    "    //protopye中定义类方法和重载一些方法\n",
    "    point.prototype.toString=function(){\n",
    "        return '(' + this.x + ', ' + this.y + ')'\n",
    "    }\n",
    "    return new point(x,y)\n",
    "}\n"
   ]
  },
  {
   "cell_type": "code",
   "execution_count": 56,
   "metadata": {
    "collapsed": false
   },
   "outputs": [
    {
     "data": {
      "text/plain": [
       "'use strict'"
      ]
     },
     "execution_count": 56,
     "metadata": {},
     "output_type": "execute_result"
    }
   ],
   "source": [
    "let p1 = createpoint(1,2)"
   ]
  },
  {
   "cell_type": "code",
   "execution_count": 57,
   "metadata": {
    "collapsed": false
   },
   "outputs": [
    {
     "data": {
      "text/plain": [
       "'use strict'"
      ]
     },
     "execution_count": 57,
     "metadata": {},
     "output_type": "execute_result"
    }
   ],
   "source": [
    "let p2 = createpoint(3,4)"
   ]
  },
  {
   "cell_type": "code",
   "execution_count": 58,
   "metadata": {
    "collapsed": false
   },
   "outputs": [
    {
     "data": {
      "text/plain": [
       "point { x: 1, y: 2, add: [Function] }"
      ]
     },
     "execution_count": 58,
     "metadata": {},
     "output_type": "execute_result"
    }
   ],
   "source": [
    "p1"
   ]
  },
  {
   "cell_type": "code",
   "execution_count": 59,
   "metadata": {
    "collapsed": false
   },
   "outputs": [
    {
     "data": {
      "text/plain": [
       "point { x: 4, y: 6, add: [Function] }"
      ]
     },
     "execution_count": 59,
     "metadata": {},
     "output_type": "execute_result"
    }
   ],
   "source": [
    "p1.add(p2)"
   ]
  },
  {
   "cell_type": "markdown",
   "metadata": {},
   "source": [
    "## ES6中的标准类写法\n",
    "\n",
    "ES6中引入了class关键字专门用来定义类:\n",
    "\n",
    "```javascript\n",
    "class Point {\n",
    "\n",
    "  constructor(x, y) {\n",
    "    this.x = x;\n",
    "    this.y = y;\n",
    "  }\n",
    "\n",
    "  toString() {\n",
    "    return '(' + this.x + ', ' + this.y + ')';\n",
    "  }\n",
    "}\n",
    "```\n",
    "\n",
    "上面代码定义了一个“类”，可以看到里面有一个constructor方法，这就是构造方法，而this关键字则代表实例对象。\n",
    "\n",
    "Point类除了构造方法，还定义了一个toString方法。注意，定义'类'的方法的时候，前面不需要加上function这个保留字，直接把函数定义放进去了就可以了。另外，方法之间不需要逗号分隔，加了会报错。"
   ]
  },
  {
   "cell_type": "code",
   "execution_count": 18,
   "metadata": {
    "collapsed": false
   },
   "outputs": [
    {
     "data": {
      "text/plain": [
       "'use strict'"
      ]
     },
     "execution_count": 18,
     "metadata": {},
     "output_type": "execute_result"
    }
   ],
   "source": [
    "class Point {\n",
    "\n",
    "  constructor(x, y) {\n",
    "    this.x = x;\n",
    "    this.y = y;\n",
    "  }\n",
    "\n",
    "  toString() {\n",
    "    return '(' + this.x + ', ' + this.y + ')';\n",
    "  }\n",
    "}"
   ]
  },
  {
   "cell_type": "code",
   "execution_count": 19,
   "metadata": {
    "collapsed": false
   },
   "outputs": [
    {
     "data": {
      "text/plain": [
       "'function'"
      ]
     },
     "execution_count": 19,
     "metadata": {},
     "output_type": "execute_result"
    }
   ],
   "source": [
    "typeof Point"
   ]
  },
  {
   "cell_type": "code",
   "execution_count": 20,
   "metadata": {
    "collapsed": false
   },
   "outputs": [
    {
     "data": {
      "text/plain": [
       "true"
      ]
     },
     "execution_count": 20,
     "metadata": {},
     "output_type": "execute_result"
    }
   ],
   "source": [
    "Point === Point.prototype.constructor"
   ]
  },
  {
   "cell_type": "code",
   "execution_count": 21,
   "metadata": {
    "collapsed": false
   },
   "outputs": [
    {
     "data": {
      "text/plain": [
       "'use strict'"
      ]
     },
     "execution_count": 21,
     "metadata": {},
     "output_type": "execute_result"
    }
   ],
   "source": [
    "let point = new Point(1,2)"
   ]
  },
  {
   "cell_type": "code",
   "execution_count": 22,
   "metadata": {
    "collapsed": false
   },
   "outputs": [
    {
     "data": {
      "text/plain": [
       "Point { x: 1, y: 2 }"
      ]
     },
     "execution_count": 22,
     "metadata": {},
     "output_type": "execute_result"
    }
   ],
   "source": [
    "point"
   ]
  },
  {
   "cell_type": "code",
   "execution_count": 16,
   "metadata": {
    "collapsed": false
   },
   "outputs": [
    {
     "data": {
      "text/plain": [
       "true"
      ]
     },
     "execution_count": 16,
     "metadata": {},
     "output_type": "execute_result"
    }
   ],
   "source": [
    "point.constructor === Point.prototype.constructor"
   ]
  },
  {
   "cell_type": "markdown",
   "metadata": {},
   "source": [
    "上面代码表明，类的数据类型就是函数，类本身就指向构造函数。\n",
    "\n",
    "构造函数的prototype属性，在ES6的“类”上面继续存在。事实上，类的所有方法都定义在类的prototype属性上面。\n",
    "\n",
    "在类的实例上面调用方法，其实就是调用原型上的方法。\n",
    "\n",
    "由于类的方法（除constructor以外）都定义在prototype对象上面，所以类的新方法可以添加在prototype对象上面。Object.assign方法可以很方便地一次向类添加多个方法。\n",
    "\n",
    "类的内部所有定义的方法，都是不可枚举的（enumerable）。"
   ]
  },
  {
   "cell_type": "markdown",
   "metadata": {},
   "source": [
    "实例的属性除非显式定义在其本身（即定义在this对象上），否则都是定义在原型上（即定义在class上）。类的所有实例共享一个原型对象"
   ]
  },
  {
   "cell_type": "markdown",
   "metadata": {},
   "source": [
    "## Class表达式\n",
    "\n",
    "与函数一样，Class也可以使用表达式的形式定义。\n"
   ]
  },
  {
   "cell_type": "code",
   "execution_count": 20,
   "metadata": {
    "collapsed": false
   },
   "outputs": [
    {
     "data": {
      "text/plain": [
       "'use strict'"
      ]
     },
     "execution_count": 20,
     "metadata": {},
     "output_type": "execute_result"
    }
   ],
   "source": [
    "const MyClass = class cls{\n",
    "  getClassName() {\n",
    "    return cls.name\n",
    "  }\n",
    "}"
   ]
  },
  {
   "cell_type": "markdown",
   "metadata": {},
   "source": [
    "上面代码使用表达式定义了一个类。需要注意的是，这个类的名字是MyClass而不是cls，cls只在Class的内部代码可用，指代当前类。"
   ]
  },
  {
   "cell_type": "code",
   "execution_count": 18,
   "metadata": {
    "collapsed": false
   },
   "outputs": [
    {
     "ename": "ReferenceError",
     "evalue": "Me is not defined",
     "output_type": "error",
     "traceback": [
      "ReferenceError: Me is not defined",
      "    at evalmachine.<anonymous>:5:1",
      "    at Object.exports.runInThisContext (vm.js:54:17)",
      "    at run ([eval]:192:19)",
      "    at onMessage ([eval]:63:41)",
      "    at emitTwo (events.js:87:13)",
      "    at process.emit (events.js:172:7)",
      "    at handleMessage (internal/child_process.js:686:10)",
      "    at Pipe.channel.onread (internal/child_process.js:440:11)"
     ]
    }
   ],
   "source": [
    "let inst = new MyClass();\n",
    "inst.getClassName() // Me\n",
    "cls.name // Referen"
   ]
  },
  {
   "cell_type": "code",
   "execution_count": 19,
   "metadata": {
    "collapsed": false
   },
   "outputs": [
    {
     "data": {
      "text/plain": [
       "undefined"
      ]
     },
     "execution_count": 19,
     "metadata": {},
     "output_type": "execute_result"
    }
   ],
   "source": [
    "inst.name"
   ]
  },
  {
   "cell_type": "markdown",
   "metadata": {},
   "source": [
    "如果Class内部没用到的话，可以省略Me."
   ]
  },
  {
   "cell_type": "code",
   "execution_count": 21,
   "metadata": {
    "collapsed": false
   },
   "outputs": [
    {
     "name": "stdout",
     "output_type": "stream",
     "text": [
      "张三\n"
     ]
    },
    {
     "data": {
      "text/plain": [
       "undefined"
      ]
     },
     "execution_count": 21,
     "metadata": {},
     "output_type": "execute_result"
    }
   ],
   "source": [
    "let person = new class {\n",
    "  constructor(name) {\n",
    "    this.name = name;\n",
    "  }\n",
    "\n",
    "  sayName() {\n",
    "    console.log(this.name);\n",
    "  }\n",
    "}(\"张三\");\n",
    "\n",
    "person.sayName(); // \"张三\""
   ]
  },
  {
   "cell_type": "markdown",
   "metadata": {},
   "source": [
    "上面代码中，person是一个立即执行的Class的实例。"
   ]
  },
  {
   "cell_type": "markdown",
   "metadata": {},
   "source": [
    "## 封装\n",
    "\n",
    "ES6允许使用Class的取值函数（getter）和存值函数(setter)对某个属性设置存值函数和取值函数，拦截该属性的存取行为。\n",
    "\n"
   ]
  },
  {
   "cell_type": "code",
   "execution_count": 24,
   "metadata": {
    "collapsed": false
   },
   "outputs": [
    {
     "data": {
      "text/plain": [
       "'use strict'"
      ]
     },
     "execution_count": 24,
     "metadata": {},
     "output_type": "execute_result"
    }
   ],
   "source": [
    "class MyClass {\n",
    "  constructor() {\n",
    "    // ...\n",
    "  }\n",
    "  get prop() {\n",
    "    return 'getter';\n",
    "  }\n",
    "  set prop(value) {\n",
    "    console.log('setter: '+value);\n",
    "  }\n",
    "}\n"
   ]
  },
  {
   "cell_type": "code",
   "execution_count": 25,
   "metadata": {
    "collapsed": false
   },
   "outputs": [
    {
     "name": "stdout",
     "output_type": "stream",
     "text": [
      "setter: 123\n"
     ]
    },
    {
     "data": {
      "text/plain": [
       "123"
      ]
     },
     "execution_count": 25,
     "metadata": {},
     "output_type": "execute_result"
    }
   ],
   "source": [
    "let inst = new MyClass();\n",
    "\n",
    "inst.prop = 123;"
   ]
  },
  {
   "cell_type": "code",
   "execution_count": 26,
   "metadata": {
    "collapsed": false
   },
   "outputs": [
    {
     "data": {
      "text/plain": [
       "'getter'"
      ]
     },
     "execution_count": 26,
     "metadata": {},
     "output_type": "execute_result"
    }
   ],
   "source": [
    "inst.prop"
   ]
  },
  {
   "cell_type": "markdown",
   "metadata": {},
   "source": [
    "存值函数和取值函数是设置在属性的descriptor对象上的。"
   ]
  },
  {
   "cell_type": "markdown",
   "metadata": {},
   "source": [
    "### 静态方法\n",
    "\n",
    "类相当于实例的原型，所有在类中定义的方法，都会被实例继承。如果在一个方法前，加上static关键字，就表示该方法不会被实例继承，而是直接通过类来调用，这就称为“静态方法”。与python中一样,静态方法无法被实例使用\n"
   ]
  },
  {
   "cell_type": "code",
   "execution_count": 23,
   "metadata": {
    "collapsed": false
   },
   "outputs": [
    {
     "name": "stdout",
     "output_type": "stream",
     "text": [
      "hello\n"
     ]
    },
    {
     "ename": "TypeError",
     "evalue": "foo.classMethod is not a function",
     "output_type": "error",
     "traceback": [
      "TypeError: foo.classMethod is not a function",
      "    at evalmachine.<anonymous>:25:5",
      "    at Object.exports.runInThisContext (vm.js:54:17)",
      "    at run ([eval]:192:19)",
      "    at onMessage ([eval]:63:41)",
      "    at emitTwo (events.js:87:13)",
      "    at process.emit (events.js:172:7)",
      "    at handleMessage (internal/child_process.js:686:10)",
      "    at Pipe.channel.onread (internal/child_process.js:440:11)"
     ]
    }
   ],
   "source": [
    "class Foo {\n",
    "  static classMethod() {\n",
    "    console.log('hello')\n",
    "  }\n",
    "}\n",
    "\n",
    "Foo.classMethod() // 'hello'\n",
    "\n",
    "var foo = new Foo();\n",
    "foo.classMethod()"
   ]
  },
  {
   "cell_type": "markdown",
   "metadata": {},
   "source": [
    "## 继承\n",
    "\n",
    "ES6中的继承采用extend关键字实现\n",
    "\n",
    "```javascript\n",
    "class B extends A {\n",
    "}\n",
    "```\n",
    "\n",
    "extends关键字后面可以跟多种类型的值。只要是一个有prototype属性的函数，就能被B继承。由于函数都有prototype属性，因此A可以是任意函数\n",
    "\n",
    "\n",
    "### super()方法\n",
    "\n",
    "和python一样,js也有super()方法来构造父类实例(相当于python中的`super().__init__(self,*args)`),\n",
    "ES6的继承机制是这样:\n",
    "\n",
    "1. 先创造父类的实例对象this（所以必须先调用super方法）\n",
    "2. 然后再用子类的构造函数修改this\n",
    "\n",
    "\n",
    "### Object.getPrototypeOf() \n",
    "Object.getPrototypeOf方法可以用来从子类上获取父类。\n",
    "\n",
    "\n",
    "### 类的prototype属性和__proto__属性\n",
    "\n",
    "大多数浏览器中，每一个对象都有__proto__属性，指向对应的构造函数的prototype属性。Class作为构造函数的语法糖，同时有prototype属性和__proto__属性，因此同时存在两条继承链。\n",
    "\n",
    "（1）子类的__proto__属性，表示构造函数的继承，总是指向父类。\n",
    "\n",
    "（2）子类prototype属性的__proto__属性，表示方法的继承，总是指向父类的prototype属性。\n",
    "\n",
    "他们之间的关系可以看这张图:\n",
    "\n",
    "![js继承](./source/jsextend.png)\n"
   ]
  },
  {
   "cell_type": "markdown",
   "metadata": {},
   "source": [
    "### Mixin模式的实现\n",
    "\n",
    "Mixin模式指的是，将多个类的接口“混入”（mix in）另一个类。它在ES6的实现如下。"
   ]
  },
  {
   "cell_type": "markdown",
   "metadata": {},
   "source": [
    "```javascript\n",
    "function copyProperties(target, source) {\n",
    "  for (let key of Reflect.ownKeys(source)) {\n",
    "    if ( key !== \"constructor\"\n",
    "      && key !== \"prototype\"\n",
    "      && key !== \"name\"\n",
    "    ) {\n",
    "      let desc = Object.getOwnPropertyDescriptor(source, key);\n",
    "      Object.defineProperty(target, key, desc);\n",
    "    }\n",
    "  }\n",
    "}\n",
    "function mix(...mixins) {\n",
    "  class Mix {}\n",
    "\n",
    "  for (let mixin of mixins) {\n",
    "    copyProperties(Mix, mixin);\n",
    "    copyProperties(Mix.prototype, mixin.prototype);\n",
    "  }\n",
    "\n",
    "  return Mix;\n",
    "}\n",
    "\n",
    "class DistributedEdit extends mix(Loggable, Serializable) {\n",
    "  // ...\n",
    "}\n",
    "```"
   ]
  }
 ],
 "metadata": {
  "kernelspec": {
   "display_name": "Babel (Node.js)",
   "language": "babel",
   "name": "babel"
  },
  "language_info": {
   "file_extension": "js",
   "mimetype": "application/javascript",
   "name": "javascript",
   "version": "4.4.3"
  }
 },
 "nbformat": 4,
 "nbformat_minor": 0
}
