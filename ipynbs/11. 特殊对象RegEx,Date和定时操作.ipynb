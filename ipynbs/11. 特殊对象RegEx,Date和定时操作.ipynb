{
 "cells": [
  {
   "cell_type": "markdown",
   "metadata": {},
   "source": [
    "# RegExp 对象\n",
    "\n",
    "正则表达式,python中也有这个概念,只是它是字符串的一种,而且要用标准库re处理而已\n",
    "\n",
    "正则表达式的语法就不多讲了,这边只说如何创建和与python的不同之处"
   ]
  },
  {
   "cell_type": "markdown",
   "metadata": {},
   "source": [
    "## 创建 RegExp 对象的语法：\n",
    "\n",
    "```javascript\n",
    "var re = new RegExp(pattern, attributes)\n",
    "```\n",
    "\n",
    "或者:\n",
    "\n",
    "```javascript\n",
    "var re = / pattern /\n",
    "```\n",
    "\n",
    "这两种都可以,第二种写起来简单些\n",
    "\n"
   ]
  },
  {
   "cell_type": "markdown",
   "metadata": {},
   "source": [
    "## 字符串的正则方法\n",
    "\n",
    "+ match()\n",
    "+ replace()\n",
    "+ search()\n",
    "+ split()"
   ]
  },
  {
   "cell_type": "markdown",
   "metadata": {},
   "source": [
    "## unicode支持\n",
    "\n",
    "ES6对正则表达式添加了u修饰符，含义为“Unicode模式”，用来正确处理大于\\uFFFF的Unicode字符。也就是说，会正确处理四个字节的UTF-16编码。\n"
   ]
  },
  {
   "cell_type": "code",
   "execution_count": 1,
   "metadata": {
    "collapsed": false
   },
   "outputs": [
    {
     "data": {
      "text/plain": [
       "true"
      ]
     },
     "execution_count": 1,
     "metadata": {},
     "output_type": "execute_result"
    }
   ],
   "source": [
    "/^\\uD83D/.test('\\uD83D\\uDC2A')"
   ]
  },
  {
   "cell_type": "markdown",
   "metadata": {},
   "source": [
    "+ 点字符\n",
    "\n",
    "    点（.）字符在正则表达式中，含义是除了换行符以外的任意单个字符。对于码点大于0xFFFF的Unicode字符，点字符不能识别，必须加上u修饰符。\n",
    "    \n",
    "+ ES6新增了使用大括号表示Unicode字符\n",
    "\n",
    "    这种表示法在正则表达式中必须加上u修饰符，才能识别。\n",
    "    \n",
    "+ 量词\n",
    "\n",
    "    使用u修饰符后，所有量词都会正确识别大于码点大于0xFFFF的Unicode字符。"
   ]
  },
  {
   "cell_type": "code",
   "execution_count": 4,
   "metadata": {
    "collapsed": false
   },
   "outputs": [
    {
     "data": {
      "text/plain": [
       "true"
      ]
     },
     "execution_count": 4,
     "metadata": {},
     "output_type": "execute_result"
    }
   ],
   "source": [
    "/𠮷{2}/u.test('𠮷𠮷')"
   ]
  },
  {
   "cell_type": "markdown",
   "metadata": {},
   "source": [
    "+ 预定义模式\n",
    "\n",
    "u修饰符也影响到预定义模式，能否正确识别码点大于0xFFFF的Unicode字符。"
   ]
  },
  {
   "cell_type": "code",
   "execution_count": 6,
   "metadata": {
    "collapsed": false
   },
   "outputs": [
    {
     "data": {
      "text/plain": [
       "true"
      ]
     },
     "execution_count": 6,
     "metadata": {},
     "output_type": "execute_result"
    }
   ],
   "source": [
    "/^\\S$/u.test('𠮷')"
   ]
  },
  {
   "cell_type": "markdown",
   "metadata": {},
   "source": [
    "+ i修饰符\n",
    "\n",
    "    有些Unicode字符的编码不同，但是字型很相近，比如，\\u004B与\\u212A都是大写的K。\n"
   ]
  },
  {
   "cell_type": "code",
   "execution_count": 7,
   "metadata": {
    "collapsed": false
   },
   "outputs": [
    {
     "data": {
      "text/plain": [
       "true"
      ]
     },
     "execution_count": 7,
     "metadata": {},
     "output_type": "execute_result"
    }
   ],
   "source": [
    "/[a-z]/iu.test('\\u212A')"
   ]
  },
  {
   "cell_type": "markdown",
   "metadata": {},
   "source": [
    "# Date\n",
    "\n",
    "Date 对象用于处理日期和时间。\n",
    "\n",
    "\n",
    "创建 Date 对象的语法："
   ]
  },
  {
   "cell_type": "code",
   "execution_count": 8,
   "metadata": {
    "collapsed": false
   },
   "outputs": [
    {
     "data": {
      "text/plain": [
       "'use strict'"
      ]
     },
     "execution_count": 8,
     "metadata": {},
     "output_type": "execute_result"
    }
   ],
   "source": [
    "var myDate=new Date()"
   ]
  },
  {
   "cell_type": "markdown",
   "metadata": {},
   "source": [
    "Date对象方法:\n",
    "\n",
    "方法\t|描述\n",
    "---|---\n",
    "Date()\t|返回当日的日期和时间。\n",
    "getDate()|\t从 Date 对象返回一个月中的某一天 (1 ~ 31)。\n",
    "getDay()\t|从 Date 对象返回一周中的某一天 (0 ~ 6)。\n",
    "getMonth()\t|从 Date 对象返回月份 (0 ~ 11)。\n",
    "getFullYear()\t|从 Date 对象以四位数字返回年份。\n",
    "getYear()\t|请使用 getFullYear() 方法代替。\n",
    "getHours()\t|返回 Date 对象的小时 (0 ~ 23)。\n",
    "getMinutes()\t|返回 Date 对象的分钟 (0 ~ 59)。\n",
    "getSeconds()\t|返回 Date 对象的秒数 (0 ~ 59)。\n",
    "getMilliseconds()\t|返回 Date 对象的毫秒(0 ~ 999)。\n",
    "getTime()\t|返回 1970 年 1 月 1 日至今的毫秒数。\n",
    "getTimezoneOffset()\t|返回本地时间与格林威治标准时间 (GMT) 的分钟差。\n",
    "getUTCDate()\t|根据世界时从 Date 对象返回月中的一天 (1 ~ 31)。\n",
    "getUTCDay()|\t根据世界时从 Date 对象返回周中的一天 (0 ~ 6)。\n",
    "getUTCMonth()\t|根据世界时从 Date 对象返回月份 (0 ~ 11)。\n",
    "getUTCFullYear()\t|根据世界时从 Date 对象返回四位数的年份。\n",
    "getUTCHours()\t|根据世界时返回 Date 对象的小时 (0 ~ 23)。\n",
    "getUTCMinutes()\t|根据世界时返回 Date 对象的分钟 (0 ~ 59)。\n",
    "getUTCSeconds()|\t根据世界时返回 Date 对象的秒钟 (0 ~ 59)。\n",
    "getUTCMilliseconds()\t|根据世界时返回 Date 对象的毫秒(0 ~ 999)。\n",
    "parse()\t|返回1970年1月1日午夜到指定日期（字符串）的毫秒数。\n",
    "setDate()\t|设置 Date 对象中月的某一天 (1 ~ 31)。\n",
    "setMonth()|\t设置 Date 对象中月份 (0 ~ 11)。\n",
    "setFullYear()\t|设置 Date 对象中的年份（四位数字）。\n",
    "setYear()\t|请使用 setFullYear() 方法代替。\n",
    "setHours()\t|设置 Date 对象中的小时 (0 ~ 23)。\n",
    "setMinutes()\t|设置 Date 对象中的分钟 (0 ~ 59)。\n",
    "setSeconds()\t|设置 Date 对象中的秒钟 (0 ~ 59)。\n",
    "setMilliseconds()\t|设置 Date 对象中的毫秒 (0 ~ 999)。\n",
    "setTime()\t|以毫秒设置 Date 对象。\n",
    "setUTCDate()\t|根据世界时设置 Date 对象中月份的一天 (1 ~ 31)。\n",
    "setUTCMonth()\t|根据世界时设置 Date 对象中的月份 (0 ~ 11)。\n",
    "setUTCFullYear()\t|根据世界时设置 Date 对象中的年份（四位数字）。\n",
    "setUTCHours()|\t根据世界时设置 Date 对象中的小时 (0 ~ 23)。\n",
    "setUTCMinutes()\t|根据世界时设置 Date 对象中的分钟 (0 ~ 59)。\n",
    "setUTCSeconds()\t|根据世界时设置 Date 对象中的秒钟 (0 ~ 59)。\n",
    "setUTCMilliseconds()\t|根据世界时设置 Date 对象中的毫秒 (0 ~ 999)。\n",
    "toSource()\t|返回该对象的源代码。\n",
    "toString()|\t把 Date 对象转换为字符串。\n",
    "toTimeString()\t|把 Date 对象的时间部分转换为字符串。\n",
    "toDateString()\t|把 Date 对象的日期部分转换为字符串。\n",
    "toGMTString()\t|请使用 toUTCString() 方法代替。\n",
    "toUTCString()|\t根据世界时，把 Date 对象转换为字符串。\n",
    "toLocaleString()\t|根据本地时间格式，把 Date 对象转换为字符串。\n",
    "toLocaleTimeString()|\t根据本地时间格式，把 Date 对象的时间部分转换为字符串。\n",
    "toLocaleDateString()\t|根据本地时间格式，把 Date 对象的日期部分转换为字符串。\n",
    "UTC()\t|根据世界时返回 1970 年 1 月 1 日 到指定日期的毫秒数。\n",
    "valueOf()\t|返回 Date 对象的原始值。\n"
   ]
  },
  {
   "cell_type": "markdown",
   "metadata": {
    "collapsed": true
   },
   "source": [
    "# 定时操作\n",
    "\n",
    "+ setTimeout(func,time) 方法是定时程序，也就是在什么时间以后干什么。干完了就拉倒。"
   ]
  },
  {
   "cell_type": "code",
   "execution_count": 1,
   "metadata": {
    "collapsed": false
   },
   "outputs": [
    {
     "data": {
      "text/plain": [
       "{ _called: false,\n",
       "  _idleTimeout: 20,\n",
       "  _idlePrev: \n",
       "   Timer {\n",
       "     '0': [Function: listOnTimeout],\n",
       "     _idleNext: [Circular],\n",
       "     _idlePrev: [Circular],\n",
       "     msecs: 20 },\n",
       "  _idleNext: \n",
       "   Timer {\n",
       "     '0': [Function: listOnTimeout],\n",
       "     _idleNext: [Circular],\n",
       "     _idlePrev: [Circular],\n",
       "     msecs: 20 },\n",
       "  _idleStart: 300295,\n",
       "  _onTimeout: [Function],\n",
       "  _repeat: null }"
      ]
     },
     "execution_count": 1,
     "metadata": {},
     "output_type": "execute_result"
    },
    {
     "name": "stdout",
     "output_type": "stream",
     "text": [
      "延迟\n"
     ]
    }
   ],
   "source": [
    "setTimeout(()=>{\n",
    "    console.log(\"延迟\")\n",
    "},20) "
   ]
  }
 ],
 "metadata": {
  "kernelspec": {
   "display_name": "Babel (Node.js)",
   "language": "babel",
   "name": "babel"
  },
  "language_info": {
   "file_extension": "js",
   "mimetype": "application/javascript",
   "name": "javascript",
   "version": "4.2.4"
  }
 },
 "nbformat": 4,
 "nbformat_minor": 0
}
