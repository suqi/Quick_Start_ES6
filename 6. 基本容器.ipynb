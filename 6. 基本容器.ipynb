{
 "cells": [
  {
   "cell_type": "markdown",
   "metadata": {},
   "source": [
    "Javascript自带的数据结构其实并不好使,他们都是通用的Object,你是无法使用typeOf直接反射出来类型的自带的数据结构有:\n",
    "\n",
    "+ Array 数组\n",
    "+ Set 集合\n",
    "+ Map 映射\n",
    "\n",
    "要使用他们的全部api需要引入"
   ]
  },
  {
   "cell_type": "code",
   "execution_count": 2,
   "metadata": {
    "collapsed": false
   },
   "outputs": [
    {
     "data": {
      "text/plain": [
       "{}"
      ]
     },
     "execution_count": 2,
     "metadata": {},
     "output_type": "execute_result"
    }
   ],
   "source": [
    "import 'babel-polyfill'"
   ]
  },
  {
   "cell_type": "markdown",
   "metadata": {},
   "source": [
    "array和set都支持高阶函数方法\n",
    "\n",
    "### 高阶函数方法\n",
    "\n",
    "方法名|效果\n",
    "---|---\n",
    "filter(func)|返回返回值是true的元素\n",
    "map(func)|返回每次运行后的结果构成的数组"
   ]
  },
  {
   "cell_type": "markdown",
   "metadata": {},
   "source": [
    "# Array\n",
    "说是数组,其实只是数组的样子,本质上和python的list一样,不要指望效率\n",
    "\n",
    "## 数组对象的方法\n",
    "\n",
    "方法名|效果\n",
    "---|---\n",
    "indexOf(str)|搜索指定元素出现位置(从左到右第一次出现)\n",
    "lastIndexOf(str)|索指定元素出现位置(从右到左第一次出现)\n",
    "slice(Numbers)|返回指定索引区的子串(切片),和python相同的[)规则\n",
    "length|返回长度\n",
    "pop()/push(elements)|出栈/入栈操作,即在数组末位做添加删除操作,相当于python的pop/append\n",
    "unshift(elements)/shift()|在数组首位做添加删除操作,和push/pop类似\n",
    "sort()|排序\n",
    "reverse()|转向,即把元素全部颠倒顺序\n",
    "splice(start,number,replace)|从start位开始向后number位,先删除,再插入replace的内容\n",
    "concat(otherArray)|数组连接\n",
    "join(str)|类似python中的join,用某个字符串作为连接符把数组变成字符串\n",
    "toString()|转换为字符串\n",
    "copyWithin(target[, start = 0, end = this.length])|copyWithin方法，在当前数组内部，将指定位置的成员复制到其他位置（会覆盖原有成员），然后返回当前数组。也就是说，使用这个方法，会修改当前数组。\n",
    "fill(object)|使用给定值，填充一个数组\n",
    "\n",
    "\n",
    "### 遍历器\n",
    "\n",
    "遍历器|效果\n",
    "---|---\n",
    "keys()|返回一个键名的遍历器\n",
    "values()|返回一个键值的遍历器\n",
    "entries()|返回一个键值对的遍历器\n",
    "forEach(func)|和scala中的一样,就是每个都进行操作\n",
    "\n",
    "\n",
    "### 独有高阶函数方法\n",
    "\n",
    "方法名|效果\n",
    "---|---\n",
    "every(func)|如果每一项都返回true则返回true\n",
    "some(func)|有一个返回true就返回true\n",
    "reduce(func)|从起始位置开始遍历的缩小\n",
    "reduceRight(func)|从末尾开始遍历缩小\n",
    "find(func)|用于找出第一个符合条件的数组成员。它的参数是一个回调函数，所有数组成员依次执行该回调函数，直到找出第一个返回值为true的成员，然后返回该成员。如果没有符合条件的成员，则返回undefined。\n",
    "findIndex(func)|与find方法非常类似，返回第一个符合条件的数组成员的位置，如果所有成员都不符合条件，则返回-1\n",
    "\n",
    "\n",
    "\n",
    "## Array对象的方法\n",
    "\n",
    "方法名|效果\n",
    "---|---\n",
    "from(array-like/iterable)|方法用于将两类对象转为真正的数组：类似数组的对象（array-like object）和可遍历（iterable）的对象（包括ES6新增的数据结构Set和Map）。\n",
    "of(...args)|将一组值，转换为数组\n"
   ]
  },
  {
   "cell_type": "markdown",
   "metadata": {},
   "source": [
    "## 数组中的空值\n",
    "\n",
    "神奇的是js是允许数字中有空值的"
   ]
  },
  {
   "cell_type": "code",
   "execution_count": 39,
   "metadata": {
    "collapsed": false
   },
   "outputs": [
    {
     "data": {
      "text/plain": [
       "'use strict'"
      ]
     },
     "execution_count": 39,
     "metadata": {},
     "output_type": "execute_result"
    }
   ],
   "source": [
    "var array1 = [1,2,,4]"
   ]
  },
  {
   "cell_type": "code",
   "execution_count": 40,
   "metadata": {
    "collapsed": false
   },
   "outputs": [
    {
     "data": {
      "text/plain": [
       "[ 1, 2, , 4 ]"
      ]
     },
     "execution_count": 40,
     "metadata": {},
     "output_type": "execute_result"
    }
   ],
   "source": [
    "array1"
   ]
  },
  {
   "cell_type": "code",
   "execution_count": 41,
   "metadata": {
    "collapsed": false
   },
   "outputs": [
    {
     "data": {
      "text/plain": [
       "undefined"
      ]
     },
     "execution_count": 41,
     "metadata": {},
     "output_type": "execute_result"
    }
   ],
   "source": [
    "array1[2]"
   ]
  },
  {
   "cell_type": "markdown",
   "metadata": {},
   "source": [
    "如你所见,空值内容不是null而是undefined,这点需要注意"
   ]
  },
  {
   "cell_type": "markdown",
   "metadata": {},
   "source": [
    "# Set \n",
    "\n",
    "和python中的set一样,set就是集合,也就是只能存储唯一值的无序数据结构\n",
    "\n",
    "**注意**:在set里面,NaN是相同的值,而两个空对象却是不相等的\n",
    "\n",
    "\n",
    "## 属性和方法\n",
    "\n",
    "属性|说明\n",
    "---|---\n",
    "size|成员数量\n",
    "\n",
    "\n",
    "方法|说明\n",
    "---|---\n",
    "add(value)|添加值\n",
    "delete(value)|删除某个值\n",
    "has(value)|返回一个布尔值，表示该值是否为Set的成员。\n",
    "clear()|清除所有成员，没有返回值。\n",
    "\n",
    "遍历器|说明\n",
    "---|---\n",
    "keys()|返回一个键名的遍历器\n",
    "values()|返回一个键值的遍历器\n",
    "entries()|返回一个键值对的遍历器\n",
    "forEach()|使用回调函数遍历每个成员\n"
   ]
  },
  {
   "cell_type": "code",
   "execution_count": 42,
   "metadata": {
    "collapsed": false
   },
   "outputs": [
    {
     "data": {
      "text/plain": [
       "'use strict'"
      ]
     },
     "execution_count": 42,
     "metadata": {},
     "output_type": "execute_result"
    }
   ],
   "source": [
    "let set1 = new Set()"
   ]
  },
  {
   "cell_type": "code",
   "execution_count": 43,
   "metadata": {
    "collapsed": false
   },
   "outputs": [
    {
     "data": {
      "text/plain": [
       "Set { 1 }"
      ]
     },
     "execution_count": 43,
     "metadata": {},
     "output_type": "execute_result"
    }
   ],
   "source": [
    "set1.add(1)"
   ]
  },
  {
   "cell_type": "code",
   "execution_count": 44,
   "metadata": {
    "collapsed": false
   },
   "outputs": [
    {
     "data": {
      "text/plain": [
       "Set { 1, '1' }"
      ]
     },
     "execution_count": 44,
     "metadata": {},
     "output_type": "execute_result"
    }
   ],
   "source": [
    "set1.add(\"1\")"
   ]
  },
  {
   "cell_type": "code",
   "execution_count": 45,
   "metadata": {
    "collapsed": false
   },
   "outputs": [
    {
     "data": {
      "text/plain": [
       "2"
      ]
     },
     "execution_count": 45,
     "metadata": {},
     "output_type": "execute_result"
    }
   ],
   "source": [
    "set1.size"
   ]
  },
  {
   "cell_type": "markdown",
   "metadata": {},
   "source": [
    "### WeakSet\n",
    "\n",
    "WeakSet结构与Set类似，也是不重复的值的集合。但是，它与Set有两个区别。\n",
    "\n",
    "首先，WeakSet的成员只能是对象，而不能是其他类型的值。\n",
    "\n",
    "其次，WeakSet中的对象都是弱引用，即垃圾回收机制不考虑WeakSet对该对象的引用，也就是说，如果其他对象都不再引用该对象，那么垃圾回收机制会自动回收该对象所占用的内存，不考虑该对象还存在于WeakSet之中。这个特点意味着，无法引用WeakSet的成员，因此WeakSet是不可遍历的。"
   ]
  },
  {
   "cell_type": "markdown",
   "metadata": {},
   "source": [
    "WeakSet是一个构造函数，可以使用new命令，创建WeakSet数据结构。\n",
    "```javascript\n",
    "var ws = new WeakSet()\n",
    "```\n",
    "作为构造函数，WeakSet可以接受一个数组或类似数组的对象作为参数。（实际上，任何具有iterable接口的对象，都可以作为WeakSet的参数。）该数组的所有成员，都会自动成为WeakSet实例对象的成员。\n",
    "\n",
    "```\n",
    "var a = [[1,2], [3,4]]\n",
    "var ws = new WeakSet(a)\n",
    "```\n",
    "上面代码中，a是一个数组，它有两个成员，也都是数组。将a作为WeakSet构造函数的参数，a的成员会自动成为WeakSet的成员。\n",
    "\n",
    "注意，是a数组的成员成为WeakSet的成员，而不是a数组本身。这意味着，数组的成员只能是对象。\n",
    "```\n",
    "var b = [3, 4];\n",
    "var ws = new WeakSet(b);\n",
    "// Uncaught TypeError: Invalid value used in weak set(…)\n",
    "```\n",
    "上面代码中，数组b的成员不是对象，加入WeaKSet就会报错。\n",
    "\n",
    "WeakSet结构有以下三个方法。\n",
    "\n",
    "+ WeakSet.prototype.add(value)：向WeakSet实例添加一个新成员。\n",
    "+ WeakSet.prototype.delete(value)：清除WeakSet实例的指定成员。\n",
    "+ WeakSet.prototype.has(value)：返回一个布尔值，表示某个值是否在WeakSet实例之中。"
   ]
  },
  {
   "cell_type": "markdown",
   "metadata": {},
   "source": [
    "# Map\n",
    "\n",
    "类似python中的dictionary,字典结构,主要是用于描述键值对结构,Map是Set的扩展,只是唯一值可以带上一个映射值而已"
   ]
  },
  {
   "cell_type": "code",
   "execution_count": 37,
   "metadata": {
    "collapsed": false
   },
   "outputs": [
    {
     "data": {
      "text/plain": [
       "'use strict'"
      ]
     },
     "execution_count": 37,
     "metadata": {},
     "output_type": "execute_result"
    }
   ],
   "source": [
    "let map1 = new Map([[\"name\",\"牛顿\"],[\"age\",18]])"
   ]
  },
  {
   "cell_type": "code",
   "execution_count": 38,
   "metadata": {
    "collapsed": false
   },
   "outputs": [
    {
     "data": {
      "text/plain": [
       "Map { 'name' => '牛顿', 'age' => 18 }"
      ]
     },
     "execution_count": 38,
     "metadata": {},
     "output_type": "execute_result"
    }
   ],
   "source": [
    "map1"
   ]
  },
  {
   "cell_type": "markdown",
   "metadata": {},
   "source": [
    "## 属性和方法\n",
    "\n",
    "属性|说明\n",
    "---|---\n",
    "size|成员数量\n",
    "\n",
    "\n",
    "方法|说明\n",
    "---|---\n",
    "set(key,value)|添加键值对\n",
    "get(key)|获取键对应的值\n",
    "delete(key)|删除某个键对应的键值对\n",
    "has(key)|返回一个布尔值，表示该键是否为Map的成员。\n",
    "clear()|清除所有成员，没有返回值。\n",
    "\n",
    "遍历器|说明\n",
    "---|---\n",
    "keys()|返回一个键名的遍历器\n",
    "values()|返回一个键值的遍历器\n",
    "entries()|返回一个键值对的遍历器\n",
    "forEach()|使用回调函数遍历每个成员"
   ]
  },
  {
   "cell_type": "markdown",
   "metadata": {},
   "source": [
    "WeakMap结构与Map结构基本类似，唯一的区别是它只接受对象作为键名（null除外），不接受其他类型的值作为键名，而且键名所指向的对象，不计入垃圾回收机制。\n",
    "\n",
    "WeakMap与Map在API上的区别主要是两个，一是没有遍历操作（即没有key()、values()和entries()方法），也没有size属性；二是无法清空，即不支持clear方法。这与WeakMap的键不被计入引用、被垃圾回收机制忽略有关。因此，WeakMap只有四个方法可用：get()、set()、has()、delete()。"
   ]
  },
  {
   "cell_type": "markdown",
   "metadata": {},
   "source": [
    "# 相互转化\n",
    "\n",
    "\n",
    "+ Map转数组:\n"
   ]
  },
  {
   "cell_type": "code",
   "execution_count": 46,
   "metadata": {
    "collapsed": false
   },
   "outputs": [
    {
     "data": {
      "text/plain": [
       "'use strict'"
      ]
     },
     "execution_count": 46,
     "metadata": {},
     "output_type": "execute_result"
    }
   ],
   "source": [
    "let maptoarray = [...map1]"
   ]
  },
  {
   "cell_type": "code",
   "execution_count": 47,
   "metadata": {
    "collapsed": false
   },
   "outputs": [
    {
     "data": {
      "text/plain": [
       "[ [ 'name', '牛顿' ], [ 'age', 18 ] ]"
      ]
     },
     "execution_count": 47,
     "metadata": {},
     "output_type": "execute_result"
    }
   ],
   "source": [
    "maptoarray"
   ]
  },
  {
   "cell_type": "markdown",
   "metadata": {},
   "source": [
    "+ 数组转map"
   ]
  },
  {
   "cell_type": "code",
   "execution_count": 48,
   "metadata": {
    "collapsed": false
   },
   "outputs": [
    {
     "data": {
      "text/plain": [
       "'use strict'"
      ]
     },
     "execution_count": 48,
     "metadata": {},
     "output_type": "execute_result"
    }
   ],
   "source": [
    "let arraytomap = new Map([[true, 7], [{foo: 3}, ['abc']]])"
   ]
  },
  {
   "cell_type": "code",
   "execution_count": 49,
   "metadata": {
    "collapsed": false
   },
   "outputs": [
    {
     "data": {
      "text/plain": [
       "Map { true => 7, { foo: 3 } => [ 'abc' ] }"
      ]
     },
     "execution_count": 49,
     "metadata": {},
     "output_type": "execute_result"
    }
   ],
   "source": [
    "arraytomap"
   ]
  },
  {
   "cell_type": "markdown",
   "metadata": {},
   "source": [
    "+ set转array"
   ]
  },
  {
   "cell_type": "code",
   "execution_count": 52,
   "metadata": {
    "collapsed": false
   },
   "outputs": [
    {
     "data": {
      "text/plain": [
       "'use strict'"
      ]
     },
     "execution_count": 52,
     "metadata": {},
     "output_type": "execute_result"
    }
   ],
   "source": [
    "let settoarray = [...set1]"
   ]
  },
  {
   "cell_type": "code",
   "execution_count": 53,
   "metadata": {
    "collapsed": false
   },
   "outputs": [
    {
     "data": {
      "text/plain": [
       "[ 1, '1' ]"
      ]
     },
     "execution_count": 53,
     "metadata": {},
     "output_type": "execute_result"
    }
   ],
   "source": [
    "settoarray"
   ]
  },
  {
   "cell_type": "markdown",
   "metadata": {},
   "source": [
    "+ array转set"
   ]
  },
  {
   "cell_type": "code",
   "execution_count": 50,
   "metadata": {
    "collapsed": false
   },
   "outputs": [
    {
     "data": {
      "text/plain": [
       "'use strict'"
      ]
     },
     "execution_count": 50,
     "metadata": {},
     "output_type": "execute_result"
    }
   ],
   "source": [
    "let arraytoset = new Set([1,2,3,4,5])"
   ]
  },
  {
   "cell_type": "code",
   "execution_count": 51,
   "metadata": {
    "collapsed": false
   },
   "outputs": [
    {
     "data": {
      "text/plain": [
       "Set { 1, 2, 3, 4, 5 }"
      ]
     },
     "execution_count": 51,
     "metadata": {},
     "output_type": "execute_result"
    }
   ],
   "source": [
    " arraytoset "
   ]
  },
  {
   "cell_type": "markdown",
   "metadata": {},
   "source": [
    "# 遍历器(Iterator)\n",
    "\n",
    "ES6原生的数据结构主要是Array,Map和Set。这样就有了三种数据结构(亚种不算)，再加上string,用户还可以组合使用它们，定义自己的数据结构，比如数组的成员是Map，Map的成员是对象。这样就需要一种统一的接口机制，来处理所有不同的数据结构。\n",
    "\n",
    "遍历器（Iterator）就是这样一种机制。它是一种接口，为各种不同的数据结构提供统一的访问机制。任何数据结构只要部署Iterator接口，就可以完成遍历操作（即依次处理该数据结构的所有成员）。\n",
    "\n",
    "Iterator的作用有三个：一是为各种数据结构，提供一个统一的、简便的访问接口；二是使得数据结构的成员能够按某种次序排列；三是ES6创造了一种新的遍历命令for...of循环，Iterator接口主要供for...of消费。\n",
    "\n",
    "Iterator的遍历过程是这样的。\n",
    "\n",
    "+（1）创建一个指针对象，指向当前数据结构的起始位置。也就是说，遍历器对象本质上，就是一个指针对象。\n",
    "\n",
    "+（2）第一次调用指针对象的next方法，可以将指针指向数据结构的第一个成员。\n",
    "\n",
    "+（3）第二次调用指针对象的next方法，指针就指向数据结构的第二个成员。\n",
    "\n",
    "+（4）不断调用指针对象的next方法，直到它指向数据结构的结束位置。\n",
    "\n",
    "每一次调用next方法，都会返回数据结构的当前成员的信息。具体来说，就是返回一个包含value和done两个属性的对象。其中，value属性是当前成员的值，done属性是一个布尔值，表示遍历是否结束。\n",
    "\n",
    "python中其实也是类似的结构,通过预定义的运算符来实现遍历器的功能"
   ]
  },
  {
   "cell_type": "code",
   "execution_count": 19,
   "metadata": {
    "collapsed": false
   },
   "outputs": [
    {
     "data": {
      "text/plain": [
       "'use strict'"
      ]
     },
     "execution_count": 19,
     "metadata": {},
     "output_type": "execute_result"
    }
   ],
   "source": [
    "let a = [1,2,3,4]\n",
    "let iter = a[Symbol.iterator]()"
   ]
  },
  {
   "cell_type": "code",
   "execution_count": 20,
   "metadata": {
    "collapsed": false
   },
   "outputs": [
    {
     "data": {
      "text/plain": [
       "{ value: 1, done: false }"
      ]
     },
     "execution_count": 20,
     "metadata": {},
     "output_type": "execute_result"
    }
   ],
   "source": [
    "iter.next()"
   ]
  },
  {
   "cell_type": "markdown",
   "metadata": {},
   "source": [
    "Iterator接口的目的，就是为所有数据结构，提供了一种统一的访问机制，即for...of循环（详见下文）。当使用for...of循环遍历某种数据结构时，该循环会自动去寻找Iterator接口。\n",
    "\n",
    "ES6规定，默认的Iterator接口部署在数据结构的Symbol.iterator属性，或者说，一个数据结构只要具有Symbol.iterator属性，就可以认为是“可遍历的”（iterable）。调用Symbol.iterator方法，就会得到当前数据结构默认的遍历器生成函数。Symbol.iterator本身是一个表达式，返回Symbol对象的iterator属性，这是一个预定义好的、类型为Symbol的特殊值，所以要放在方括号内（请参考Symbol一章）。\n",
    "\n",
    "在ES6中，有三类数据结构和一种原生对象原生具备Iterator接口：数组、某些类似数组的对象、Set和Map结构以及String。\n",
    "\n",
    "\n",
    "## 自定义对象的Iterator\n",
    "\n",
    "一个对象如果要有可被for...of循环调用的Iterator接口，就必须在Symbol.iterator的属性上部署遍历器生成方法（原型链上的对象具有该方法也可）。\n",
    "\n",
    "> 例: 用iterator实现的range函数"
   ]
  },
  {
   "cell_type": "code",
   "execution_count": 2,
   "metadata": {
    "collapsed": false
   },
   "outputs": [
    {
     "data": {
      "text/plain": [
       "'use strict'"
      ]
     },
     "execution_count": 2,
     "metadata": {},
     "output_type": "execute_result"
    }
   ],
   "source": [
    "class RangeIterator {\n",
    "  constructor(start, stop) {\n",
    "    this.value = start\n",
    "    this.stop = stop\n",
    "  }\n",
    "\n",
    "  [Symbol.iterator]() { return this; }\n",
    "\n",
    "  next() {\n",
    "    var value = this.value\n",
    "    if (value < this.stop) {\n",
    "      this.value++;\n",
    "      return {done: false, value: value}\n",
    "    } else {\n",
    "      return {done: true, value: undefined}\n",
    "    }\n",
    "  }\n",
    "}"
   ]
  },
  {
   "cell_type": "code",
   "execution_count": 3,
   "metadata": {
    "collapsed": false
   },
   "outputs": [
    {
     "name": "stdout",
     "output_type": "stream",
     "text": [
      "0\n",
      "1\n",
      "2\n"
     ]
    },
    {
     "data": {
      "text/plain": [
       "undefined"
      ]
     },
     "execution_count": 3,
     "metadata": {},
     "output_type": "execute_result"
    }
   ],
   "source": [
    "function range(start, stop) {\n",
    "  return new RangeIterator(start, stop)\n",
    "}\n",
    "\n",
    "for (var value of range(0, 3)) {\n",
    "  console.log(value);\n",
    "}"
   ]
  },
  {
   "cell_type": "markdown",
   "metadata": {},
   "source": [
    "上面代码是一个类部署Iterator接口的写法。Symbol.iterator属性对应一个函数，执行后返回当前对象的遍历器对象。\n",
    "\n",
    "\n",
    "> 例:为一个对象部署Iterator接口"
   ]
  },
  {
   "cell_type": "code",
   "execution_count": 7,
   "metadata": {
    "collapsed": false
   },
   "outputs": [
    {
     "name": "stdout",
     "output_type": "stream",
     "text": [
      "a\n",
      "b\n",
      "c\n"
     ]
    },
    {
     "data": {
      "text/plain": [
       "undefined"
      ]
     },
     "execution_count": 7,
     "metadata": {},
     "output_type": "execute_result"
    }
   ],
   "source": [
    "let iterable = {\n",
    "  0: 'a',\n",
    "  1: 'b',\n",
    "  2: 'c',\n",
    "  length: 3,\n",
    "  [Symbol.iterator]: Array.prototype[Symbol.iterator]\n",
    "};\n",
    "for (let item of iterable) {\n",
    "  console.log(item) // 'a', 'b', 'c'\n",
    "}"
   ]
  },
  {
   "cell_type": "markdown",
   "metadata": {},
   "source": [
    "普通对象部署数组的Symbol.iterator方法，并无效果。必须有以从0开始的数字下标作为字段,并且有length字段作为长度的才可以用"
   ]
  },
  {
   "cell_type": "markdown",
   "metadata": {},
   "source": [
    "## 调用Iterator的场合\n",
    "\n",
    "+ 解构赋值\n",
    "\n",
    "所谓结构赋值就是把一个容器中的内容单独的赋值到对应的变量中\n",
    "\n",
    "对数组和Set结构进行解构赋值时，会默认调用Symbol.iterator方法。"
   ]
  },
  {
   "cell_type": "code",
   "execution_count": 8,
   "metadata": {
    "collapsed": false
   },
   "outputs": [
    {
     "name": "stdout",
     "output_type": "stream",
     "text": [
      "a\n",
      "b\n",
      "a\n",
      "[ 'b', 'c' ]\n"
     ]
    },
    {
     "data": {
      "text/plain": [
       "undefined"
      ]
     },
     "execution_count": 8,
     "metadata": {},
     "output_type": "execute_result"
    }
   ],
   "source": [
    "let set = new Set().add('a').add('b').add('c')\n",
    "\n",
    "let [x,y] = set\n",
    "console.log(x)\n",
    "console.log(y)\n",
    "let [first, ...rest] = set\n",
    "console.log(first)\n",
    "console.log(rest)"
   ]
  },
  {
   "cell_type": "markdown",
   "metadata": {},
   "source": [
    "+ 扩展运算符\n",
    "\n",
    "扩展运算符我们在前面见过了,也就是 `...`符号,通过这种方式可以将iterator对象方便的转换成数组,之前的map和set转化为array其实也是用了这一特性"
   ]
  },
  {
   "cell_type": "code",
   "execution_count": 9,
   "metadata": {
    "collapsed": false
   },
   "outputs": [
    {
     "data": {
      "text/plain": [
       "'use strict'"
      ]
     },
     "execution_count": 9,
     "metadata": {},
     "output_type": "execute_result"
    }
   ],
   "source": [
    "let arr = ['b', 'c']"
   ]
  },
  {
   "cell_type": "code",
   "execution_count": 10,
   "metadata": {
    "collapsed": false
   },
   "outputs": [
    {
     "data": {
      "text/plain": [
       "[ 'a', 'b', 'c', 'd' ]"
      ]
     },
     "execution_count": 10,
     "metadata": {},
     "output_type": "execute_result"
    }
   ],
   "source": [
    "['a', ...arr, 'd']"
   ]
  },
  {
   "cell_type": "markdown",
   "metadata": {},
   "source": [
    "+ yield (要用babel-polyfill)\n",
    "\n",
    "`yield*`后面跟的是一个可遍历的结构，它会调用该结构的遍历器接口。"
   ]
  },
  {
   "cell_type": "code",
   "execution_count": 13,
   "metadata": {
    "collapsed": false
   },
   "outputs": [
    {
     "data": {
      "text/plain": [
       "'use strict'"
      ]
     },
     "execution_count": 13,
     "metadata": {},
     "output_type": "execute_result"
    }
   ],
   "source": [
    "let generator = function* () {\n",
    "  yield 1\n",
    "  yield* [2,3,4]\n",
    "  yield 5\n",
    "}"
   ]
  },
  {
   "cell_type": "code",
   "execution_count": 15,
   "metadata": {
    "collapsed": false
   },
   "outputs": [
    {
     "data": {
      "text/plain": [
       "'use strict'"
      ]
     },
     "execution_count": 15,
     "metadata": {},
     "output_type": "execute_result"
    }
   ],
   "source": [
    "var iterator = generator()"
   ]
  },
  {
   "cell_type": "code",
   "execution_count": 16,
   "metadata": {
    "collapsed": false
   },
   "outputs": [
    {
     "data": {
      "text/plain": [
       "{ value: 1, done: false }"
      ]
     },
     "execution_count": 16,
     "metadata": {},
     "output_type": "execute_result"
    }
   ],
   "source": [
    "iterator.next()"
   ]
  },
  {
   "cell_type": "markdown",
   "metadata": {},
   "source": [
    "当然还会有其他的"
   ]
  },
  {
   "cell_type": "markdown",
   "metadata": {},
   "source": [
    "### 遍历器的return和throw方法\n",
    "\n",
    "遍历器对象除了具有next方法，还可以具有return方法和throw方法。如果你自己写遍历器对象生成函数，那么next方法是必须部署的，return方法和throw方法是否部署是可选的。\n",
    "\n",
    "+ return方法的使用场合是，如果for...of循环提前退出（通常是因为出错，或者有break语句或continue语句），就会调用return方法。如果一个对象在完成遍历前，需要清理或释放资源，就可以部署return方法。\n",
    "+ throw方法主要是配合Generator函数使用，一般的遍历器对象用不到这个方法,我们会在后面专门讲"
   ]
  },
  {
   "cell_type": "markdown",
   "metadata": {},
   "source": [
    ">例: 我们继续改进我们的range"
   ]
  },
  {
   "cell_type": "code",
   "execution_count": 22,
   "metadata": {
    "collapsed": false
   },
   "outputs": [
    {
     "data": {
      "text/plain": [
       "'use strict'"
      ]
     },
     "execution_count": 22,
     "metadata": {},
     "output_type": "execute_result"
    }
   ],
   "source": [
    "class RangeIterator {\n",
    "  constructor(start, stop) {\n",
    "    this.value = start\n",
    "    this.stop = stop\n",
    "  }\n",
    "\n",
    "  [Symbol.iterator]() { return this; }\n",
    "\n",
    "  next() {\n",
    "    var value = this.value\n",
    "    if (value < this.stop) {\n",
    "      this.value++;\n",
    "      return {done: false, value: value}\n",
    "    } else {\n",
    "      return {done: true, value: undefined}\n",
    "    }\n",
    "  }\n",
    "\n",
    "  return(){\n",
    "      console.log(\"中断啦\")\n",
    "  }\n",
    "}"
   ]
  },
  {
   "cell_type": "code",
   "execution_count": 23,
   "metadata": {
    "collapsed": false
   },
   "outputs": [
    {
     "name": "stdout",
     "output_type": "stream",
     "text": [
      "0\n",
      "1\n",
      "2\n",
      "3\n",
      "4\n",
      "5\n",
      "中断啦\n"
     ]
    },
    {
     "data": {
      "text/plain": [
       "undefined"
      ]
     },
     "execution_count": 23,
     "metadata": {},
     "output_type": "execute_result"
    }
   ],
   "source": [
    "function range(start, stop) {\n",
    "  return new RangeIterator(start, stop)\n",
    "}\n",
    "\n",
    "for (var value of range(0, 10)) {\n",
    "    if (value >5){\n",
    "        break\n",
    "    }\n",
    "  console.log(value);\n",
    "}"
   ]
  },
  {
   "cell_type": "markdown",
   "metadata": {},
   "source": [
    "# 遍历器与其他遍历手段的比较\n",
    "\n",
    "与其他遍历语法的比较\n",
    "以数组为例，JavaScript提供多种遍历语法。最原始的写法就是for循环。\n",
    "\n",
    "```javscript\n",
    "for (var index = 0; index < myArray.length; index++) {\n",
    "  console.log(myArray[index])\n",
    "}\n",
    "```\n",
    "\n",
    "这种写法比较麻烦，因此数组提供内置的forEach方法。\n",
    "\n",
    "```javscript\n",
    "myArray.forEach(function (value) {\n",
    "  console.log(value)\n",
    "})\n",
    "```\n",
    "\n",
    "这种写法的问题在于，无法中途跳出forEach循环，break命令或return命令都不能奏效。\n",
    "\n",
    "for...in循环可以遍历数组的键名。\n",
    "\n",
    "```javscript\n",
    "for (var index in myArray) {\n",
    "  console.log(myArray[index])\n",
    "}\n",
    "\n",
    "```\n",
    "\n",
    "for...in循环有几个缺点。\n",
    "\n",
    "数组的键名是数字，但是for...in循环是以字符串作为键名“0”、“1”、“2”等等。\n",
    "for...in循环不仅遍历数字键名，还会遍历手动添加的其他键，甚至包括原型链上的键。\n",
    "某些情况下，for...in循环会以任意顺序遍历键名。\n",
    "总之，for...in循环主要是为遍历对象而设计的，不适用于遍历数组。\n",
    "\n",
    "for...of循环相比上面几种做法，有一些显著的优点。\n",
    "\n",
    "```javscript\n",
    "for (let value of myArray) {\n",
    "  console.log(value)\n",
    "}\n",
    "\n",
    "```\n",
    "\n",
    "有着同for...in一样的简洁语法，但是没有for...in那些缺点。\n",
    "不同用于forEach方法，它可以与break、continue和return配合使用。\n",
    "提供了遍历所有数据结构的统一操作接口。\n",
    "下面是一个使用break语句，跳出for...of循环的例子。\n",
    "\n",
    "```javscript\n",
    "for (var n of fibonacci) {\n",
    "  if (n > 1000)\n",
    "    break\n",
    "  console.log(n)\n",
    "}\n",
    "```\n",
    "上面的例子，会输出斐波纳契数列小于等于1000的项。如果当前项大于1000，就会使用break语句跳出for...of循环。"
   ]
  }
 ],
 "metadata": {
  "kernelspec": {
   "display_name": "Babel (Node.js)",
   "language": "babel",
   "name": "babel"
  },
  "language_info": {
   "file_extension": "js",
   "mimetype": "application/javascript",
   "name": "javascript",
   "version": "4.4.3"
  }
 },
 "nbformat": 4,
 "nbformat_minor": 0
}
