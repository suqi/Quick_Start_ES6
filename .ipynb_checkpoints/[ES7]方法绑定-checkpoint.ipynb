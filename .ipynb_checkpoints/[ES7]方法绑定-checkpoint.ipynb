{
 "cells": [
  {
   "cell_type": "markdown",
   "metadata": {},
   "source": [
    "箭头函数可以绑定this对象，大大减少了显式绑定this对象的写法（call、apply、bind）。但是，箭头函数并不适用于所有场合，所以ES7提出了“函数绑定”（function bind）运算符，用来取代call、apply、bind调用。虽然该语法还是ES7的一个提案，但是Babel转码器已经支持。\n",
    "\n",
    "函数绑定运算符是并排的两个双冒号（::），双冒号左边是一个对象，右边是一个函数。该运算符会自动将左边的对象，作为上下文环境（即this对象），绑定到右边的函数上面。\n",
    "\n",
    "如果双冒号左边为空，右边是一个对象的方法，则等于将该方法绑定在该对象上面。由于双冒号运算符返回的还是原对象，因此可以采用链式写法。\n",
    "\n",
    "要使用这个特性,需要安装babel插件\n",
    "\n",
    "    npm install babel-plugin-syntax-do-expressions --save-dev\n",
    "    \n",
    "并配置`.babelrc`\n",
    "\n",
    "    \"plugins\": [\"syntax-do-expressions\"]"
   ]
  }
 ],
 "metadata": {
  "kernelspec": {
   "display_name": "Babel (Node.js)",
   "language": "babel",
   "name": "babel"
  },
  "language_info": {
   "file_extension": "js",
   "mimetype": "application/javascript",
   "name": "javascript",
   "version": "4.2.4"
  }
 },
 "nbformat": 4,
 "nbformat_minor": 0
}
