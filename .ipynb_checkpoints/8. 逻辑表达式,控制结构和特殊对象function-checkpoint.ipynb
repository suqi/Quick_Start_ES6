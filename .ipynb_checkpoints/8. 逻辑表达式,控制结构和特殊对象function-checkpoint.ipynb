{
 "cells": [
  {
   "cell_type": "markdown",
   "metadata": {},
   "source": [
    "# 逻辑表达式\n",
    "\n",
    "这个貌似没在啥书上看到,只是我自己的总结,我把所有与bool值有关的表达式称做逻辑表达式,这种表达式一般也就用在控制结构中,大体分为:\n",
    "\n",
    "表达式|说明\n",
    "---|---\n",
    "x >/</===/>=/<= y|值判断表达式,返回bool值\n",
    "x in container |包含判断,如果in之前的 值包含在in后面的容器中,则返回true,否则为false\n",
    "exp? trueif:falseif | 三元判断表达式,返回值根据?之前的表达式结果来定,如果为真返回:前的,否则返回:后的\n",
    "\n",
    "逻辑表达式是控制语句的基础"
   ]
  },
  {
   "cell_type": "markdown",
   "metadata": {},
   "source": [
    "# 控制结构\n",
    "\n",
    "一般来说控制语句就是条件判断,循环,分支和try语句了\n",
    "\n",
    "\n",
    "## 判断\n",
    "JavaScript使用形如:\n",
    "\n",
    "```javascript\n",
    "if () { \n",
    "    ... \n",
    "} else if () {\n",
    "    ... \n",
    "} else{\n",
    "    ...\n",
    "}\n",
    "```    \n",
    "这样的条件分支来实现判断语句\n",
    "\n",
    "练习: 计算一个年份是否是闰年(能被4或者400整除,但被100整除不算)"
   ]
  },
  {
   "cell_type": "code",
   "execution_count": 1,
   "metadata": {
    "collapsed": false
   },
   "outputs": [
    {
     "data": {
      "text/plain": [
       "'use strict'"
      ]
     },
     "execution_count": 1,
     "metadata": {},
     "output_type": "execute_result"
    }
   ],
   "source": [
    "function Leap(year) {\n",
    "    if (year%100 !== 0 && year%4 ===0 ){\n",
    "       return true\n",
    "    } else if(year%400 === 0){\n",
    "        return true\n",
    "    } else {\n",
    "        return false\n",
    "    }\n",
    "}"
   ]
  },
  {
   "cell_type": "code",
   "execution_count": 2,
   "metadata": {
    "collapsed": false
   },
   "outputs": [
    {
     "data": {
      "text/plain": [
       "false"
      ]
     },
     "execution_count": 2,
     "metadata": {},
     "output_type": "execute_result"
    }
   ],
   "source": [
    "Leap(2421)"
   ]
  },
  {
   "cell_type": "markdown",
   "metadata": {},
   "source": [
    "## 循环\n",
    "\n",
    "### for循环\n",
    "\n",
    "for循环形如:\n",
    "\n",
    "```javascript\n",
    "for (临时变量; 判断条件;改变临时变量) {\n",
    "    ...\n",
    "}\n",
    "```\n",
    "\n",
    "#### for ... of 循环\n",
    "\n",
    "这个是for循环最常用最好用的方法了,在之前的数据结构部分已经有相对详细的讲解了\n",
    "\n",
    "形如:\n",
    "\n",
    "```javascript\n",
    "for (temp of 容器){\n",
    "    ...\n",
    "}\n",
    "```\n",
    "**注意**:js中也有for in循环,然而并不好用,所以我就不写了....\n",
    "\n",
    "### while循环\n",
    "\n",
    "for循环在已知循环的初始和结束条件时非常有用。而while循环只有一个判断条件，条件满足，就不断循环，条件不满足时则退出循环。\n",
    "while循环形如:\n",
    "\n",
    "```javascript\n",
    "    while (exp) {\n",
    "        ...\n",
    "    }\n",
    "```    \n",
    "#### do ... while循环\n",
    "\n",
    "do ... while循环和while类似,只是它是先执行再判断.\n",
    "\n",
    "do ... while形如:\n",
    "\n",
    "```javascript\n",
    "    do {\n",
    "        ...\n",
    "    } while (exp)\n",
    "    \n",
    "```\n",
    "\n",
    "### break和continu\n",
    "和c类似,break和continu还是一样的语义,分别代表跳出循环和跳过当次循环"
   ]
  },
  {
   "cell_type": "markdown",
   "metadata": {},
   "source": [
    "## 分支switch\n",
    "\n",
    "switch语句依然沿用c风格,形如:\n",
    "\n",
    "```Javascript\n",
    "switch (exp){\n",
    "    case value: \n",
    "        block\n",
    "        break\n",
    "    case value: \n",
    "        block\n",
    "        break\n",
    "    default:\n",
    "        block\n",
    "}\n",
    "```"
   ]
  },
  {
   "cell_type": "markdown",
   "metadata": {},
   "source": [
    "千万不要忘了break!"
   ]
  },
  {
   "cell_type": "markdown",
   "metadata": {},
   "source": [
    "## try\n",
    "\n",
    "try语句一般用于错误处理,标准格式是\n",
    "\n",
    "```javascript\n",
    "try\n",
    "  {\n",
    "  //在这里运行代码\n",
    "  }\n",
    "catch(err)\n",
    "  {\n",
    "  //在这里处理错误\n",
    "  }\n",
    "```\n",
    "\n",
    "+ try 语句测试代码块的错误。\n",
    "+ catch 语句处理错误。\n",
    "\n",
    "### throw语句\n",
    "\n",
    "throw 语句用于抛出自定义异常。\n"
   ]
  },
  {
   "cell_type": "code",
   "execution_count": 3,
   "metadata": {
    "collapsed": false
   },
   "outputs": [
    {
     "ename": "Error",
     "evalue": "cuowu",
     "output_type": "error",
     "traceback": [
      "Error: cuowu",
      "    at evalmachine.<anonymous>:3:7",
      "    at Object.exports.runInThisContext (vm.js:54:17)",
      "    at run ([eval]:192:19)",
      "    at onMessage ([eval]:63:41)",
      "    at emitTwo (events.js:87:13)",
      "    at process.emit (events.js:172:7)",
      "    at handleMessage (internal/child_process.js:686:10)",
      "    at Pipe.channel.onread (internal/child_process.js:440:11)"
     ]
    }
   ],
   "source": [
    "throw new Error('cuowu')"
   ]
  },
  {
   "cell_type": "markdown",
   "metadata": {},
   "source": [
    "Error具有下面一些主要属性：\n",
    "\n",
    "+ message: 错误信息  \n",
    "+ name: 错误类型.  \n",
    "\n",
    "因此我们可以在catch语句段中使用它们\n",
    "\n",
    "事实上throw可以抛出任意对象"
   ]
  },
  {
   "cell_type": "markdown",
   "metadata": {},
   "source": [
    "目前我们可能得到的系统异常主要包含以下6种:\n",
    "+ EvalError: raised when an error occurs executing code in eval()  \n",
    "+ RangeError: raised when a numeric variable or parameter is outside of its valid range  \n",
    "+ ReferenceError: raised when de-referencing an invalid reference  \n",
    "+ SyntaxError: raised when a syntax error occurs while parsing code in eval()  \n",
    "+ TypeError: raised when a variable or parameter is not a valid type  \n",
    "+ URIError: raised when encodeURI() or decodeURI() are passed invalid parameters  "
   ]
  },
  {
   "cell_type": "code",
   "execution_count": 5,
   "metadata": {
    "collapsed": false
   },
   "outputs": [
    {
     "name": "stdout",
     "output_type": "stream",
     "text": [
      "2016-04-11 12:53:41\n"
     ]
    },
    {
     "data": {
      "text/plain": [
       "undefined"
      ]
     },
     "execution_count": 5,
     "metadata": {},
     "output_type": "execute_result"
    }
   ],
   "source": [
    "try{\n",
    "    throw new Date()\n",
    "} catch(d){\n",
    "    console.log(d.toLocaleString())\n",
    "}"
   ]
  },
  {
   "cell_type": "markdown",
   "metadata": {},
   "source": [
    "# Function\n",
    "\n",
    "函数是对象,因此它也有属性和方法\n",
    "\n",
    "属性|说明\n",
    "---|---\n",
    "this|指使用时所在的对象(注意)\n",
    "arguments|函数的参数存放处,一个类数组对象\n",
    "length|希望接收参数的个数\n",
    "prototype|保存实例方法的对象\n",
    "name|函数的名字\n",
    "\n",
    "\n",
    "方法|说明\n",
    "---|---\n",
    "toString()|返回字面量\n",
    "valueOf()|返回functin的值\n",
    "\n"
   ]
  },
  {
   "cell_type": "code",
   "execution_count": 1,
   "metadata": {
    "collapsed": false
   },
   "outputs": [
    {
     "data": {
      "text/plain": [
       "'use strict'"
      ]
     },
     "execution_count": 1,
     "metadata": {},
     "output_type": "execute_result"
    }
   ],
   "source": [
    "function a(x,y){\n",
    "    \n",
    "    return x+y\n",
    "    \n",
    "}"
   ]
  },
  {
   "cell_type": "code",
   "execution_count": 3,
   "metadata": {
    "collapsed": false
   },
   "outputs": [
    {
     "data": {
      "text/plain": [
       "''"
      ]
     },
     "execution_count": 3,
     "metadata": {},
     "output_type": "execute_result"
    }
   ],
   "source": [
    "()=>{return 1}.name"
   ]
  },
  {
   "cell_type": "markdown",
   "metadata": {},
   "source": [
    "\n",
    "\n",
    "像python中一样,fucntion是对象,定义一个function可以有4种方式:\n",
    "\n",
    "+ 使用`function`关键字\n",
    "\n",
    "    这种方式类似python中的define"
   ]
  },
  {
   "cell_type": "code",
   "execution_count": 6,
   "metadata": {
    "collapsed": false
   },
   "outputs": [
    {
     "data": {
      "text/plain": [
       "'use strict'"
      ]
     },
     "execution_count": 6,
     "metadata": {},
     "output_type": "execute_result"
    }
   ],
   "source": [
    "function a(...args){\n",
    "    return true\n",
    "}"
   ]
  },
  {
   "cell_type": "markdown",
   "metadata": {},
   "source": [
    "最标准的fucntion写法,没啥花头~"
   ]
  },
  {
   "cell_type": "markdown",
   "metadata": {},
   "source": [
    "+ 通过new关键字开辟一个新的Function对象\n",
    "\n",
    "```javascript\n",
    "var func =new Function(\"param1\",\"param2\",...\"function body\")\n",
    "```"
   ]
  },
  {
   "cell_type": "code",
   "execution_count": 11,
   "metadata": {
    "collapsed": false
   },
   "outputs": [
    {
     "data": {
      "text/plain": [
       "'use strict'"
      ]
     },
     "execution_count": 11,
     "metadata": {},
     "output_type": "execute_result"
    }
   ],
   "source": [
    "let a = new Function(\"x\",\"y\",\"var a = 10 ;return a+x+y\")"
   ]
  },
  {
   "cell_type": "code",
   "execution_count": 12,
   "metadata": {
    "collapsed": false
   },
   "outputs": [
    {
     "data": {
      "text/plain": [
       "13"
      ]
     },
     "execution_count": 12,
     "metadata": {},
     "output_type": "execute_result"
    }
   ],
   "source": [
    "a(1,2)"
   ]
  },
  {
   "cell_type": "markdown",
   "metadata": {},
   "source": [
    "这个就有花头了,function既然是一个对象,那当然可以用new关键字构建了,但不建议这样写,因为你也看到了,代码段成了字符串不好维护,而且显而易见的一定会有二次解析影响性能"
   ]
  },
  {
   "cell_type": "markdown",
   "metadata": {},
   "source": [
    "+ 匿名函数\n",
    "\n",
    "function不定义函数名就是匿名函数了"
   ]
  },
  {
   "cell_type": "code",
   "execution_count": 29,
   "metadata": {
    "collapsed": false
   },
   "outputs": [
    {
     "data": {
      "text/plain": [
       "'use strict'"
      ]
     },
     "execution_count": 29,
     "metadata": {},
     "output_type": "execute_result"
    }
   ],
   "source": [
    "let n = function(x,y){\n",
    "    return x+y\n",
    "}"
   ]
  },
  {
   "cell_type": "code",
   "execution_count": 30,
   "metadata": {
    "collapsed": false
   },
   "outputs": [
    {
     "data": {
      "text/plain": [
       "3"
      ]
     },
     "execution_count": 30,
     "metadata": {},
     "output_type": "execute_result"
    }
   ],
   "source": [
    "n(1,2)"
   ]
  },
  {
   "cell_type": "markdown",
   "metadata": {},
   "source": [
    "+ 箭头函数\n",
    "\n",
    "```javascript\n",
    "let s = (x,y)=>{\n",
    "    return x+y\n",
    "}\n",
    "```"
   ]
  },
  {
   "cell_type": "code",
   "execution_count": 13,
   "metadata": {
    "collapsed": false
   },
   "outputs": [
    {
     "data": {
      "text/plain": [
       "'use strict'"
      ]
     },
     "execution_count": 13,
     "metadata": {},
     "output_type": "execute_result"
    }
   ],
   "source": [
    "let s = (x,y)=>{\n",
    "    return x+y\n",
    "}"
   ]
  },
  {
   "cell_type": "code",
   "execution_count": 14,
   "metadata": {
    "collapsed": false
   },
   "outputs": [
    {
     "data": {
      "text/plain": [
       "3"
      ]
     },
     "execution_count": 14,
     "metadata": {},
     "output_type": "execute_result"
    }
   ],
   "source": [
    "s(1,2)"
   ]
  },
  {
   "cell_type": "markdown",
   "metadata": {},
   "source": [
    "这是ES6中新增的方式,主要好处在于简化函数的使用,不过需要注意的是:\n",
    "\n",
    "（1）函数体内的this对象，就是定义时所在的对象，而不是使用时所在的对象。\n",
    "\n",
    "（2）不可以当作构造函数，也就是说，不可以使用new命令，否则会抛出一个错误。\n",
    "\n",
    "（3）不可以使用arguments对象，该对象在函数体内不存在。如果要用，可以用Rest参数代替。\n",
    "\n",
    "（4）不可以使用yield命令，因此箭头函数不能用作Generator函数。\n",
    "\n",
    "上面四点中，第一点尤其值得注意。this对象的指向是可变的，但是在箭头函数中，它是固定的。"
   ]
  },
  {
   "cell_type": "markdown",
   "metadata": {},
   "source": [
    "## 函数的参数\n",
    "\n",
    "### arguments\n",
    "\n",
    "定义function后,Js实际上会默认将所有参数传入一个内部变量`arguments`,它类似一个`array`,因此即便你定义的参数数目和实际使用给的参数数目不同也没关系,用`arguments`就可以了,有点类似python中的`*args`."
   ]
  },
  {
   "cell_type": "code",
   "execution_count": 19,
   "metadata": {
    "collapsed": false
   },
   "outputs": [
    {
     "data": {
      "text/plain": [
       "'use strict'"
      ]
     },
     "execution_count": 19,
     "metadata": {},
     "output_type": "execute_result"
    }
   ],
   "source": [
    "function sum() {\n",
    "    var args = Array.prototype.slice.apply(arguments)\n",
    "    var sum = args.reduce(function(x,y){\n",
    "        return x+y\n",
    "    }) \n",
    "    return sum\n",
    "}"
   ]
  },
  {
   "cell_type": "code",
   "execution_count": 20,
   "metadata": {
    "collapsed": false
   },
   "outputs": [
    {
     "data": {
      "text/plain": [
       "6"
      ]
     },
     "execution_count": 20,
     "metadata": {},
     "output_type": "execute_result"
    }
   ],
   "source": [
    "sum(1,2,3)"
   ]
  },
  {
   "cell_type": "markdown",
   "metadata": {},
   "source": [
    "使用arguments也可以实现参数默认值的设定"
   ]
  },
  {
   "cell_type": "code",
   "execution_count": 21,
   "metadata": {
    "collapsed": false
   },
   "outputs": [
    {
     "data": {
      "text/plain": [
       "'use strict'"
      ]
     },
     "execution_count": 21,
     "metadata": {},
     "output_type": "execute_result"
    }
   ],
   "source": [
    "function defaultArgs(){\n",
    "    var a = arguments[0] ? arguments[0] : 1//设置参数a的默认值为1\n",
    "    var b = arguments[1] ? arguments[1] : 9//设置参数b的默认值为9\n",
    "    return [a,b,Array.prototype.slice.apply(arguments)]\n",
    "}"
   ]
  },
  {
   "cell_type": "code",
   "execution_count": 22,
   "metadata": {
    "collapsed": false
   },
   "outputs": [
    {
     "data": {
      "text/plain": [
       "[ 1, 2, [ 1, 2, 3 ] ]"
      ]
     },
     "execution_count": 22,
     "metadata": {},
     "output_type": "execute_result"
    }
   ],
   "source": [
    "defaultArgs(1,2,3)"
   ]
  },
  {
   "cell_type": "markdown",
   "metadata": {},
   "source": [
    "### 变长参数\n",
    "\n",
    "我们可以使用扩展运算符来实现边长参数的使用,这个就真的有点像python中的`*args`了\n"
   ]
  },
  {
   "cell_type": "code",
   "execution_count": 23,
   "metadata": {
    "collapsed": false
   },
   "outputs": [
    {
     "data": {
      "text/plain": [
       "'use strict'"
      ]
     },
     "execution_count": 23,
     "metadata": {},
     "output_type": "execute_result"
    }
   ],
   "source": [
    "function foo(a, b, ...rest) {\n",
    "    console.log('a = ' + a);\n",
    "    console.log('b = ' + b);\n",
    "    console.log(rest);\n",
    "}"
   ]
  },
  {
   "cell_type": "code",
   "execution_count": 24,
   "metadata": {
    "collapsed": false
   },
   "outputs": [
    {
     "name": "stdout",
     "output_type": "stream",
     "text": [
      "a = 1\n",
      "b = 2\n",
      "[ 3, 3, 4, 5 ]\n"
     ]
    },
    {
     "data": {
      "text/plain": [
       "undefined"
      ]
     },
     "execution_count": 24,
     "metadata": {},
     "output_type": "execute_result"
    }
   ],
   "source": [
    "foo(1,2,3,3,4,5)"
   ]
  },
  {
   "cell_type": "markdown",
   "metadata": {},
   "source": [
    "### 默认参数"
   ]
  },
  {
   "cell_type": "code",
   "execution_count": 36,
   "metadata": {
    "collapsed": false
   },
   "outputs": [
    {
     "data": {
      "text/plain": [
       "'use strict'"
      ]
     },
     "execution_count": 36,
     "metadata": {},
     "output_type": "execute_result"
    }
   ],
   "source": [
    "function bar(a = 1,b = 2){\n",
    "    return a+b\n",
    "}"
   ]
  },
  {
   "cell_type": "code",
   "execution_count": 37,
   "metadata": {
    "collapsed": false
   },
   "outputs": [
    {
     "data": {
      "text/plain": [
       "3"
      ]
     },
     "execution_count": 37,
     "metadata": {},
     "output_type": "execute_result"
    }
   ],
   "source": [
    "bar()"
   ]
  },
  {
   "cell_type": "markdown",
   "metadata": {},
   "source": [
    "### 闭包 \n",
    "\n",
    "js支持高阶函数,当然也就支持闭包了\n",
    "\n",
    "所谓闭包就是返回值是一个函数\n",
    "\n",
    "> 例 一个自加器"
   ]
  },
  {
   "cell_type": "code",
   "execution_count": 40,
   "metadata": {
    "collapsed": false
   },
   "outputs": [
    {
     "data": {
      "text/plain": [
       "'use strict'"
      ]
     },
     "execution_count": 40,
     "metadata": {},
     "output_type": "execute_result"
    }
   ],
   "source": [
    "let counter = () => {\n",
    "    let flag = 0\n",
    "    let count = () =>{\n",
    "        flag += 1\n",
    "        return flag\n",
    "    }\n",
    "    return count\n",
    "}"
   ]
  },
  {
   "cell_type": "code",
   "execution_count": 42,
   "metadata": {
    "collapsed": false
   },
   "outputs": [
    {
     "name": "stdout",
     "output_type": "stream",
     "text": [
      "1\n",
      "2\n",
      "3\n",
      "4\n"
     ]
    },
    {
     "data": {
      "text/plain": [
       "undefined"
      ]
     },
     "execution_count": 42,
     "metadata": {},
     "output_type": "execute_result"
    }
   ],
   "source": [
    "let c1 = counter()\n",
    "console.log(c1())\n",
    "console.log(c1())\n",
    "console.log(c1())\n",
    "console.log(c1())"
   ]
  }
 ],
 "metadata": {
  "kernelspec": {
   "display_name": "Babel (Node.js)",
   "language": "babel",
   "name": "babel"
  },
  "language_info": {
   "file_extension": "js",
   "mimetype": "application/javascript",
   "name": "javascript",
   "version": "4.2.4"
  }
 },
 "nbformat": 4,
 "nbformat_minor": 0
}
