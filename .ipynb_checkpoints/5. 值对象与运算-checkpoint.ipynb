{
 "cells": [
  {
   "cell_type": "markdown",
   "metadata": {},
   "source": [
    "# 值\n",
    "\n",
    "Js是动态弱类型语言,值只有那么几种类型:"
   ]
  },
  {
   "cell_type": "markdown",
   "metadata": {},
   "source": [
    "Js内置类型大概就这么7种:\n",
    "\n",
    "+ Number    数值型\n",
    "+ String    字符串型\n",
    "+ Bool      布尔型\n",
    "+ null      空值类型\n",
    "+ undefined 未定义类型\n",
    "+ object    对象类型\n",
    "+ Symbol    标志位类型\n",
    "\n",
    "我们可以用typeof函数来辨识一个值得类型,不过值得注意的是`function`也是typeof的一种可能的返回值.然而function是object\n"
   ]
  },
  {
   "cell_type": "code",
   "execution_count": 41,
   "metadata": {
    "collapsed": false
   },
   "outputs": [
    {
     "data": {
      "text/plain": [
       "'function'"
      ]
     },
     "execution_count": 41,
     "metadata": {},
     "output_type": "execute_result"
    }
   ],
   "source": [
    "typeof(()=>{\n",
    "    return 1\n",
    "})"
   ]
  },
  {
   "cell_type": "markdown",
   "metadata": {},
   "source": [
    "## Number"
   ]
  },
  {
   "cell_type": "code",
   "execution_count": 77,
   "metadata": {
    "collapsed": false
   },
   "outputs": [
    {
     "data": {
      "text/plain": [
       "1024547"
      ]
     },
     "execution_count": 77,
     "metadata": {},
     "output_type": "execute_result"
    }
   ],
   "source": [
    "123 // 整数123\n",
    "0.456 // 浮点数0.456\n",
    "1.2345e3// 科学计数法表示1.2345x1000，等同于1234.5\n",
    "-99// 负数\n",
    "NaN // NaN表示Not a Number，当无法计算结果时用NaN表示,NaN这个特殊的Number与所有其他值都不相等，包括它自己\n",
    "Infinity // Infinity表示无限大，当数值超过了JavaScript的Number所能表示的最大值时，就表示为Infinity\n",
    "0b111110111 //二进制数\n",
    "0o767     //八进制数\n",
    "0xfa223   //16进制数"
   ]
  },
  {
   "cell_type": "markdown",
   "metadata": {},
   "source": [
    "### Number类型的坑:\n",
    "\n",
    "+ ** 浮点数计算**"
   ]
  },
  {
   "cell_type": "code",
   "execution_count": 31,
   "metadata": {
    "collapsed": false
   },
   "outputs": [
    {
     "data": {
      "text/plain": [
       "false"
      ]
     },
     "execution_count": 31,
     "metadata": {},
     "output_type": "execute_result"
    }
   ],
   "source": [
    "0.1+0.2 == 0.3"
   ]
  },
  {
   "cell_type": "markdown",
   "metadata": {},
   "source": [
    "注意,这是因为我们的浮点数并没有设定精度,大家肯定都觉得本该是true呀,其实本来就该是错的(IEEE 754),浮点数必须有精度!一个解决方案是全部化成整数在算,另一呢...js就别做计算了吧"
   ]
  },
  {
   "cell_type": "markdown",
   "metadata": {},
   "source": [
    "+ ** NaN**\n",
    "\n",
    "它表示不是一个数...但他自己确是数值类型,而且NaN不等于NaN...很矛盾哇"
   ]
  },
  {
   "cell_type": "code",
   "execution_count": 32,
   "metadata": {
    "collapsed": false
   },
   "outputs": [
    {
     "data": {
      "text/plain": [
       "'number'"
      ]
     },
     "execution_count": 32,
     "metadata": {},
     "output_type": "execute_result"
    }
   ],
   "source": [
    "typeof(NaN)"
   ]
  },
  {
   "cell_type": "code",
   "execution_count": 33,
   "metadata": {
    "collapsed": false
   },
   "outputs": [
    {
     "data": {
      "text/plain": [
       "false"
      ]
     },
     "execution_count": 33,
     "metadata": {},
     "output_type": "execute_result"
    }
   ],
   "source": [
    "0 == NaN"
   ]
  },
  {
   "cell_type": "code",
   "execution_count": 38,
   "metadata": {
    "collapsed": false
   },
   "outputs": [
    {
     "data": {
      "text/plain": [
       "NaN"
      ]
     },
     "execution_count": 38,
     "metadata": {},
     "output_type": "execute_result"
    }
   ],
   "source": [
    "parseInt(\"asdf\") "
   ]
  },
  {
   "cell_type": "code",
   "execution_count": 39,
   "metadata": {
    "collapsed": false
   },
   "outputs": [
    {
     "data": {
      "text/plain": [
       "false"
      ]
     },
     "execution_count": 39,
     "metadata": {},
     "output_type": "execute_result"
    }
   ],
   "source": [
    "NaN === NaN"
   ]
  },
  {
   "cell_type": "markdown",
   "metadata": {},
   "source": [
    "所以如果你要判断一个变量是不是NaN你得使用函数:\n",
    "\n",
    "    isNaN(\"xxx\")"
   ]
  },
  {
   "cell_type": "code",
   "execution_count": 78,
   "metadata": {
    "collapsed": false,
    "scrolled": true
   },
   "outputs": [
    {
     "data": {
      "text/plain": [
       "true"
      ]
     },
     "execution_count": 78,
     "metadata": {},
     "output_type": "execute_result"
    }
   ],
   "source": [
    "isNaN(\"xxx\")"
   ]
  },
  {
   "cell_type": "markdown",
   "metadata": {},
   "source": [
    "+ Infinity\n",
    "\n",
    "和NaN类似,要检查一个值是否***非无穷***可以使用函数isFinite()"
   ]
  },
  {
   "cell_type": "code",
   "execution_count": 79,
   "metadata": {
    "collapsed": false
   },
   "outputs": [
    {
     "data": {
      "text/plain": [
       "false"
      ]
     },
     "execution_count": 79,
     "metadata": {},
     "output_type": "execute_result"
    }
   ],
   "source": [
    "isFinite(Infinity)"
   ]
  },
  {
   "cell_type": "code",
   "execution_count": 80,
   "metadata": {
    "collapsed": false
   },
   "outputs": [
    {
     "data": {
      "text/plain": [
       "true"
      ]
     },
     "execution_count": 80,
     "metadata": {},
     "output_type": "execute_result"
    }
   ],
   "source": [
    "isFinite(15)"
   ]
  },
  {
   "cell_type": "markdown",
   "metadata": {},
   "source": [
    "#### ES6中的新方法和属性\n",
    "\n",
    "+ Number.isFinite()  \n",
    "\n",
    "    与isFinite()的区别在于，传统方法先调用Number()将非数值的值转为数值，再进行判断，这个新方法只对数值有效，非数值一律返回false。\n",
    "    \n",
    "+ Number.isNaN()     \n",
    "\n",
    "    与isNaN()的区别在于，传统方法先调用Number()将非数值的值转为数值，再进行判断，这个新方法只对数值有效，非数值一律返回false。\n",
    "    \n",
    "+ Number.isInteger() \n",
    "\n",
    "    用来判断一个值是否为整数。需要注意的是，在JavaScript内部，整数和浮点数是同样的储存方法，所以3和3.0被视为同一个值。\n",
    "\n",
    "+ Number.EPSILON/Number.EPSILON.toFixed(20)     \n",
    "\n",
    "    极小的常量Number.EPSILON,引入一个这么小的量的目的，在于为浮点数计算，设置一个误差范围。我们知道浮点数计算是不精确的。但是如果这个误差能够小于Number.EPSILON，我们就可以认为得到了正确结果。因此，Number.EPSILON的实质是一个可以接受的误差范围。\n",
    "    \n",
    "+ 安全整数Number.MAX_SAFE_INTEGER和Number.MIN_SAFE_INTEGER和Number.isSafeInteger()\n",
    "JavaScript能够准确表示的整数范围在-2^53到2^53之间（不含两个端点），超过这个范围，无法精确表示这个值。Number.MAX_SAFE_INTEGER和Number.MIN_SAFE_INTEGER这两个常量，用来表示这个范围的上下限。`Number.isSafeInteger()`则是用来判断一个整数是否落在这个范围之内。"
   ]
  },
  {
   "cell_type": "code",
   "execution_count": 82,
   "metadata": {
    "collapsed": false
   },
   "outputs": [
    {
     "name": "stdout",
     "output_type": "stream",
     "text": [
      "true\n",
      "true\n",
      "false\n"
     ]
    },
    {
     "data": {
      "text/plain": [
       "undefined"
      ]
     },
     "execution_count": 82,
     "metadata": {},
     "output_type": "execute_result"
    }
   ],
   "source": [
    "console.log(Number.isInteger(25)) // true\n",
    "console.log(Number.isInteger(25.0)) // true\n",
    "console.log(Number.isInteger(25.1)) // false"
   ]
  },
  {
   "cell_type": "code",
   "execution_count": 84,
   "metadata": {
    "collapsed": false
   },
   "outputs": [
    {
     "data": {
      "text/plain": [
       "'0.00000000000000005551'"
      ]
     },
     "execution_count": 84,
     "metadata": {},
     "output_type": "execute_result"
    }
   ],
   "source": [
    "(0.1 + 0.2 - 0.3).toFixed(20)"
   ]
  },
  {
   "cell_type": "code",
   "execution_count": 85,
   "metadata": {
    "collapsed": false
   },
   "outputs": [
    {
     "data": {
      "text/plain": [
       "true"
      ]
     },
     "execution_count": 85,
     "metadata": {},
     "output_type": "execute_result"
    }
   ],
   "source": [
    "(0.1 + 0.2 - 0.3) < Number.EPSILON"
   ]
  },
  {
   "cell_type": "markdown",
   "metadata": {},
   "source": [
    "### 数值运算和Math对象"
   ]
  },
  {
   "cell_type": "markdown",
   "metadata": {},
   "source": [
    "js默认提供了多种通用的运算符用来做数值运算\n",
    "\n",
    "运算符|意义\n",
    "---|---\n",
    "+|加法\n",
    "-|减法\n",
    "\\*|乘法\n",
    "/|除法\n",
    "%|求余\n",
    "\\*\\*|乘方\n",
    "\n",
    "并且提供了赋值运算:\n",
    "\n",
    "运算符|意义\n",
    "---|---\n",
    "=|赋值\n",
    "+=|自己加上后一个数\n",
    "-=|自己减去后一个数\n",
    "\\*=|自己乘后一个数\n",
    "/=|自己除后一个数\n",
    "%=|自己与后一个数求余"
   ]
  },
  {
   "cell_type": "markdown",
   "metadata": {},
   "source": [
    "Math对象类似python的标准库math,提供了一些不太常用的基本数值计算方法和通用的常数\n",
    "\n",
    "常数:\n",
    "\n",
    "属性|\t描述\n",
    "---|---\n",
    "E\t|返回算术常量 e，即自然对数的底数（约等于2.718）。\n",
    "LN2\t|返回 2 的自然对数（约等于0.693）。\n",
    "LN10\t|返回 10 的自然对数（约等于2.302）。\n",
    "LOG2E\t|返回以 2 为底的 e 的对数（约等于 1.414）。\n",
    "LOG10E|\t返回以 10 为底的 e 的对数（约等于0.434）。\n",
    "PI\t|返回圆周率（约等于3.14159）。\n",
    "SQRT1_2\t|返回返回 2 的平方根的倒数（约等于 0.707）。\n",
    "SQRT2\t|返回 2 的平方根（约等于 1.414）。\n",
    "\n",
    "方法:\n",
    "\n",
    "方法|\t描述\n",
    "---|---\n",
    "random()|\t返回 0 ~ 1 之间的随机数。\n",
    "fround(x)|方法返回一个数的单精度浮点数形式。\n",
    "round(x)\t|把数四舍五入为最接近的整数。\n",
    "trunc(x)|方法用于去除一个数的小数部分，返回整数部分\n",
    "abs(x)\t|返回数的绝对值。\n",
    "sign(x)|方法用来判断一个数到底是正数、负数、还是零。它会返回五种值。<br>参数为正数，返回+1；<br>参数为负数，返回-1；<br>参数为0，返回0；<br>参数为-0，返回-0;<br>其他值，返回NaN。\n",
    "ceil(x)|\t对数进行上舍入。\n",
    "floor(x)\t|对数进行下舍入。\n",
    "max(x,y)\t|返回 x 和 y 中的最高值。\n",
    "min(x,y)\t|返回 x 和 y 中的最低值。\n",
    "cos(x)\t|返回数的余弦。\n",
    "sin(x)|\t返回数的正弦。\n",
    "tan(x)\t|返回角的正切。\n",
    "acos(x)|\t返回数的反余弦值。\n",
    "asin(x)|\t返回数的反正弦值。\n",
    "atan(x)|\t以介于 -PI/2 与 PI/2 弧度之间的数值来返回 x 的反正切值。\n",
    "atan2(y,x)|\t返回从 x 轴到点 (x,y) 的角度（介于 -PI/2 与 PI/2 弧度之间）。\n",
    "sinh(x)| 返回x的双曲正弦（hyperbolic sine）\n",
    "cosh(x) |返回x的双曲余弦（hyperbolic cosine）\n",
    "tanh(x) |返回x的双曲正切（hyperbolic tangent）\n",
    "asinh(x) |返回x的反双曲正弦（inverse hyperbolic sine）\n",
    "acosh(x) |返回x的反双曲余弦（inverse hyperbolic cosine）\n",
    "atanh(x) |返回x的反双曲正切（inverse hyperbolic tangent）\n",
    "pow(x,y)\t|返回 x 的 y 次幂。\n",
    "sqrt(x)|\t返回数的平方根。\n",
    "hypot(...args)|方法返回所有参数的平方和的平方根\n",
    "cbrt(x)|方法用于计算一个数的立方根\n",
    "exp(x)\t|返回 e 的指数。\n",
    "log(x)\t|返回数的自然对数（底为e）。\n",
    "expm1(x)|返回Math.exp(x) - 1\n",
    "log1p(x)|方法返回1 + x的自然对数，即Math.log(1 + x)。如果x小于-1，返回NaN。\n",
    "log10(x)|返回以10为底的x的对数。如果x小于0，则返回NaN\n",
    "log2(x)|返回以2为底的x的对数。如果x小于0，则返回NaN。\n",
    "clz32(x)|返回一个数的32位无符号整数形式有多少个前导0。\n",
    "imul(x,y)|方法返回两个数以32位带符号整数形式相乘的结果，返回的也是一个32位的带符号整数。\n",
    "toSource()\t|返回该对象的源代码。[兼容性]\n",
    "valueOf()\t|返回 Math 对象的原始值。"
   ]
  },
  {
   "cell_type": "markdown",
   "metadata": {},
   "source": [
    "### 类型转换\n",
    "\n",
    "Number()函数,将一个值转变为10进制数值类型\n",
    "\n",
    "虽然js早期版本提供了Number(),parseInt()和parseFloat()三种用来将对象值转换为数值类型的方法,但因为\n",
    "\n",
    "+ 为了好记\n",
    "+ 为了与python统一记\n",
    "+ 适应ES6中没有后两种全局方法,而是在Number对象中新增了同名方法\n",
    "\n",
    "我们就只搞第一个\n",
    "\n",
    "`Number()`的转换特点如下:\n",
    "\n",
    "+ 布尔值       true变成1,false变成0\n",
    "+ 数值型       原来是啥还是啥\n",
    "+ null        变成0\n",
    "+ undefined   NaN\n",
    "+ 字符串\n",
    "    + 只包含数字(包括前面有正负号的情况)    去掉前置的0转换成十进制整数\n",
    "    + 包括`.`符号,其他都是数              去掉前置的0转换成十进制浮点数数\n",
    "    + 包含`0xf`,`0b和0x`字样            作为16进制数转换成10进制数\n",
    "    + 空字符串                          0\n",
    "    + 包括其他的字符                     NaN\n",
    "+ 对象         调用valueOf()方法再转值,没有的话再试toString()方法\n",
    "+ Symbol      babel-node直接报错`TypeError`"
   ]
  },
  {
   "cell_type": "code",
   "execution_count": 45,
   "metadata": {
    "collapsed": false
   },
   "outputs": [
    {
     "data": {
      "text/plain": [
       "1.23"
      ]
     },
     "execution_count": 45,
     "metadata": {},
     "output_type": "execute_result"
    }
   ],
   "source": [
    "Number(\"1.23\")"
   ]
  },
  {
   "cell_type": "code",
   "execution_count": 73,
   "metadata": {
    "collapsed": false
   },
   "outputs": [
    {
     "ename": "TypeError",
     "evalue": "Cannot convert a Symbol value to a number",
     "output_type": "error",
     "traceback": [
      "TypeError: Cannot convert a Symbol value to a number",
      "    at Number (native)",
      "    at evalmachine.<anonymous>:3:1",
      "    at Object.exports.runInThisContext (vm.js:54:17)",
      "    at run ([eval]:192:19)",
      "    at onMessage ([eval]:63:41)",
      "    at emitTwo (events.js:87:13)",
      "    at process.emit (events.js:172:7)",
      "    at handleMessage (internal/child_process.js:686:10)",
      "    at Pipe.channel.onread (internal/child_process.js:440:11)"
     ]
    }
   ],
   "source": [
    "Number(Symbol())"
   ]
  },
  {
   "cell_type": "markdown",
   "metadata": {},
   "source": [
    "## 字符串\n",
    "\n",
    "字符串是以单引号'或双引号\"括起来的任意文本，比如'abc'，\"xyz\"等等。请注意，''或\"\"本身只是一种表示方式，不是字符串的一部分，因此，字符串'abc'只有a，b，c这3个字符。\n",
    "\n",
    "和python中一样,js的字符串也是不可变值"
   ]
  },
  {
   "cell_type": "markdown",
   "metadata": {
    "collapsed": false
   },
   "source": [
    "字符串对象的默认属性和方法:\n",
    "\n",
    "属性\t|描述\n",
    "---|---\n",
    "length\t|字符串的长度\n",
    "\n",
    "字符串的运算符:\n",
    "\n",
    "运算符|描述\n",
    "---|---\n",
    "+|字符串连接\n",
    "\n",
    "字符串对象方法:\n",
    "\n",
    "方法\t|描述\n",
    "---|---\n",
    "anchor(anchorname)\t|创建 HTML 锚。\n",
    "big()\t|用大号字体显示字符串。\n",
    "small()\t|使用小字号来显示字符串。\n",
    "blink()\t|显示闪动字符串。\n",
    "bold()\t|使用粗体显示字符串。\n",
    "italics()\t|使用斜体显示字符串。\n",
    "fixed()\t|以打字机文本显示字符串。\n",
    "strike()|\t使用删除线来显示字符串。\n",
    "sub()\t|把字符串显示为下标。\n",
    "sup()\t|把字符串显示为上标。\n",
    "toLocaleLowerCase()\t|把字符串转换为小写。\n",
    "toLocaleUpperCase()|把字符串转换为大写。\n",
    "toLowerCase()\t|把字符串转换为小写。\n",
    "toUpperCase()\t|把字符串转换为大写。\n",
    "toSource()\t|代表对象的源代码。[兼容性]\n",
    "toString()\t|返回字符串。\n",
    "valueOf()\t|返回某个字符串对象的原始值。\n",
    "fontcolor(color)\t|使用指定的颜色来显示字符串。\n",
    "fontsize(size)\t|使用指定的尺寸来显示字符串。\n",
    "lastIndexOf(searchvalue [,fromindex])\t|从后向前搜索字符串。\n",
    "link(url)\t|将字符串显示为链接。\n",
    "localeCompare(target)\t|用本地特定的顺序来比较两个字符串。\n",
    "match(searchvalue/regexp)\t|找到一个或多个正则表达式的匹配。\n",
    "replace(regexp/substr,replacement)\t|替换与正则表达式匹配的子串。\n",
    "search(regexp)\t|检索与正则表达式相匹配的值。\n",
    "slice(start,end)|\t提取字符串的片断，并在新的字符串中返回被提取的部分。\n",
    "concat(stringX,stringX,...,stringX)\t|连接字符串。\n",
    "split(separator[,howmany])\t|把字符串分割为字符串数组。howmany可指定返回的数组的最大长度。如果设置了该参数，返回的子串不会多于这个参数指定的数组。如果没有设置该参数，整个字符串都会被分割，不考虑它的长度。\n",
    "substr(start[,length])\t|从起始索引号提取字符串中指定数目的字符。length参数表示子串中的字符数。必须是数值。如果省略了该参数，那么返回从 stringObject 的开始位置到结尾的字串\n",
    "substring(start[,stop])|\t提取字符串中两个指定的索引号之间的字符。stop参数比要提取的子串的最后一个字符在 stringObject 中的位置多 1。如果省略该参数，那么返回的子串会一直到字符串的结尾。\n",
    "codePointAt(index)|返回在指定的位置的字符的 Unicode 编码\n",
    "repeat(n)|返回字符串重复n次的字符串\n",
    "includes(searchvalue [,fromindex])|返回布尔值，表示是否找到了参数字符串。\n",
    "startsWith(searchvalue [,fromindex])|返回布尔值，表示参数字符串是否在源字符串的头部\n",
    "endsWith(searchvalue [,fromindex])|返回布尔值，表示参数字符串是否在源字符串的尾部。\n",
    "indexOf(searchvalue [,fromindex])|返回某个指定的字符串值在字符串中首次出现的位置,不存在则返回-1"
   ]
  },
  {
   "cell_type": "markdown",
   "metadata": {},
   "source": [
    "### unicode和utf-16编码支持\n",
    "\n",
    "ES6允许采用`\\u{xxxx}`形式表示一个字符，其中“xxxx”表示字符的码点"
   ]
  },
  {
   "cell_type": "code",
   "execution_count": 86,
   "metadata": {
    "collapsed": false
   },
   "outputs": [
    {
     "data": {
      "text/plain": [
       "'🚀'"
      ]
     },
     "execution_count": 86,
     "metadata": {},
     "output_type": "execute_result"
    }
   ],
   "source": [
    "'\\u{1F680}'"
   ]
  },
  {
   "cell_type": "markdown",
   "metadata": {},
   "source": [
    "JavaScript内部，字符以UTF-16的格式储存，每个字符固定为2个字节。对于那些需要4个字节储存的字符（Unicode码点大于0xFFFF的字符），JavaScript会认为它们是两个字符。\n",
    "\n",
    "codePointAt方法会正确返回32位的UTF-16字符的码点。对于那些两个字节储存的常规字符，它的返回结果与charCodeAt方法相同。\n",
    "\n",
    "codePointAt方法返回的是码点的十进制值，如果想要十六进制的值，可以使用toString方法转换一下。\n",
    "\n",
    "'𠮷'是一个典型的4字节存储字符,我们以它举例"
   ]
  },
  {
   "cell_type": "code",
   "execution_count": 87,
   "metadata": {
    "collapsed": false
   },
   "outputs": [
    {
     "data": {
      "text/plain": [
       "134071"
      ]
     },
     "execution_count": 87,
     "metadata": {},
     "output_type": "execute_result"
    }
   ],
   "source": [
    "var s = '𠮷a'\n",
    "s.codePointAt(0) // 134071\n"
   ]
  },
  {
   "cell_type": "code",
   "execution_count": 88,
   "metadata": {
    "collapsed": false,
    "scrolled": true
   },
   "outputs": [
    {
     "data": {
      "text/plain": [
       "57271"
      ]
     },
     "execution_count": 88,
     "metadata": {},
     "output_type": "execute_result"
    }
   ],
   "source": [
    "s.codePointAt(1) // 57271"
   ]
  },
  {
   "cell_type": "code",
   "execution_count": 89,
   "metadata": {
    "collapsed": false
   },
   "outputs": [
    {
     "data": {
      "text/plain": [
       "97"
      ]
     },
     "execution_count": 89,
     "metadata": {},
     "output_type": "execute_result"
    }
   ],
   "source": [
    "s.codePointAt(2)"
   ]
  },
  {
   "cell_type": "markdown",
   "metadata": {},
   "source": [
    "同样的,要把一个4字节的utf-16字符从码点返回,我们可以用`String.fromCodePoint`,注意,这个是String对象的方法,不是字符串对象的"
   ]
  },
  {
   "cell_type": "code",
   "execution_count": 91,
   "metadata": {
    "collapsed": false,
    "scrolled": true
   },
   "outputs": [
    {
     "data": {
      "text/plain": [
       "'𠮷'"
      ]
     },
     "execution_count": 91,
     "metadata": {},
     "output_type": "execute_result"
    }
   ],
   "source": [
    "String.fromCodePoint(0x20BB7)"
   ]
  },
  {
   "cell_type": "markdown",
   "metadata": {},
   "source": [
    "### 字符串查找\n",
    "\n",
    "可以用于字符串查找的方法有:\n",
    "\n",
    "+ includes(searchvalue [,fromindex])\n",
    "    \n",
    "    返回布尔值，表示是否找到了参数字符串。\n",
    "    \n",
    "+ startsWith(searchvalue [,fromindex])\n",
    "\n",
    "    返回布尔值，表示参数字符串是否在源字符串的头部\n",
    "\n",
    "+ endsWith(searchvalue [,fromindex]) \n",
    "\n",
    "    返回布尔值，表示参数字符串是否在源字符串的尾部。\n",
    "\n",
    "+ indexOf(searchvalue [,fromindex])\n",
    "\n",
    "    返回某个指定的字符串值在字符串中首次出现的位置,不存在则返回-1\n",
    "    \n",
    "这四个方法都支持第二个参数，表示开始搜索的位置。使用第二个参数n时，endsWith的行为与其他两个方法有所不同。它针对前n个字符，而其他两个方法针对从第n个位置直到字符串结束。\n",
    "\n"
   ]
  },
  {
   "cell_type": "code",
   "execution_count": 99,
   "metadata": {
    "collapsed": false
   },
   "outputs": [
    {
     "name": "stdout",
     "output_type": "stream",
     "text": [
      "true\n",
      "true\n",
      "false\n",
      "2\n"
     ]
    },
    {
     "data": {
      "text/plain": [
       "undefined"
      ]
     },
     "execution_count": 99,
     "metadata": {},
     "output_type": "execute_result"
    }
   ],
   "source": [
    "var s = 'Hello world!';\n",
    "\n",
    "console.log(s.startsWith('world', 6)) // true\n",
    "console.log(s.endsWith('Hello', 5)) // true\n",
    "console.log(s.includes('Hello', 6)) // false\n",
    "console.log(s.indexOf('llo'))"
   ]
  },
  {
   "cell_type": "markdown",
   "metadata": {},
   "source": [
    "### 重复字符串\n",
    "\n",
    "repeat()方法可以返回一个由原字符串重复好几次的新字符串"
   ]
  },
  {
   "cell_type": "code",
   "execution_count": 101,
   "metadata": {
    "collapsed": false
   },
   "outputs": [
    {
     "data": {
      "text/plain": [
       "'niconiconi'"
      ]
     },
     "execution_count": 101,
     "metadata": {},
     "output_type": "execute_result"
    }
   ],
   "source": [
    "'ni'+'coni'.repeat(2)"
   ]
  },
  {
   "cell_type": "markdown",
   "metadata": {},
   "source": [
    "这个方法如果接收\n",
    "\n",
    "+ 负数或者Infinity，\n",
    "\n",
    "    会报错\n",
    "    \n",
    "+ 0到-1之间的小数,NaN\n",
    "\n",
    "    等同于0\n",
    "    \n",
    "+ 字符串\n",
    "\n",
    "    先转成数字再判断"
   ]
  },
  {
   "cell_type": "markdown",
   "metadata": {},
   "source": [
    "### 模板字符串\n",
    "\n",
    "不用再羡慕python中字符创的format()方法了,ES6中有了模板字符串,它使用\\`\\`包裹,使用`${varname}`表示占位字符,而并不需要再用format()这样的方法来做占位符的匹配,占位字符会自己与作用域中的变量匹配"
   ]
  },
  {
   "cell_type": "code",
   "execution_count": 106,
   "metadata": {
    "collapsed": false
   },
   "outputs": [
    {
     "data": {
      "text/plain": [
       "'use strict'"
      ]
     },
     "execution_count": 106,
     "metadata": {},
     "output_type": "execute_result"
    }
   ],
   "source": [
    "var temple = `${name}今年${age}岁啦 `\n",
    "var name = \"小亮\"\n",
    "var age = 27"
   ]
  },
  {
   "cell_type": "code",
   "execution_count": 107,
   "metadata": {
    "collapsed": false
   },
   "outputs": [
    {
     "data": {
      "text/plain": [
       "'小亮今年27岁啦 '"
      ]
     },
     "execution_count": 107,
     "metadata": {},
     "output_type": "execute_result"
    }
   ],
   "source": [
    "temple"
   ]
  },
  {
   "cell_type": "markdown",
   "metadata": {},
   "source": [
    "如果模板字符串中的变量没有声明，将报错,如果要用模板本身,可以用包裹字符串的对象构建一个Fuction对象,来实现"
   ]
  },
  {
   "cell_type": "code",
   "execution_count": 115,
   "metadata": {
    "collapsed": false
   },
   "outputs": [
    {
     "data": {
      "text/plain": [
       "'Hello Jack!'"
      ]
     },
     "execution_count": 115,
     "metadata": {},
     "output_type": "execute_result"
    }
   ],
   "source": [
    "let str = 'return ' + '`Hello ${name}!`';\n",
    "let func = new Function('name', str);\n",
    "func('Jack')"
   ]
  },
  {
   "cell_type": "code",
   "execution_count": 118,
   "metadata": {
    "collapsed": false
   },
   "outputs": [
    {
     "data": {
      "text/plain": [
       "'use strict'"
      ]
     },
     "execution_count": 118,
     "metadata": {},
     "output_type": "execute_result"
    }
   ],
   "source": [
    "function temple(name){\n",
    "    return `hello ${name}!`\n",
    "}"
   ]
  },
  {
   "cell_type": "code",
   "execution_count": 119,
   "metadata": {
    "collapsed": false
   },
   "outputs": [
    {
     "data": {
      "text/plain": [
       "'hello jack!'"
      ]
     },
     "execution_count": 119,
     "metadata": {},
     "output_type": "execute_result"
    }
   ],
   "source": [
    "temple('jack')"
   ]
  },
  {
   "cell_type": "markdown",
   "metadata": {},
   "source": [
    "### 类型转换\n",
    "\n",
    "类似number,把一个其他对象转换成字符串的方式是使用String()函数\n",
    "\n",
    "它的规则是:\n",
    "\n",
    "+ 有toString()则调用它\n",
    "+ 值是null则返回\"null\"\n",
    "+ 值是undefined则返回\"undefined\""
   ]
  },
  {
   "cell_type": "markdown",
   "metadata": {},
   "source": [
    "## 布尔值\n",
    "\n",
    "布尔值只有true、false两种值，要么是true，要么是false，可以直接用true、false表示布尔值\n"
   ]
  },
  {
   "cell_type": "code",
   "execution_count": 40,
   "metadata": {
    "collapsed": false,
    "scrolled": true
   },
   "outputs": [
    {
     "data": {
      "text/plain": [
       "true"
      ]
     },
     "execution_count": 40,
     "metadata": {},
     "output_type": "execute_result"
    }
   ],
   "source": [
    "true"
   ]
  },
  {
   "cell_type": "markdown",
   "metadata": {},
   "source": [
    "和python类似,js也提供了大量的假值\n",
    "\n",
    "假值| 类型\n",
    "---|---\n",
    "0|Number\n",
    "NaN|Number\n",
    "''|String\n",
    "false|Boolean\n",
    "null|Object\n",
    "undefined|Undefined\n",
    "\n",
    "这之外的值都是真值"
   ]
  },
  {
   "cell_type": "markdown",
   "metadata": {},
   "source": [
    "## null\n",
    "\n",
    "null表示一个“空”的值，它和0以及空字符串''不同，0是一个数值，''表示长度为0的字符串，而null表示“空”。\n",
    "\n",
    "在其他语言中，也有类似JavaScript的null的表示，例如Java也用null，Swift用nil，Python用None表示。但是，在JavaScript中，还有一个和null类似的undefined，它表示“未定义”。\n",
    "\n",
    "JavaScript的设计者希望用null表示一个空的值\n",
    "\n",
    "**但注意**\n",
    "\n",
    "typeof(null)返回的是object,只是因为事实上null应当表示一个空的对象指针."
   ]
  },
  {
   "cell_type": "code",
   "execution_count": 43,
   "metadata": {
    "collapsed": false
   },
   "outputs": [
    {
     "data": {
      "text/plain": [
       "null"
      ]
     },
     "execution_count": 43,
     "metadata": {},
     "output_type": "execute_result"
    }
   ],
   "source": [
    "null"
   ]
  },
  {
   "cell_type": "code",
   "execution_count": 44,
   "metadata": {
    "collapsed": false
   },
   "outputs": [
    {
     "data": {
      "text/plain": [
       "'object'"
      ]
     },
     "execution_count": 44,
     "metadata": {},
     "output_type": "execute_result"
    }
   ],
   "source": [
    "typeof(null)"
   ]
  },
  {
   "cell_type": "markdown",
   "metadata": {},
   "source": [
    "## undefined\n",
    "\n",
    "undefined表示值未定义。它既是值得类型,也是这个类型唯一的值.事实证明，这并没有什么卵用。大多数情况下，我们都应该用null.undefined仅仅在判断函数参数是否传递的情况下有用."
   ]
  },
  {
   "cell_type": "markdown",
   "metadata": {},
   "source": [
    "##  object\n",
    "\n",
    "这个比较特殊,object是特殊的默认类型,可以说除了其他外的所有对象都是object类型.对象是引用类型，如果变量x表示一个对象，当执行var y = x;语句后，实际上y和x指向的是同一个对象。所以，当你通过y改变对象的值，这种变化也会反映到x上。\n",
    "\n",
    "在js中对象很容易创建,只要使用大括号,像python中写字典一样就行了"
   ]
  },
  {
   "cell_type": "code",
   "execution_count": 42,
   "metadata": {
    "collapsed": false
   },
   "outputs": [
    {
     "data": {
      "text/plain": [
       "'object'"
      ]
     },
     "execution_count": 42,
     "metadata": {},
     "output_type": "execute_result"
    }
   ],
   "source": [
    "typeof({})"
   ]
  },
  {
   "cell_type": "markdown",
   "metadata": {},
   "source": [
    "就像python中的运算符一样,每个object都有几个对应的方法和属性,后面会详细讲"
   ]
  },
  {
   "cell_type": "markdown",
   "metadata": {},
   "source": [
    "在后面面向对象的部分我们会详细解析Object对象"
   ]
  },
  {
   "cell_type": "markdown",
   "metadata": {},
   "source": [
    "## symbol(参考自ECMAScript 6 入门一书)"
   ]
  },
  {
   "cell_type": "markdown",
   "metadata": {},
   "source": [
    "这个是ES6新增的类型,作用就一个,给一个对象做个唯一标识.\n",
    "\n",
    "JS中对象属性名都是字符串，这容易造成属性名的冲突。比如，你使用了一个他人提供的对象，但又想为这个对象添加新的方法（mixin模式），新方法的名字就有可能与现有方法产生冲突。如果有一种机制，保证每个属性的名字都是独一无二的就好了，这样就从根本上防止属性名的冲突。这就是ES6引入Symbol的原因。\n",
    "\n",
    "Symbol值通过Symbol函数生成。这就是说，对象的属性名现在可以有两种类型，一种是原来就有的字符串，另一种就是新增的Symbol类型。凡是属性名属于Symbol类型，就都是独一无二的，可以保证不会与其他属性名产生冲突。"
   ]
  },
  {
   "cell_type": "code",
   "execution_count": 9,
   "metadata": {
    "collapsed": false
   },
   "outputs": [
    {
     "data": {
      "text/plain": [
       "'symbol'"
      ]
     },
     "execution_count": 9,
     "metadata": {},
     "output_type": "execute_result"
    }
   ],
   "source": [
    "typeof(Symbol())"
   ]
  },
  {
   "cell_type": "markdown",
   "metadata": {},
   "source": [
    "Symbol函数可以接受一个字符串作为参数，表示对Symbol实例的描述(可以理解为注释或者标签)，主要是为了在控制台显示，或者转为字符串时，比较容易区分。"
   ]
  },
  {
   "cell_type": "code",
   "execution_count": 10,
   "metadata": {
    "collapsed": false
   },
   "outputs": [
    {
     "data": {
      "text/plain": [
       "'use strict'"
      ]
     },
     "execution_count": 10,
     "metadata": {},
     "output_type": "execute_result"
    }
   ],
   "source": [
    "let s1 = Symbol(\"is s1\")"
   ]
  },
  {
   "cell_type": "code",
   "execution_count": 11,
   "metadata": {
    "collapsed": false
   },
   "outputs": [
    {
     "data": {
      "text/plain": [
       "'use strict'"
      ]
     },
     "execution_count": 11,
     "metadata": {},
     "output_type": "execute_result"
    }
   ],
   "source": [
    "let s2 = Symbol(\"is s2\")"
   ]
  },
  {
   "cell_type": "code",
   "execution_count": 12,
   "metadata": {
    "collapsed": false
   },
   "outputs": [
    {
     "data": {
      "text/plain": [
       "Symbol(is s1)"
      ]
     },
     "execution_count": 12,
     "metadata": {},
     "output_type": "execute_result"
    }
   ],
   "source": [
    "s1"
   ]
  },
  {
   "cell_type": "code",
   "execution_count": 13,
   "metadata": {
    "collapsed": false
   },
   "outputs": [
    {
     "data": {
      "text/plain": [
       "Symbol(is s2)"
      ]
     },
     "execution_count": 13,
     "metadata": {},
     "output_type": "execute_result"
    }
   ],
   "source": [
    "s2"
   ]
  },
  {
   "cell_type": "code",
   "execution_count": 14,
   "metadata": {
    "collapsed": false
   },
   "outputs": [
    {
     "data": {
      "text/plain": [
       "'Symbol(is s1)'"
      ]
     },
     "execution_count": 14,
     "metadata": {},
     "output_type": "execute_result"
    }
   ],
   "source": [
    "s1.toString()"
   ]
  },
  {
   "cell_type": "code",
   "execution_count": 15,
   "metadata": {
    "collapsed": false
   },
   "outputs": [
    {
     "data": {
      "text/plain": [
       "'Symbol(is s2)'"
      ]
     },
     "execution_count": 15,
     "metadata": {},
     "output_type": "execute_result"
    }
   ],
   "source": [
    "s2.toString()"
   ]
  },
  {
   "cell_type": "markdown",
   "metadata": {},
   "source": [
    "上面代码中，s1和s2是两个Symbol值。如果不加参数，它们在控制台的输出都是Symbol()，不利于区分。有了参数以后，就等于为它们加上了描述，输出的时候就能够分清，到底是哪一个值。\n",
    "\n",
    "**注意**，Symbol函数的参数只是表示对当前Symbol值的描述，因此相同参数的Symbol函数的返回值是不相等的。\n",
    "\n",
    "Symbol值不能与其他类型的值进行运算，会报错。\n",
    "但可以用`toString()`方法返回字符串,也可以用`Boolean()`函数或者作为判断表达式的内容转变为布尔值,它的意义是\"存在\"或者\"非空\""
   ]
  },
  {
   "cell_type": "code",
   "execution_count": 16,
   "metadata": {
    "collapsed": false
   },
   "outputs": [
    {
     "data": {
      "text/plain": [
       "true"
      ]
     },
     "execution_count": 16,
     "metadata": {},
     "output_type": "execute_result"
    }
   ],
   "source": [
    "Boolean(s1)"
   ]
  },
  {
   "cell_type": "code",
   "execution_count": 18,
   "metadata": {
    "collapsed": false
   },
   "outputs": [
    {
     "name": "stdout",
     "output_type": "stream",
     "text": [
      "true\n"
     ]
    },
    {
     "data": {
      "text/plain": [
       "undefined"
      ]
     },
     "execution_count": 18,
     "metadata": {},
     "output_type": "execute_result"
    }
   ],
   "source": [
    "if (s1){\n",
    "    console.log(\"true\")\n",
    "}"
   ]
  },
  {
   "cell_type": "markdown",
   "metadata": {},
   "source": [
    "Symbol的特点是不会重复,这样可以避免不小心重写覆盖,的主要用法:\n",
    "\n",
    "+ 作为对象中的属性(在面向对象部分详细讲用法)\n",
    "+ 作为常量"
   ]
  },
  {
   "cell_type": "markdown",
   "metadata": {},
   "source": [
    "> 例1"
   ]
  },
  {
   "cell_type": "code",
   "execution_count": 23,
   "metadata": {
    "collapsed": false
   },
   "outputs": [
    {
     "name": "stdout",
     "output_type": "stream",
     "text": [
      "Symbol(debug) 'debug message'\n",
      "Symbol(info) 'info message'\n"
     ]
    },
    {
     "data": {
      "text/plain": [
       "undefined"
      ]
     },
     "execution_count": 23,
     "metadata": {},
     "output_type": "execute_result"
    }
   ],
   "source": [
    "function log(level,msg){\n",
    "    return console.log(level,msg)\n",
    "}\n",
    "log.levels = {\n",
    "  DEBUG: Symbol('debug'),\n",
    "  INFO: Symbol('info'),\n",
    "  WARN: Symbol('warn'),\n",
    "}\n",
    "log(log.levels.DEBUG, 'debug message')\n",
    "log(log.levels.INFO, 'info message')"
   ]
  },
  {
   "cell_type": "markdown",
   "metadata": {},
   "source": [
    "> 例2 "
   ]
  },
  {
   "cell_type": "code",
   "execution_count": 26,
   "metadata": {
    "collapsed": false
   },
   "outputs": [
    {
     "data": {
      "text/plain": [
       "'use strict'"
      ]
     },
     "execution_count": 26,
     "metadata": {},
     "output_type": "execute_result"
    }
   ],
   "source": [
    "const COLOR_RED    = Symbol(\"red\");\n",
    "const COLOR_GREEN  = Symbol(\"green\");\n",
    "\n",
    "function getComplement(color) {\n",
    "  switch (color) {\n",
    "    case COLOR_RED:\n",
    "      return COLOR_GREEN;\n",
    "    case COLOR_GREEN:\n",
    "      return COLOR_RED;\n",
    "    default:\n",
    "      throw new Error('Undefined color');\n",
    "    }\n",
    "}"
   ]
  },
  {
   "cell_type": "code",
   "execution_count": 27,
   "metadata": {
    "collapsed": false
   },
   "outputs": [
    {
     "data": {
      "text/plain": [
       "Symbol(red)"
      ]
     },
     "execution_count": 27,
     "metadata": {},
     "output_type": "execute_result"
    }
   ],
   "source": [
    "getComplement(COLOR_GREEN)"
   ]
  },
  {
   "cell_type": "markdown",
   "metadata": {},
   "source": [
    "常量使用Symbol值最大的好处，就是其他任何值都不可能有相同的值了，因此可以保证上面的switch语句会按设计的方式工作。"
   ]
  },
  {
   "cell_type": "markdown",
   "metadata": {},
   "source": [
    "> 实例：消除魔术字符串\n",
    "\n",
    "魔术字符串指的是，在代码之中多次出现、与代码形成强耦合的某一个具体的字符串或者数值。风格良好的代码，应该尽量消除魔术字符串，该由含义清晰的变量代替。"
   ]
  },
  {
   "cell_type": "code",
   "execution_count": 28,
   "metadata": {
    "collapsed": false
   },
   "outputs": [
    {
     "data": {
      "text/plain": [
       "5000"
      ]
     },
     "execution_count": 28,
     "metadata": {},
     "output_type": "execute_result"
    }
   ],
   "source": [
    "function getArea(shape, options) {\n",
    "  var area = 0\n",
    "\n",
    "  switch (shape) {\n",
    "    case 'Triangle': // 魔术字符串\n",
    "      area = .5 * options.width * options.height;\n",
    "      break\n",
    "    /* ... more code ... */\n",
    "  }\n",
    "\n",
    "  return area\n",
    "}\n",
    "\n",
    "getArea('Triangle', { width: 100, height: 100 }) // 魔术字符串"
   ]
  },
  {
   "cell_type": "markdown",
   "metadata": {},
   "source": [
    "上面代码中，字符串“Triangle”就是一个魔术字符串。它多次出现，与代码形成“强耦合”，不利于将来的修改和维护。\n",
    "\n",
    "常用的消除魔术字符串的方法，就是把它写成一个变量。"
   ]
  },
  {
   "cell_type": "code",
   "execution_count": 50,
   "metadata": {
    "collapsed": false
   },
   "outputs": [
    {
     "data": {
      "text/plain": [
       "5000"
      ]
     },
     "execution_count": 50,
     "metadata": {},
     "output_type": "execute_result"
    }
   ],
   "source": [
    "var shapeType = {\n",
    "  triangle: 'Triangle'\n",
    "}\n",
    "\n",
    "function getArea(shape, options) {\n",
    "  var area = 0\n",
    "  switch (shape) {\n",
    "    case shapeType.triangle:\n",
    "      area = .5 * options.width * options.height\n",
    "      break\n",
    "  }\n",
    "  return area\n",
    "}\n",
    "\n",
    "getArea(shapeType.triangle, { width: 100, height: 100 })\n"
   ]
  },
  {
   "cell_type": "markdown",
   "metadata": {},
   "source": [
    "上面代码中，我们把“Triangle”写成shapeType对象的triangle属性，这样就消除了强耦合。\n",
    "\n",
    "如果仔细分析，可以发现shapeType.triangle等于哪个值并不重要，只要确保不会跟其他shapeType属性的值冲突即可。因此，这里就很适合改用Symbol值。"
   ]
  },
  {
   "cell_type": "code",
   "execution_count": 51,
   "metadata": {
    "collapsed": false
   },
   "outputs": [
    {
     "data": {
      "text/plain": [
       "5000"
      ]
     },
     "execution_count": 51,
     "metadata": {},
     "output_type": "execute_result"
    }
   ],
   "source": [
    "const shapeType = {\n",
    "  triangle: Symbol()\n",
    "}\n",
    "function getArea(shape, options) {\n",
    "  var area = 0\n",
    "  switch (shape) {\n",
    "    case shapeType.triangle:\n",
    "      area = .5 * options.width * options.height\n",
    "      break\n",
    "  }\n",
    "  return area\n",
    "}\n",
    "\n",
    "getArea(shapeType.triangle, { width: 100, height: 100 })\n"
   ]
  },
  {
   "cell_type": "markdown",
   "metadata": {},
   "source": [
    "### Symbol.for()和Symbol.keyFor()\n",
    "\n",
    "有时，我们希望重新使用同一个Symbol值，Symbol.for方法可以做到这一点。它接受一个字符串作为参数，然后搜索有没有以该参数作为名称的Symbol值。如果有，就返回这个Symbol值，否则就新建并返回一个以该字符串为名称的Symbol值。"
   ]
  },
  {
   "cell_type": "code",
   "execution_count": 52,
   "metadata": {
    "collapsed": false
   },
   "outputs": [
    {
     "data": {
      "text/plain": [
       "true"
      ]
     },
     "execution_count": 52,
     "metadata": {},
     "output_type": "execute_result"
    }
   ],
   "source": [
    "var s1 = Symbol.for('foo');\n",
    "var s2 = Symbol.for('foo');\n",
    "\n",
    "s1 === s2 "
   ]
  },
  {
   "cell_type": "markdown",
   "metadata": {},
   "source": [
    "上面代码中，s1和s2都是Symbol值，但是它们都是同样参数的Symbol.for方法生成的，所以实际上是同一个值。\n",
    "\n",
    "Symbol.for()与Symbol()这两种写法，都会生成新的Symbol。它们的区别是，前者会被登记在全局环境中供搜索，后者不会。Symbol.for()不会每次调用就返回一个新的Symbol类型的值，而是会先检查给定的key是否已经存在，如果不存在才会新建一个值。比如，如果你调用Symbol.for(\"cat\")30次，每次都会返回同一个Symbol值，但是调用Symbol(\"cat\")30次，会返回30个不同的Symbol值。"
   ]
  },
  {
   "cell_type": "code",
   "execution_count": 54,
   "metadata": {
    "collapsed": false
   },
   "outputs": [
    {
     "data": {
      "text/plain": [
       "true"
      ]
     },
     "execution_count": 54,
     "metadata": {},
     "output_type": "execute_result"
    }
   ],
   "source": [
    "Symbol.for(\"bar\") === Symbol.for(\"bar\")"
   ]
  },
  {
   "cell_type": "code",
   "execution_count": 55,
   "metadata": {
    "collapsed": false
   },
   "outputs": [
    {
     "data": {
      "text/plain": [
       "false"
      ]
     },
     "execution_count": 55,
     "metadata": {},
     "output_type": "execute_result"
    }
   ],
   "source": [
    "Symbol(\"bar\") === Symbol(\"bar\")"
   ]
  },
  {
   "cell_type": "markdown",
   "metadata": {},
   "source": [
    "上面代码中，由于Symbol()写法没有登记机制，所以每次调用都会返回一个不同的值。"
   ]
  },
  {
   "cell_type": "markdown",
   "metadata": {},
   "source": [
    "Symbol.keyFor方法返回一个已登记的Symbol类型值的key。\n",
    "\n",
    "\n",
    "需要注意的是，Symbol.for为Symbol值登记的名字，是全局环境的，可以在不同的iframe或service worker中取到同一个值。\n",
    "\n",
    "```javascript\n",
    "iframe = document.createElement('iframe');\n",
    "iframe.src = String(window.location);\n",
    "document.body.appendChild(iframe);\n",
    "\n",
    "iframe.contentWindow.Symbol.for('foo') === Symbol.for('foo')\n",
    "// true\n",
    "```\n",
    "上面代码中，iframe窗口生成的Symbol值，可以在主页面得到。\n",
    "\n"
   ]
  },
  {
   "cell_type": "markdown",
   "metadata": {},
   "source": [
    "### 除了定义自己使用的Symbol值以外，ES6还提供了11个内置的Symbol值，指向语言内部使用的方法。\n",
    "\n",
    "#### Symbol.hasInstance\n",
    "\n",
    "**babel未实现**\n",
    "\n",
    "对象的`Symbol.hasInstance`属性，指向一个内部方法。当其他对象使用`instanceof`运算符，判断是否为该对象的实例时，会调用这个方法。比如，`foo instanceof Foo`在语言内部，实际调用的是`Foo[Symbol.hasInstance](foo)`"
   ]
  },
  {
   "cell_type": "markdown",
   "metadata": {},
   "source": [
    "#### Symbol.isConcatSpreadable\n",
    "\n",
    "**babel未实现**\n",
    "\n",
    "对象的`Symbol.isConcatSpreadable`属性等于一个布尔值，表示该对象使用`Array.prototype.concat()`时，是否可以展开。"
   ]
  },
  {
   "cell_type": "markdown",
   "metadata": {},
   "source": [
    "#### Symbol.species\n",
    "\n",
    "**babel未实现**\n",
    "\n",
    "对象的Symbol.species属性，指向一个方法。该对象作为构造函数创造实例时，会调用这个方法。即如果this.constructor[Symbol.species]存在，就会使用这个属性作为构造函数，来创造新的实例对象。\n",
    "\n",
    "Symbol.species属性默认的读取器如下。"
   ]
  },
  {
   "cell_type": "markdown",
   "metadata": {},
   "source": [
    "#### Symbol.match\n",
    "\n",
    "**babel未实现**\n",
    "\n",
    "对象的`Symbol.match`属性，指向一个函数。当执行`str.match(myObject)`时，如果该属性存在，会调用它，返回该方法的返回值。"
   ]
  },
  {
   "cell_type": "markdown",
   "metadata": {},
   "source": [
    "#### Symbol.replace\n",
    "\n",
    "\n",
    "**babel未实现**\n",
    "\n",
    "对象的Symbol.replace属性，指向一个方法，当该对象被String.prototype.replace方法调用时，会返回该方法的返回值。"
   ]
  },
  {
   "cell_type": "markdown",
   "metadata": {},
   "source": [
    "#### Symbol.search\n",
    "\n",
    "**babel未实现**\n",
    "\n",
    "对象的Symbol.search属性，指向一个方法，当该对象被String.prototype.search方法调用时，会返回该方法的返回值。"
   ]
  },
  {
   "cell_type": "markdown",
   "metadata": {},
   "source": [
    "#### Symbol.split\n",
    "\n",
    "**babel未实现**\n",
    "对象的Symbol.split属性，指向一个方法，当该对象被String.prototype.split方法调用时，会返回该方法的返回值。"
   ]
  },
  {
   "cell_type": "markdown",
   "metadata": {},
   "source": [
    "#### Symbol.iterator\n",
    "\n",
    "**babel未实现**\n",
    "\n",
    "对象的Symbol.iterator属性，指向该对象的默认遍历器方法，即该对象进行for...of循环时，会调用这个方法，返回该对象的默认遍历器，详细介绍参见《Iterator和for...of循环》一章。\n",
    "\n",
    "\n"
   ]
  },
  {
   "cell_type": "markdown",
   "metadata": {},
   "source": [
    "#### Symbol.toPrimitive\n",
    "\n",
    "**babel未实现**\n",
    "\n",
    "对象的Symbol.toPrimitive属性，指向一个方法。该对象被转为原始类型的值时，会调用这个方法，返回该对象对应的原始类型值。\n",
    "\n",
    "Symbol.toPrimitive被调用时，会接受一个字符串参数，表示当前运算的模式，一共有三种模式。\n",
    "\n",
    "Number：该场合需要转成数值\n",
    "String：该场合需要转成字符串\n",
    "Default：该场合可以转成数值，也可以转成字符串\n",
    "\n"
   ]
  },
  {
   "cell_type": "markdown",
   "metadata": {},
   "source": [
    "#### Symbol.toStringTag\n",
    "\n",
    "**babel未实现**\n",
    "\n",
    "对象的Symbol.toStringTag属性，指向一个方法。在该对象上面调用Object.prototype.toString方法时，如果这个属性存在，它的返回值会出现在toString方法返回的字符串之中，表示对象的类型。也就是说，这个属性可以用来定制[object Object]或[object Array]中object后面的那个字符串。\n",
    "\n",
    "\n",
    "ES6新增内置对象的Symbol.toStringTag属性值如下。\n",
    "\n",
    "+ JSON[Symbol.toStringTag]：'JSON'\n",
    "+ Math[Symbol.toStringTag]：'Math'\n",
    "+ Module对象M[Symbol.toStringTag]：'Module'\n",
    "+ ArrayBuffer.prototype[Symbol.toStringTag]：'ArrayBuffer'\n",
    "+ DataView.prototype[Symbol.toStringTag]：'DataView'\n",
    "+ Map.prototype[Symbol.toStringTag]：'Map'\n",
    "+ Promise.prototype[Symbol.toStringTag]：'Promise'\n",
    "+ Set.prototype[Symbol.toStringTag]：'Set'\n",
    "+ %TypedArray%.prototype[Symbol.toStringTag]：'Uint8Array'等\n",
    "+ WeakMap.prototype[Symbol.toStringTag]：'WeakMap'\n",
    "+ WeakSet.prototype[Symbol.toStringTag]：'WeakSet'\n",
    "+ %MapIteratorPrototype%[Symbol.toStringTag]：'Map Iterator'\n",
    "+ %SetIteratorPrototype%[Symbol.toStringTag]：'Set Iterator'\n",
    "+ %StringIteratorPrototype%[Symbol.toStringTag]：'String Iterator'\n",
    "+ Symbol.prototype[Symbol.toStringTag]：'Symbol'\n",
    "+ Generator.prototype[Symbol.toStringTag]：'Generator'\n",
    "+ GeneratorFunction.prototype[Symbol.toStringTag]：'GeneratorFunction'"
   ]
  },
  {
   "cell_type": "markdown",
   "metadata": {},
   "source": [
    "#### Symbol.unscopables\n",
    "\n",
    "**babel未实现**\n",
    "\n",
    "对象的Symbol.unscopables属性，指向一个对象。该对象指定了使用with关键字时，哪些属性会被with环境排除。"
   ]
  },
  {
   "cell_type": "markdown",
   "metadata": {},
   "source": [
    "## 局部变量和全局变量--变量的作用域\n",
    "\n",
    "js的作用域基本可以分为这么几块:\n",
    "\n",
    "+ 全局变量(无包裹)\n",
    "+ 局部变量(被函数包裹)\n",
    "+ 块级变量(被{}包裹)\n",
    "\n",
    "而声明变量的关键字有三个:\n",
    "\n",
    "关键字|说明\n",
    "---|---\n",
    "变量 var  |     在Js中用`var`定义的变量是局部变量,而不用`var`则是全局变量(不建议不加声明)\n",
    "不可变量 const  |  const是不变量,也就是常说的常量,类似scala的val,一旦赋值就不可变\n",
    "块级作用域  let |变量在ES6中新增了命令let,它的用法类似于var，但是所声明的变量，只在let命令所在的代码块内有效。let并不支持变量提升,当然了我也不支持,变量本来就因该先声明再操作.\n"
   ]
  },
  {
   "cell_type": "code",
   "execution_count": 7,
   "metadata": {
    "collapsed": false
   },
   "outputs": [
    {
     "data": {
      "text/plain": [
       "'use strict'"
      ]
     },
     "execution_count": 7,
     "metadata": {},
     "output_type": "execute_result"
    }
   ],
   "source": [
    "let Pi=3.14"
   ]
  },
  {
   "cell_type": "code",
   "execution_count": 10,
   "metadata": {
    "collapsed": false
   },
   "outputs": [
    {
     "data": {
      "text/plain": [
       "'use strict'"
      ]
     },
     "execution_count": 10,
     "metadata": {},
     "output_type": "execute_result"
    }
   ],
   "source": [
    "function round(r){\n",
    "    var R = r\n",
    "    return Pi*R*R\n",
    "}"
   ]
  },
  {
   "cell_type": "code",
   "execution_count": 11,
   "metadata": {
    "collapsed": false
   },
   "outputs": [
    {
     "data": {
      "text/plain": [
       "12.56"
      ]
     },
     "execution_count": 11,
     "metadata": {},
     "output_type": "execute_result"
    }
   ],
   "source": [
    "round(2)"
   ]
  },
  {
   "cell_type": "code",
   "execution_count": 12,
   "metadata": {
    "collapsed": false,
    "scrolled": true
   },
   "outputs": [
    {
     "ename": "ReferenceError",
     "evalue": "R is not defined",
     "output_type": "error",
     "traceback": [
      "ReferenceError: R is not defined",
      "    at evalmachine.<anonymous>:3:1",
      "    at Object.exports.runInThisContext (vm.js:54:17)",
      "    at run ([eval]:192:19)",
      "    at onMessage ([eval]:63:41)",
      "    at emitTwo (events.js:87:13)",
      "    at process.emit (events.js:172:7)",
      "    at handleMessage (internal/child_process.js:686:10)",
      "    at Pipe.channel.onread (internal/child_process.js:440:11)"
     ]
    }
   ],
   "source": [
    "R//R是局域变量,"
   ]
  }
 ],
 "metadata": {
  "kernelspec": {
   "display_name": "Babel (Node.js)",
   "language": "babel",
   "name": "babel"
  },
  "language_info": {
   "file_extension": "js",
   "mimetype": "application/javascript",
   "name": "javascript",
   "version": "4.2.4"
  }
 },
 "nbformat": 4,
 "nbformat_minor": 0
}
