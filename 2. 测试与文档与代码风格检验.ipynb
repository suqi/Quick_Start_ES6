{
 "cells": [
  {
   "cell_type": "markdown",
   "metadata": {},
   "source": [
    "# 代码风格检验\n",
    "\n",
    "Javascript作为动态语言,它本身并没有类型检验,因此需要一个工具来做语法检验从而减少出错,这个工具就是[`eslint`](https://github.com/eslint/eslint/)\n",
    "\n",
    "安装不多说了\n",
    "\n",
    "    npm install eslint --save-dev\n",
    "\n",
    "## 使用\n",
    "\n",
    "1. 配置\n",
    "\n",
    "使用`node_modules/.bin/eslint --init`命令,回答一系列问题后就会创建一个配置文件`.eslintrc.json`文件,修改之\n",
    "\n",
    "```javascript\n",
    "\n",
    "    \"env\": {\n",
    "        \"browser\": true,\n",
    "        \"es6\": true\n",
    "    },\n",
    "    \"extends\": \"eslint:recommended\",\n",
    "    \"parser\": \"babel-eslint\",\n",
    "    \"parserOptions\": {\n",
    "        \"ecmaFeatures\": {\n",
    "            \"experimentalObjectRestSpread\": true,\n",
    "            \"jsx\": true\n",
    "        },\n",
    "        \"sourceType\": \"module\"\n",
    "    },\n",
    "    \"plugins\": [\n",
    "        \"react\"\n",
    "    ],\n",
    "    \"rules\": {\n",
    "        \"indent\": [\n",
    "            \"error\",\n",
    "            4\n",
    "        ],\n",
    "        \"linebreak-style\": [\n",
    "            \"error\",\n",
    "            \"unix\"\n",
    "        ],\n",
    "        \"quotes\": [\n",
    "            \"error\",\n",
    "            \"double\"\n",
    "        ],\n",
    "        \"semi\": [\n",
    "            \"error\",\n",
    "            \"never\"\n",
    "        ]\n",
    "    }\n",
    "}\n",
    "```\n",
    "之后就可以使用了"
   ]
  },
  {
   "cell_type": "markdown",
   "metadata": {},
   "source": [
    "使用:\n",
    "\n",
    "    node_modules/.bin/eslint frompath topath\n"
   ]
  },
  {
   "cell_type": "markdown",
   "metadata": {},
   "source": [
    "# api文档自动生成\n",
    "\n",
    "python可以使用段注释自动的生成文档,但js不行,必须借助第三方工具实现,这个工具就是`esdoc`\n",
    "\n",
    "安装依然是\n",
    "\n",
    "```shell\n",
    "npm install esdoc --save-dev\n",
    "```\n",
    "\n",
    "之后使用我们看个例子"
   ]
  },
  {
   "cell_type": "markdown",
   "metadata": {},
   "source": [
    ">例1: 用esdoc生成api文档并输出html文档"
   ]
  },
  {
   "cell_type": "markdown",
   "metadata": {},
   "source": [
    "1. js文件:\n",
    "\n",
    "```javascript\n",
    "/**\n",
    " * this is MyClass.\n",
    " */\n",
    "export default class MyClass {\n",
    "  /**\n",
    "   * @param {number} param this is param.\n",
    "   * @return {number} this is return.\n",
    "   */\n",
    "  method(param){}\n",
    "}\n",
    "\n",
    "```\n",
    "\n",
    "看注释,使用\n",
    "\n",
    "```javascript\n",
    "/**\n",
    "*\n",
    "*/\n",
    "```\n",
    "\n",
    "包裹的注释可以成为文档,其中使用@开头的行会被辨识为是有特殊意义的标签\n",
    "\n",
    "所有的标签说明可以在[官网](https://esdoc.org/tags.html)找到\n",
    "\n",
    "需要注意的是:\n",
    "\n",
    "```\n",
    "@param {number} param this is param.\n",
    "```\n",
    "\n",
    "代表输入的形参属性,要有几个参数写几个,按顺序写,`{number}`表示类型,`param`是形参名 后面的是说明\n",
    "\n",
    "2. 写配置`esdoc.json`\n",
    "\n",
    "```javascript\n",
    "{\n",
    "  \"source\": \"./js/src\",//源文件位置\n",
    "  \"destination\": \"./esdoc\",//生成文档目标文件夹\n",
    "  \"coverage\": true//是否统计覆盖率\n",
    "}\n",
    "\n",
    "```\n",
    "\n",
    "\n",
    "3. 使用\n",
    "\n",
    "    esdoc -c ./esdoc.json"
   ]
  },
  {
   "cell_type": "markdown",
   "metadata": {},
   "source": [
    "# 断言\n",
    "\n",
    "js并没有断言语句,我们可以使用[chai](http://chaijs.com/)来实现断言功能\n",
    "\n",
    "安装依然是npm安装\n",
    "\n",
    "    npm install chai --save-dev\n",
    "\n",
    "chai有三种断言风格\n",
    "\n",
    "+ Assert风格\n",
    "\n",
    "    类似python中的assert语句\n",
    "    \n",
    "    ```javascript\n",
    "    var assert = chai.assert\n",
    "\n",
    "    assert.typeOf(foo, 'string')\n",
    "    assert.equal(foo, 'bar')\n",
    "    assert.lengthOf(foo, 3)\n",
    "    assert.property(tea, 'flavors')\n",
    "    assert.lengthOf(tea.flavors, 3)\n",
    "    ```\n",
    "    这种风格代码最保守,我比较习惯用\n",
    "    \n",
    "+ Expect\n",
    "\n",
    "    推断方法,相对更加接近口语化,英语看来就是\"我推测xxx是ooo\"这样\n",
    "    \n",
    "    ```javascript\n",
    "    var expect = chai.expect\n",
    "\n",
    "    expect(foo).to.be.a('string')\n",
    "    expect(foo).to.equal('bar')\n",
    "    expect(foo).to.have.length(3)\n",
    "    expect(tea).to.have.property('flavors').with.length(3)\n",
    "    ```\n",
    "    这种风格比较中庸,好像是最受欢迎的一种\n",
    "    \n",
    "+ Should\n",
    "    \n",
    "    最口语化得一种风格,意识是\"xxx应该是ooo\"\n",
    "    \n",
    "    ```javascript\n",
    "    chai.should()\n",
    "\n",
    "    foo.should.be.a('string')\n",
    "    foo.should.equal('bar')\n",
    "    foo.should.have.length(3)\n",
    "    tea.should.have.property('flavors').with.length(3)\n",
    "    ```\n",
    "    这种风格不建议用,会修改原型"
   ]
  },
  {
   "cell_type": "markdown",
   "metadata": {},
   "source": [
    "# 测试框架\n",
    "\n",
    "做代码测试可以使用[mocha](http://mochajs.org/)来做, \n",
    "\n",
    "\n",
    "安装依然是npm\n",
    "\n",
    "    npm install mocha --save-dev\n",
    "    \n",
    "## 使用:\n",
    "\n",
    "\n",
    "写测试代码:\n",
    "\n",
    "```javascript\n",
    "var assert = require('chai').assert\n",
    "describe('Array', function() {\n",
    "  describe('#indexOf()', function () {\n",
    "    it('should return -1 when the value is not present', function () {\n",
    "      assert.equal(-1, [1,2,3].indexOf(5))\n",
    "      assert.equal(-1, [1,2,3].indexOf(0))\n",
    "    })\n",
    "  })\n",
    "})\n",
    "```\n",
    "\n",
    "测试代码形如上面,用到了chai库\n",
    "\n",
    "+ describe(des,func)方法是一个测试的描述,一般一个describe()描述一个方法或类\n",
    "+ it(des,func)方法则是一个测试具体的一个分支,一般一个it()描述一个方法的一种可能输入条件\n",
    "+ mocha支持定义钩子,可以使用的钩子有:\n",
    "\n",
    "    + before(func)定义某操作之前的操作\n",
    "    + after(func) 定义某操作之后的操作\n",
    "    + beforeEach(func)定义块内每个操作之前的操作 \n",
    "    + afterEach(func) 定义块内每个操作之后的操作\n",
    "    \n",
    "+ mocha支持测试自定义操作\n",
    "    \n",
    "    + skip(des,func)跳过某测试\n",
    "    + only(des,func)只进行某操作\n",
    "    \n",
    "+ 输出为文档\n",
    "\n",
    "    可以配合`mochawesome`输出测试结果为美观的文档\n",
    "    安装:\n",
    "        npm install mochawesome --save-dev\n",
    "        \n",
    "+ 测试配置\n",
    "    \n",
    "    mocha默认会找test文件夹下的文件做测试,我们也要在这个文件夹下写配置要使用es6则可以这样写配置`mocha.opts`\n",
    "    \n",
    "    ```javascript\n",
    "    --recursive\n",
    "    --compilers js:babel-core/register\n",
    "    --reporter mochawesome\n",
    "\n",
    "    ```\n",
    "\n",
    "+ 使用\n",
    "\n",
    "    项目目录下直接使用`mocha`即可\n",
    "    \n",
    "        "
   ]
  },
  {
   "cell_type": "markdown",
   "metadata": {},
   "source": [
    "# 测试覆盖率\n",
    "\n",
    "[isparta](https://github.com/douglasduteil/isparta)是es6标准的代码覆盖率工具,用它来做测试覆盖率统计很方便:\n",
    "\n",
    "安装:\n",
    "\n",
    "    npm install isparta --save-dev\n",
    "    \n",
    "安装完后只要这样用就好了\n",
    "\n",
    "```shell\n",
    "./node_modules/.bin/babel-node ./node_modules/.bin/isparta cover --report html ./node_modules/.bin/_mocha \n",
    "```\n"
   ]
  },
  {
   "cell_type": "markdown",
   "metadata": {},
   "source": [
    "# 性能基准测试\n",
    "\n",
    "在大型项目中我们有可能会希望通过对比来查看某个功能的不同实现会有怎样不同的表现,这时候就可以使用`Benchmark.js`\n",
    "\n",
    "安装:\n",
    "\n",
    "    npm install --save-dev  benchmark\n",
    "    \n",
    "使用:\n",
    "\n",
    "> 例:"
   ]
  },
  {
   "cell_type": "markdown",
   "metadata": {},
   "source": [
    "我们知道js中字符串相连是有两种方式的:"
   ]
  },
  {
   "cell_type": "code",
   "execution_count": 1,
   "metadata": {
    "collapsed": false
   },
   "outputs": [
    {
     "data": {
      "text/plain": [
       "'asdfghjkl'"
      ]
     },
     "execution_count": 1,
     "metadata": {},
     "output_type": "execute_result"
    }
   ],
   "source": [
    "\"asdfg\"+\"hjkl\""
   ]
  },
  {
   "cell_type": "code",
   "execution_count": 2,
   "metadata": {
    "collapsed": false
   },
   "outputs": [
    {
     "data": {
      "text/plain": [
       "'asdfghjkl'"
      ]
     },
     "execution_count": 2,
     "metadata": {},
     "output_type": "execute_result"
    }
   ],
   "source": [
    "\"asdfg\".concat(\"hjkl\")"
   ]
  },
  {
   "cell_type": "markdown",
   "metadata": {},
   "source": [
    "让我么来测测哪个快"
   ]
  },
  {
   "cell_type": "markdown",
   "metadata": {},
   "source": [
    "待测代码 `strconcat.js`:\n",
    "\n",
    "```js\n",
    "export function str_plus(str1,str2) {\n",
    "    return str1+str2\n",
    "}\n",
    "export function str_concat(str1,str2) {\n",
    "    return str1.concat(str2)\n",
    "}\n",
    "\n",
    "```"
   ]
  },
  {
   "cell_type": "markdown",
   "metadata": {},
   "source": [
    "测试代码`strconcat.benchmark.js`:\n",
    "\n",
    "```js\n",
    "import {str_plus,str_concat} from \"./strconcat\"\n",
    "import Benchmark from 'benchmark'\n",
    "let str1 = \"asdfg\"\n",
    "let str2 = \"hjkl\"\n",
    "\n",
    "var suite = new Benchmark.Suite\n",
    "// 添加测试\n",
    "suite\n",
    ".add('+', function() {\n",
    "  str_plus(str1,str2)\n",
    "})\n",
    ".add('concat', function() {\n",
    "  str_concat(str1,str2)\n",
    "})\n",
    "// 每个测试跑完后，输出信息\n",
    ".on('cycle', function(event) {\n",
    "  console.log(String(event.target))\n",
    "})\n",
    ".on('complete', function() {\n",
    "  console.log('Fastest is ' + this.filter('fastest').map('name'))\n",
    "})\n",
    "// 这里的 async 不是 mocha 测试那个 async 的意思，这个选项与它的时间计算有关，默认勾上就好了。\n",
    ".run({ 'async': true })\n",
    "\n",
    "```"
   ]
  },
  {
   "cell_type": "markdown",
   "metadata": {},
   "source": [
    "之后再直接用`babel-node`运行即可"
   ]
  },
  {
   "cell_type": "markdown",
   "metadata": {},
   "source": [
    "# 在交互环境中测试\n",
    "\n",
    "我们同样可以在`babel-node`或者我们的`jupyter notebook`中做测试"
   ]
  },
  {
   "cell_type": "code",
   "execution_count": 4,
   "metadata": {
    "collapsed": false
   },
   "outputs": [
    {
     "data": {
      "text/plain": [
       "'use strict'"
      ]
     },
     "execution_count": 4,
     "metadata": {},
     "output_type": "execute_result"
    }
   ],
   "source": [
    "function str_plus(str1,str2) {\n",
    "    return str1+str2\n",
    "}\n",
    "function str_concat(str1,str2) {\n",
    "    return str1.concat(str2)\n",
    "}"
   ]
  },
  {
   "cell_type": "code",
   "execution_count": 8,
   "metadata": {
    "collapsed": false
   },
   "outputs": [
    {
     "data": {
      "text/plain": [
       "Suite {\n",
       "  '0': \n",
       "   Benchmark {\n",
       "     name: '+',\n",
       "     options: \n",
       "      { async: false,\n",
       "        defer: false,\n",
       "        delay: 0.005,\n",
       "        id: undefined,\n",
       "        initCount: 1,\n",
       "        maxTime: 5,\n",
       "        minSamples: 5,\n",
       "        minTime: 0.05,\n",
       "        name: undefined,\n",
       "        onAbort: undefined,\n",
       "        onComplete: undefined,\n",
       "        onCycle: undefined,\n",
       "        onError: undefined,\n",
       "        onReset: undefined,\n",
       "        onStart: undefined },\n",
       "     async: false,\n",
       "     defer: false,\n",
       "     delay: 0.005,\n",
       "     initCount: 1,\n",
       "     maxTime: 5,\n",
       "     minSamples: 5,\n",
       "     minTime: 0.05,\n",
       "     id: 3,\n",
       "     fn: [Function],\n",
       "     stats: \n",
       "      { moe: 0,\n",
       "        rme: 0,\n",
       "        sem: 0,\n",
       "        deviation: 0,\n",
       "        mean: 0,\n",
       "        sample: [],\n",
       "        variance: 0 },\n",
       "     times: { cycle: 0, elapsed: 0, period: 0, timeStamp: 0 },\n",
       "     _timerId: \n",
       "      { _called: false,\n",
       "        _idleTimeout: 5,\n",
       "        _idlePrev: [Object],\n",
       "        _idleNext: [Object],\n",
       "        _idleStart: 2085575,\n",
       "        _onTimeout: [Function],\n",
       "        _repeat: null } },\n",
       "  '1': \n",
       "   Benchmark {\n",
       "     name: 'concat',\n",
       "     options: \n",
       "      { async: false,\n",
       "        defer: false,\n",
       "        delay: 0.005,\n",
       "        id: undefined,\n",
       "        initCount: 1,\n",
       "        maxTime: 5,\n",
       "        minSamples: 5,\n",
       "        minTime: 0.05,\n",
       "        name: undefined,\n",
       "        onAbort: undefined,\n",
       "        onComplete: undefined,\n",
       "        onCycle: undefined,\n",
       "        onError: undefined,\n",
       "        onReset: undefined,\n",
       "        onStart: undefined },\n",
       "     async: false,\n",
       "     defer: false,\n",
       "     delay: 0.005,\n",
       "     initCount: 1,\n",
       "     maxTime: 5,\n",
       "     minSamples: 5,\n",
       "     minTime: 0.05,\n",
       "     id: 4,\n",
       "     fn: [Function],\n",
       "     stats: \n",
       "      { moe: 0,\n",
       "        rme: 0,\n",
       "        sem: 0,\n",
       "        deviation: 0,\n",
       "        mean: 0,\n",
       "        sample: [],\n",
       "        variance: 0 },\n",
       "     times: { cycle: 0, elapsed: 0, period: 0, timeStamp: 0 } },\n",
       "  name: undefined,\n",
       "  options: { name: undefined },\n",
       "  length: 2,\n",
       "  events: { cycle: [ [Function] ], complete: [ [Function] ] },\n",
       "  running: true }"
      ]
     },
     "execution_count": 8,
     "metadata": {},
     "output_type": "execute_result"
    },
    {
     "name": "stdout",
     "output_type": "stream",
     "text": [
      "+ x 72,966,058 ops/sec ±3.10% (71 runs sampled)\n",
      "concat x 23,597,976 ops/sec ±2.11% (73 runs sampled)\n",
      "Fastest is +\n"
     ]
    }
   ],
   "source": [
    "import Benchmark from 'benchmark'\n",
    "let str1 = \"asdfg\"\n",
    "let str2 = \"hjkl\"\n",
    "\n",
    "var suite = new Benchmark.Suite\n",
    "\n",
    "try{\n",
    "    // 添加测试\n",
    "suite\n",
    ".add('+', function() {\n",
    "  str_plus(str1,str2)\n",
    "})\n",
    ".add('concat', function() {\n",
    "  str_concat(str1,str2)\n",
    "})\n",
    "// 每个测试跑完后，输出信息\n",
    ".on('cycle', function(event) {\n",
    "  console.log(String(event.target))\n",
    "})\n",
    ".on('complete', function() {\n",
    "  console.log('Fastest is ' + this.filter('fastest').map('name'))\n",
    "})\n",
    "// 这里的 async 不是 mocha 测试那个 async 的意思，这个选项与它的时间计算有关，默认勾上就好了。\n",
    ".run({ 'async': true })\n",
    "} catch(err) {\n",
    "    console.log(err)\n",
    "}\n"
   ]
  },
  {
   "cell_type": "markdown",
   "metadata": {},
   "source": [
    "可见其实+运算符还是蛮好"
   ]
  }
 ],
 "metadata": {
  "kernelspec": {
   "display_name": "Babel (Node.js)",
   "language": "babel",
   "name": "babel"
  },
  "language_info": {
   "file_extension": "js",
   "mimetype": "application/javascript",
   "name": "javascript",
   "version": "4.4.3"
  }
 },
 "nbformat": 4,
 "nbformat_minor": 0
}
